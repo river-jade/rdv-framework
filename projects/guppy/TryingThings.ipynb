{
 "metadata": {
  "name": "TryingThings"
 },
 "nbformat": 3,
 "nbformat_minor": 0,
 "worksheets": [
  {
   "cells": [
    {
     "cell_type": "markdown",
     "metadata": {},
     "source": [
      "Using NetpbmFile.\n",
      "\n",
      "Examples originally derived from __main__ and imread() in netpbmfile.py."
     ]
    },
    {
     "cell_type": "code",
     "collapsed": false,
     "input": [
      "import numpy\n",
      "import netpbmfile\n",
      "import os\n",
      "from matplotlib import pyplot\n",
      "\n",
      "print \"\\nIn directory: '\" + os.getcwd() + \"'\"\n",
      "filename = \"/Users/Bill/D/Projects_RMIT/AAA_PapersInProgress/G01 - simulated_ecology/MaxentTests/AlexsSyntheticLandscapes/IDLOutputAll2/H02/H02_96.256.pgm\"\n",
      "###\"H00_1.256.pgm\"\n",
      "\n",
      "\n",
      "if True:\n",
      "    img = netpbmfile.imread (filename)\n",
      "    cmap = 'gray'\n",
      "else:\n",
      "    try:\n",
      "        netpbm = netpbmfile.NetpbmFile(filename)\n",
      "        img = netpbm.asarray()\n",
      "        netpbm.close()\n",
      "        cmap = 'gray' if netpbm.maxval > 1 else 'binary'\n",
      "    except ValueError as e:\n",
      "        print(filename, e)\n",
      "    #    continue    #  only do this if reading through a loop of filenames and you want to jump over the display logic below\n",
      "\n",
      "print \"    img.ndim = '\" + str(img.ndim) + \"'\"\n",
      "print \"    img.shape = '\" + str(img.shape) + \"'\"\n",
      "\n",
      "_shape = img.shape\n",
      "if img.ndim > 3 or (img.ndim > 2 and img.shape[-1] not in (3, 4)):    #  I have no idea what second clause is doing here...\n",
      "    img = img[0]\n",
      "pyplot.imshow(img, cmap, interpolation='nearest')\n",
      "pyplot.title(\"%s\\n%s %s %s\" % (filename, unicode(netpbm.magicnum),\n",
      "                              _shape, img.dtype))\n",
      "pyplot.show()\n"
     ],
     "language": "python",
     "metadata": {},
     "outputs": [
      {
       "output_type": "stream",
       "stream": "stdout",
       "text": [
        "\n",
        "In directory: '/Users/Bill/D/rdv-framework/projects/guppy'\n",
        "    img.ndim = '2'"
       ]
      },
      {
       "ename": "NameError",
       "evalue": "name 'netpbm' is not defined",
       "output_type": "pyerr",
       "traceback": [
        "\u001b[0;31m---------------------------------------------------------------------------\u001b[0m\n\u001b[0;31mNameError\u001b[0m                                 Traceback (most recent call last)",
        "\u001b[0;32m<ipython-input-1-d268f62e67ef>\u001b[0m in \u001b[0;36m<module>\u001b[0;34m()\u001b[0m\n\u001b[1;32m     29\u001b[0m     \u001b[0mimg\u001b[0m \u001b[0;34m=\u001b[0m \u001b[0mimg\u001b[0m\u001b[0;34m[\u001b[0m\u001b[0;36m0\u001b[0m\u001b[0;34m]\u001b[0m\u001b[0;34m\u001b[0m\u001b[0m\n\u001b[1;32m     30\u001b[0m \u001b[0mpyplot\u001b[0m\u001b[0;34m.\u001b[0m\u001b[0mimshow\u001b[0m\u001b[0;34m(\u001b[0m\u001b[0mimg\u001b[0m\u001b[0;34m,\u001b[0m \u001b[0mcmap\u001b[0m\u001b[0;34m,\u001b[0m \u001b[0minterpolation\u001b[0m\u001b[0;34m=\u001b[0m\u001b[0;34m'nearest'\u001b[0m\u001b[0;34m)\u001b[0m\u001b[0;34m\u001b[0m\u001b[0m\n\u001b[0;32m---> 31\u001b[0;31m pyplot.title(\"%s\\n%s %s %s\" % (filename, unicode(netpbm.magicnum),\n\u001b[0m\u001b[1;32m     32\u001b[0m                               _shape, img.dtype))\n\u001b[1;32m     33\u001b[0m \u001b[0mpyplot\u001b[0m\u001b[0;34m.\u001b[0m\u001b[0mshow\u001b[0m\u001b[0;34m(\u001b[0m\u001b[0;34m)\u001b[0m\u001b[0;34m\u001b[0m\u001b[0m\n",
        "\u001b[0;31mNameError\u001b[0m: name 'netpbm' is not defined"
       ]
      },
      {
       "output_type": "stream",
       "stream": "stdout",
       "text": [
        "\n",
        "    img.shape = '(256, 256)'\n"
       ]
      }
     ],
     "prompt_number": 1
    },
    {
     "cell_type": "markdown",
     "metadata": {},
     "source": [
      "Timing and various ?range-style commands\n",
      "\n",
      "Originally derived from examples in:  http://stackoverflow.com/questions/10698858/built-in-range-or-numpy-arange-which-is-more-efficient"
     ]
    },
    {
     "cell_type": "code",
     "collapsed": false,
     "input": [
      "import numpy as np\n",
      "\n",
      "%timeit for i in range(1000000): pass\n",
      "%timeit for i in np.arange(1000000): pass\n",
      "%timeit for i in xrange(1000000): pass"
     ],
     "language": "python",
     "metadata": {},
     "outputs": []
    },
    {
     "cell_type": "markdown",
     "metadata": {},
     "source": [
      "Shape and summarizing over rows or columns using the \"axis=\" argument to commands like \"median\"\n",
      "\n",
      "Based on:\n",
      "http://stackoverflow.com/questions/13753251/median-combining-fits-images-in-python"
     ]
    },
    {
     "cell_type": "code",
     "collapsed": false,
     "input": [
      "\n",
      "\n",
      "import numpy\n",
      "from pprint import pprint\n",
      "a = numpy.array([[1,2,3,4],[5,6,7,8]])\n",
      "b = numpy.array([[11,12,13,14],[15,16,17,18]])\n",
      "c = numpy.array([[21,22,23,24],[25,26,27,28]])\n",
      "x = numpy.array([[31,32,33,34],[35,36,37,38]])\n",
      "\n",
      "#d = numpy.array([a,b,c])\n",
      "d = numpy.zeros((4,2,4))\n",
      "\n",
      "pprint (a)\n",
      "print a.shape\n",
      "pprint (b)\n",
      "print b.shape\n",
      "pprint (c)\n",
      "print c.shape\n",
      "\n",
      "pprint (d)\n",
      "print d.shape\n",
      "\n",
      "d[0,:,:] = a\n",
      "d[1,:,:] = b\n",
      "d[2,:,:] = c\n",
      "d[3,:,:] = x\n",
      "\n",
      "print d[1,1,1]\n",
      "print d[2,0,2]\n",
      "print d[0,0,3]\n",
      "\n",
      "pprint (d)\n",
      "print d.shape\n",
      "\n",
      "numpy.median (d, axis=0)"
     ],
     "language": "python",
     "metadata": {},
     "outputs": [
      {
       "output_type": "stream",
       "stream": "stdout",
       "text": [
        "array([[1, 2, 3, 4],\n",
        "       [5, 6, 7, 8]])\n",
        "(2, 4)\n",
        "array([[11, 12, 13, 14],\n",
        "       [15, 16, 17, 18]])\n",
        "(2, 4)\n",
        "array([[21, 22, 23, 24],\n",
        "       [25, 26, 27, 28]])\n",
        "(2, 4)\n",
        "array([[[ 0.,  0.,  0.,  0.],\n",
        "        [ 0.,  0.,  0.,  0.]],\n",
        "\n",
        "       [[ 0.,  0.,  0.,  0.],\n",
        "        [ 0.,  0.,  0.,  0.]],\n",
        "\n",
        "       [[ 0.,  0.,  0.,  0.],\n",
        "        [ 0.,  0.,  0.,  0.]],\n",
        "\n",
        "       [[ 0.,  0.,  0.,  0.],\n",
        "        [ 0.,  0.,  0.,  0.]]])\n",
        "(4, 2, 4)\n",
        "16.0\n",
        "23.0\n",
        "4.0\n",
        "array([[[  1.,   2.,   3.,   4.],\n",
        "        [  5.,   6.,   7.,   8.]],\n",
        "\n",
        "       [[ 11.,  12.,  13.,  14.],\n",
        "        [ 15.,  16.,  17.,  18.]],\n",
        "\n",
        "       [[ 21.,  22.,  23.,  24.],\n",
        "        [ 25.,  26.,  27.,  28.]],\n",
        "\n",
        "       [[ 31.,  32.,  33.,  34.],\n",
        "        [ 35.,  36.,  37.,  38.]]])\n",
        "(4, 2, 4)\n"
       ]
      },
      {
       "output_type": "pyout",
       "prompt_number": 2,
       "text": [
        "array([[ 16.,  17.,  18.,  19.],\n",
        "       [ 20.,  21.,  22.,  23.]])"
       ]
      }
     ],
     "prompt_number": 2
    },
    {
     "cell_type": "markdown",
     "metadata": {},
     "source": [
      "Finding operating system name (aka os or platform)"
     ]
    },
    {
     "cell_type": "code",
     "collapsed": false,
     "input": [
      "import os\n",
      "print os.name\n",
      "\n",
      "from sys import platform as _platform\n",
      "\n",
      "\"\"\"\n",
      "if _platform == \"linux\" or _platform == \"linux2\":\n",
      "    # linux\n",
      "elif _platform == \"darwin\":\n",
      "    # OS X\n",
      "elif _platform == \"win32\":\n",
      "    # Windows...\n",
      "\"\"\"\n",
      "\n",
      "print _platform\n",
      "\n",
      "print \"_platform startswith linux\"\n",
      "print _platform.startswith (\"linux\")\n",
      "\n",
      "print \"_platform startswith dar\"\n",
      "print _platform.startswith (\"dar\")\n",
      "\n",
      "print \"os.name startswith linux\"\n",
      "print os.name.startswith (\"linux\")\n",
      "\n",
      "print \"os.name startswith posi\"\n",
      "print os.name.startswith (\"posi\")\n",
      "\n",
      "print os.uname()"
     ],
     "language": "python",
     "metadata": {},
     "outputs": [
      {
       "output_type": "stream",
       "stream": "stdout",
       "text": [
        "posix\n",
        "darwin\n",
        "_platform startswith linux\n",
        "False\n",
        "_platform startswith dar\n",
        "True\n",
        "os.name startswith linux\n",
        "False\n",
        "os.name startswith posi\n",
        "True\n",
        "('Darwin', 'tests-MacBook-Pro.local', '11.4.2', 'Darwin Kernel Version 11.4.2: Thu Aug 23 16:25:48 PDT 2012; root:xnu-1699.32.7~1/RELEASE_X86_64', 'x86_64')\n"
       ]
      }
     ],
     "prompt_number": 3
    },
    {
     "cell_type": "code",
     "collapsed": false,
     "input": [],
     "language": "python",
     "metadata": {},
     "outputs": []
    }
   ],
   "metadata": {}
  }
 ]
}