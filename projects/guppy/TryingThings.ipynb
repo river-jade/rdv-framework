{
 "metadata": {
  "name": "TryingThings"
 },
 "nbformat": 3,
 "nbformat_minor": 0,
 "worksheets": [
  {
   "cells": [
    {
     "cell_type": "markdown",
     "metadata": {},
     "source": [
      "# Using NetpbmFile.\n",
      "\n",
      "Examples originally derived from __main__ and imread() in netpbmfile.py."
     ]
    },
    {
     "cell_type": "code",
     "collapsed": false,
     "input": [
      "import numpy\n",
      "import netpbmfile\n",
      "import os\n",
      "from matplotlib import pyplot\n",
      "\n",
      "print \"\\nIn directory: '\" + os.getcwd() + \"'\"\n",
      "filename = \"/Users/Bill/D/Projects_RMIT/AAA_PapersInProgress/G01 - simulated_ecology/MaxentTests/AlexsSyntheticLandscapes/IDLOutputAll2/H02/H02_96.256.pgm\"\n",
      "###\"H00_1.256.pgm\"\n",
      "\n",
      "\n",
      "if True:\n",
      "    img = netpbmfile.imread (filename)\n",
      "    cmap = 'gray'\n",
      "else:\n",
      "    try:\n",
      "        netpbm = netpbmfile.NetpbmFile(filename)\n",
      "        img = netpbm.asarray()\n",
      "        netpbm.close()\n",
      "        cmap = 'gray' if netpbm.maxval > 1 else 'binary'\n",
      "    except ValueError as e:\n",
      "        print(filename, e)\n",
      "    #    continue    #  only do this if reading through a loop of filenames and you want to jump over the display logic below\n",
      "\n",
      "print \"    img.ndim = '\" + str(img.ndim) + \"'\"\n",
      "print \"    img.shape = '\" + str(img.shape) + \"'\"\n",
      "\n",
      "_shape = img.shape\n",
      "if img.ndim > 3 or (img.ndim > 2 and img.shape[-1] not in (3, 4)):    #  I have no idea what second clause is doing here...\n",
      "    img = img[0]\n",
      "pyplot.imshow(img, cmap, interpolation='nearest')\n",
      "pyplot.title(\"%s\\n%s %s %s\" % (filename, unicode(netpbm.magicnum),\n",
      "                              _shape, img.dtype))\n",
      "pyplot.show()\n"
     ],
     "language": "python",
     "metadata": {},
     "outputs": [
      {
       "output_type": "stream",
       "stream": "stdout",
       "text": [
        "\n",
        "In directory: '/Users/Bill/D/rdv-framework/projects/guppy'\n",
        "    img.ndim = '2'"
       ]
      },
      {
       "ename": "NameError",
       "evalue": "name 'netpbm' is not defined",
       "output_type": "pyerr",
       "traceback": [
        "\u001b[0;31m---------------------------------------------------------------------------\u001b[0m\n\u001b[0;31mNameError\u001b[0m                                 Traceback (most recent call last)",
        "\u001b[0;32m<ipython-input-1-d268f62e67ef>\u001b[0m in \u001b[0;36m<module>\u001b[0;34m()\u001b[0m\n\u001b[1;32m     29\u001b[0m     \u001b[0mimg\u001b[0m \u001b[0;34m=\u001b[0m \u001b[0mimg\u001b[0m\u001b[0;34m[\u001b[0m\u001b[0;36m0\u001b[0m\u001b[0;34m]\u001b[0m\u001b[0;34m\u001b[0m\u001b[0m\n\u001b[1;32m     30\u001b[0m \u001b[0mpyplot\u001b[0m\u001b[0;34m.\u001b[0m\u001b[0mimshow\u001b[0m\u001b[0;34m(\u001b[0m\u001b[0mimg\u001b[0m\u001b[0;34m,\u001b[0m \u001b[0mcmap\u001b[0m\u001b[0;34m,\u001b[0m \u001b[0minterpolation\u001b[0m\u001b[0;34m=\u001b[0m\u001b[0;34m'nearest'\u001b[0m\u001b[0;34m)\u001b[0m\u001b[0;34m\u001b[0m\u001b[0m\n\u001b[0;32m---> 31\u001b[0;31m pyplot.title(\"%s\\n%s %s %s\" % (filename, unicode(netpbm.magicnum),\n\u001b[0m\u001b[1;32m     32\u001b[0m                               _shape, img.dtype))\n\u001b[1;32m     33\u001b[0m \u001b[0mpyplot\u001b[0m\u001b[0;34m.\u001b[0m\u001b[0mshow\u001b[0m\u001b[0;34m(\u001b[0m\u001b[0;34m)\u001b[0m\u001b[0;34m\u001b[0m\u001b[0m\n",
        "\u001b[0;31mNameError\u001b[0m: name 'netpbm' is not defined"
       ]
      },
      {
       "output_type": "stream",
       "stream": "stdout",
       "text": [
        "\n",
        "    img.shape = '(256, 256)'\n"
       ]
      }
     ],
     "prompt_number": 1
    },
    {
     "cell_type": "markdown",
     "metadata": {},
     "source": [
      "Timing and various ?range-style commands\n",
      "\n",
      "Originally derived from examples in:  http://stackoverflow.com/questions/10698858/built-in-range-or-numpy-arange-which-is-more-efficient"
     ]
    },
    {
     "cell_type": "code",
     "collapsed": false,
     "input": [
      "import numpy as np\n",
      "\n",
      "%timeit for i in range(1000000): pass\n",
      "%timeit for i in np.arange(1000000): pass\n",
      "%timeit for i in xrange(1000000): pass"
     ],
     "language": "python",
     "metadata": {},
     "outputs": []
    },
    {
     "cell_type": "markdown",
     "metadata": {},
     "source": [
      "# Shape and summarizing over rows or columns using the \"axis=\" argument to commands like \"median\"\n",
      "\n",
      "Based on:\n",
      "http://stackoverflow.com/questions/13753251/median-combining-fits-images-in-python"
     ]
    },
    {
     "cell_type": "code",
     "collapsed": false,
     "input": [
      "\n",
      "\n",
      "import numpy\n",
      "from pprint import pprint\n",
      "a = numpy.array([[1,2,3,4],[5,6,7,8]])\n",
      "b = numpy.array([[11,12,13,14],[15,16,17,18]])\n",
      "c = numpy.array([[21,22,23,24],[25,26,27,28]])\n",
      "x = numpy.array([[31,32,33,34],[35,36,37,38]])\n",
      "\n",
      "#d = numpy.array([a,b,c])\n",
      "d = numpy.zeros((4,2,4))\n",
      "\n",
      "pprint (a)\n",
      "print a.shape\n",
      "pprint (b)\n",
      "print b.shape\n",
      "pprint (c)\n",
      "print c.shape\n",
      "\n",
      "pprint (d)\n",
      "print d.shape\n",
      "\n",
      "d[0,:,:] = a\n",
      "d[1,:,:] = b\n",
      "d[2,:,:] = c\n",
      "d[3,:,:] = x\n",
      "\n",
      "print d[1,1,1]\n",
      "print d[2,0,2]\n",
      "print d[0,0,3]\n",
      "\n",
      "pprint (d)\n",
      "print d.shape\n",
      "\n",
      "numpy.median (d, axis=0)"
     ],
     "language": "python",
     "metadata": {},
     "outputs": [
      {
       "output_type": "stream",
       "stream": "stdout",
       "text": [
        "array([[1, 2, 3, 4],\n",
        "       [5, 6, 7, 8]])\n",
        "(2, 4)\n",
        "array([[11, 12, 13, 14],\n",
        "       [15, 16, 17, 18]])\n",
        "(2, 4)\n",
        "array([[21, 22, 23, 24],\n",
        "       [25, 26, 27, 28]])\n",
        "(2, 4)\n",
        "array([[[ 0.,  0.,  0.,  0.],\n",
        "        [ 0.,  0.,  0.,  0.]],\n",
        "\n",
        "       [[ 0.,  0.,  0.,  0.],\n",
        "        [ 0.,  0.,  0.,  0.]],\n",
        "\n",
        "       [[ 0.,  0.,  0.,  0.],\n",
        "        [ 0.,  0.,  0.,  0.]],\n",
        "\n",
        "       [[ 0.,  0.,  0.,  0.],\n",
        "        [ 0.,  0.,  0.,  0.]]])\n",
        "(4, 2, 4)\n",
        "16.0\n",
        "23.0\n",
        "4.0\n",
        "array([[[  1.,   2.,   3.,   4.],\n",
        "        [  5.,   6.,   7.,   8.]],\n",
        "\n",
        "       [[ 11.,  12.,  13.,  14.],\n",
        "        [ 15.,  16.,  17.,  18.]],\n",
        "\n",
        "       [[ 21.,  22.,  23.,  24.],\n",
        "        [ 25.,  26.,  27.,  28.]],\n",
        "\n",
        "       [[ 31.,  32.,  33.,  34.],\n",
        "        [ 35.,  36.,  37.,  38.]]])\n",
        "(4, 2, 4)\n"
       ]
      },
      {
       "output_type": "pyout",
       "prompt_number": 2,
       "text": [
        "array([[ 16.,  17.,  18.,  19.],\n",
        "       [ 20.,  21.,  22.,  23.]])"
       ]
      }
     ],
     "prompt_number": 2
    },
    {
     "cell_type": "markdown",
     "metadata": {},
     "source": [
      "# Finding operating system name (aka os or platform)"
     ]
    },
    {
     "cell_type": "code",
     "collapsed": false,
     "input": [
      "import os\n",
      "print os.name\n",
      "\n",
      "from sys import platform as _platform\n",
      "\n",
      "\"\"\"\n",
      "if _platform == \"linux\" or _platform == \"linux2\":\n",
      "    # linux\n",
      "elif _platform == \"darwin\":\n",
      "    # OS X\n",
      "elif _platform == \"win32\":\n",
      "    # Windows...\n",
      "\"\"\"\n",
      "\n",
      "print _platform\n",
      "\n",
      "print \"_platform startswith linux\"\n",
      "print _platform.startswith (\"linux\")\n",
      "\n",
      "print \"_platform startswith dar\"\n",
      "print _platform.startswith (\"dar\")\n",
      "\n",
      "print \"os.name startswith linux\"\n",
      "print os.name.startswith (\"linux\")\n",
      "\n",
      "print \"os.name startswith posi\"\n",
      "print os.name.startswith (\"posi\")\n",
      "\n",
      "print os.uname()"
     ],
     "language": "python",
     "metadata": {},
     "outputs": [
      {
       "output_type": "stream",
       "stream": "stdout",
       "text": [
        "posix\n",
        "darwin\n",
        "_platform startswith linux\n",
        "False\n",
        "_platform startswith dar\n",
        "True\n",
        "os.name startswith linux\n",
        "False\n",
        "os.name startswith posi\n",
        "True\n",
        "('Darwin', 'tests-MacBook-Pro.local', '11.4.2', 'Darwin Kernel Version 11.4.2: Thu Aug 23 16:25:48 PDT 2012; root:xnu-1699.32.7~1/RELEASE_X86_64', 'x86_64')\n"
       ]
      }
     ],
     "prompt_number": 3
    },
    {
     "cell_type": "markdown",
     "metadata": {},
     "source": [
      "# Dividing an array (or matrix?) by a constant."
     ]
    },
    {
     "cell_type": "code",
     "collapsed": false,
     "input": [
      "from numpy import array\n",
      "a = array([[1., 2., 3.], [4., 5., 6.]])\n",
      "print \"\\na = \"\n",
      "print a\n",
      "c = a / 3\n",
      "print \"\\nc = \"\n",
      "print c"
     ],
     "language": "python",
     "metadata": {},
     "outputs": [
      {
       "output_type": "stream",
       "stream": "stdout",
       "text": [
        "\n",
        "a = \n",
        "[[ 1.  2.  3.]\n",
        " [ 4.  5.  6.]]\n",
        "\n",
        "c = \n",
        "[[ 0.33333333  0.66666667  1.        ]\n",
        " [ 1.33333333  1.66666667  2.        ]]\n"
       ]
      }
     ],
     "prompt_number": 27
    },
    {
     "cell_type": "code",
     "collapsed": false,
     "input": [
      "print b.sum()"
     ],
     "language": "python",
     "metadata": {},
     "outputs": [
      {
       "output_type": "stream",
       "stream": "stdout",
       "text": [
        "7.0\n"
       ]
      }
     ],
     "prompt_number": 12
    },
    {
     "cell_type": "code",
     "collapsed": false,
     "input": [
      "print a / b.sum()"
     ],
     "language": "python",
     "metadata": {},
     "outputs": [
      {
       "output_type": "stream",
       "stream": "stdout",
       "text": [
        "[[ 0.14285714  0.28571429  0.42857143]\n",
        " [ 0.57142857  0.71428571  0.85714286]]\n"
       ]
      }
     ],
     "prompt_number": 13
    },
    {
     "cell_type": "markdown",
     "metadata": {},
     "source": [
      "# Normalizing an array"
     ]
    },
    {
     "cell_type": "code",
     "collapsed": false,
     "input": [
      "from numpy import array\n",
      "a = array([[1., 2., 3.], [4., 5., 6.]])\n",
      "print \"\\na = \"\n",
      "print a\n",
      "c = a / a.sum()\n",
      "print \"\\nc = \"\n",
      "print c\n",
      "print \"\\nc.sum() = \"\n",
      "print c.sum()"
     ],
     "language": "python",
     "metadata": {},
     "outputs": [
      {
       "output_type": "stream",
       "stream": "stdout",
       "text": [
        "\n",
        "a = \n",
        "[[ 1.  2.  3.]\n",
        " [ 4.  5.  6.]]\n",
        "\n",
        "c = \n",
        "[[ 0.04761905  0.0952381   0.14285714]\n",
        " [ 0.19047619  0.23809524  0.28571429]]\n",
        "\n",
        "c.sum() = \n",
        "1.0\n"
       ]
      }
     ],
     "prompt_number": 20
    },
    {
     "cell_type": "code",
     "collapsed": false,
     "input": [
      "print a.normalize()"
     ],
     "language": "python",
     "metadata": {},
     "outputs": [
      {
       "ename": "AttributeError",
       "evalue": "'numpy.ndarray' object has no attribute 'normalize'",
       "output_type": "pyerr",
       "traceback": [
        "\u001b[0;31m---------------------------------------------------------------------------\u001b[0m\n\u001b[0;31mAttributeError\u001b[0m                            Traceback (most recent call last)",
        "\u001b[0;32m<ipython-input-22-ce8257626124>\u001b[0m in \u001b[0;36m<module>\u001b[0;34m()\u001b[0m\n\u001b[0;32m----> 1\u001b[0;31m \u001b[0;32mprint\u001b[0m \u001b[0ma\u001b[0m\u001b[0;34m.\u001b[0m\u001b[0mnormalize\u001b[0m\u001b[0;34m(\u001b[0m\u001b[0;34m)\u001b[0m\u001b[0;34m\u001b[0m\u001b[0m\n\u001b[0m",
        "\u001b[0;31mAttributeError\u001b[0m: 'numpy.ndarray' object has no attribute 'normalize'"
       ]
      }
     ],
     "prompt_number": 22
    },
    {
     "cell_type": "code",
     "collapsed": false,
     "input": [
      "def normalizeArray (anArray):\n",
      "    return a / a.sum()\n",
      "    \n",
      "from numpy import array\n",
      "a = array([[1., 2., 3.], [4., 5., 6.]])\n",
      "print \"\\na = \"\n",
      "print a\n",
      "\n",
      "x = normalizeArray (a)\n",
      "\n",
      "print \"\\nx = normalizeArray (a) = \"\n",
      "print x\n",
      "\n",
      "print \"\\nx.sum() = \"\n",
      "print x.sum()"
     ],
     "language": "python",
     "metadata": {},
     "outputs": [
      {
       "output_type": "stream",
       "stream": "stdout",
       "text": [
        "\n",
        "a = \n",
        "[[ 1.  2.  3.]\n",
        " [ 4.  5.  6.]]\n",
        "\n",
        "x = normalizeArray (a) = \n",
        "[[ 0.04761905  0.0952381   0.14285714]\n",
        " [ 0.19047619  0.23809524  0.28571429]]\n",
        "\n",
        "x.sum() = \n",
        "1.0\n"
       ]
      }
     ],
     "prompt_number": 26
    },
    {
     "cell_type": "markdown",
     "metadata": {},
     "source": [
      "# rpy2 experiments"
     ]
    },
    {
     "cell_type": "code",
     "collapsed": false,
     "input": [
      "from rpy2.robjects import r\n",
      "\n",
      "r('''\n",
      "print(\"Hello World!\")\n",
      "''')"
     ],
     "language": "python",
     "metadata": {},
     "outputs": [
      {
       "output_type": "stream",
       "stream": "stdout",
       "text": [
        "[1] \"Hello World!\"\n"
       ]
      },
      {
       "output_type": "pyout",
       "prompt_number": 21,
       "text": [
        "<StrVector - Python:0x1020b3e60 / R:0x107a853f8>\n",
        "['Hello World!']"
       ]
      }
     ],
     "prompt_number": 21
    },
    {
     "cell_type": "markdown",
     "metadata": {},
     "source": [
      "# Trying to figure out how to assign to a slice \n",
      "\n",
      "For example, like you would assign x[,1]=1:10 in R."
     ]
    },
    {
     "cell_type": "code",
     "collapsed": false,
     "input": [
      "import numpy as np\n",
      "#x = np.zeros (20, dtype=int)\n",
      "x = np.zeros ((10,2), dtype=int)\n",
      "print x\n",
      "x[:,1] = range(10)\n",
      "print x"
     ],
     "language": "python",
     "metadata": {},
     "outputs": [
      {
       "output_type": "stream",
       "stream": "stdout",
       "text": [
        "[[0 0]\n",
        " [0 0]\n",
        " [0 0]\n",
        " [0 0]\n",
        " [0 0]\n",
        " [0 0]\n",
        " [0 0]\n",
        " [0 0]\n",
        " [0 0]\n",
        " [0 0]]\n",
        "[[0 0]\n",
        " [0 1]\n",
        " [0 2]\n",
        " [0 3]\n",
        " [0 4]\n",
        " [0 5]\n",
        " [0 6]\n",
        " [0 7]\n",
        " [0 8]\n",
        " [0 9]]\n"
       ]
      }
     ],
     "prompt_number": 42
    },
    {
     "cell_type": "markdown",
     "metadata": {},
     "source": [
      "# Building up genCombinedSppPresTable.py"
     ]
    },
    {
     "cell_type": "code",
     "collapsed": false,
     "input": [
      "import numpy\n",
      "import random\n",
      "import pandas as pd\n",
      "\n",
      "def verbose_xyRelToLowerLeft (n, numRows, numCols):\n",
      "    \"\"\"  Verbose form of: Compute the x,y coordinates of a given \n",
      "    index into the image array where the index starts with 0 in the \n",
      "    UPPER left and goes row by row.  The x,y coordinates that are \n",
      "    output (to give to maxent) have their origin in the LOWER left \n",
      "    and go row by row upward like a typical x,y plot.\n",
      "    Also, numbering of the rows and columns in the output considers \n",
      "    the origin to be just outside the array, so that the lower left \n",
      "    corner of the array is called location [1,1] instead of [0,0].\n",
      "\n",
      "    This routine is just to explain and test what the non-verbose \n",
      "    version does.  You don't want to use it unless there's a problem \n",
      "    with the x,y value to investigate.\n",
      "    \"\"\"\n",
      "    print \"In xyRelToLowerLeft (\" + str (n) + \", \" + str (numRows) + \", \" + str (numCols) + \")\"\n",
      "\n",
      "    x = (n % numCols) + 1\n",
      "    print \"    x = \" + str (x)\n",
      "    \n",
      "    rowFromTop = (n // numCols)\n",
      "    print \"    rowFromTop = \" + str (rowFromTop)\n",
      "    y = numRows - rowFromTop\n",
      "    print \"    y = \" + str (y)\n",
      "    \n",
      "    retVal = [ x, y ]\n",
      "    print \"    retVal = \"\n",
      "    print retVal\n",
      "    print\n",
      "\n",
      "    return retVal\n",
      "\n",
      "    #  NOTE: The R version of this routine seems to have been wrong.\n",
      "    #        For one thing, it only asked for the number of columns \n",
      "    #        rather than both rows and columns, since it assumed that \n",
      "    #        the image would be square.\n",
      "    #        Not sure if everything else about the routine was right.\n",
      "    #        Needs to be tested if it's going to be used again.  \n",
      "    #        This routine could be converted back to R, but if so, \n",
      "    #        need to modify to account for the fact that python arrays \n",
      "    #        start at 0 and R arrays start at 1.\n",
      "    \n",
      "def xyRelToLowerLeft (n, numRows, numCols):\n",
      "    \"\"\"  Compute the x,y coordinates of a given \n",
      "    index into the image array where the index starts with 0 in the \n",
      "    UPPER left and goes row by row.  The x,y coordinates that are \n",
      "    output (to give to maxent) have their origin in the LOWER left \n",
      "    and go row by row upward like a typical x,y plot.\n",
      "    Also, numbering of the rows and columns in the output considers \n",
      "    the origin to be just outside the array, so that the lower left \n",
      "    corner of the array is called location [1,1] instead of [0,0].\n",
      "    \"\"\"\n",
      "    return [ (n % numCols) + 1   ,   numRows - (n // numCols) ]\n",
      "     \n",
      "\n",
      "\n",
      "\n",
      "def test ():\n",
      "    numRows = 4\n",
      "    numCols = 5\n",
      "    for i in range (20):\n",
      "        retVal = xyRelToLowerLeft (i, numRows, numCols)\n",
      "        print str (i) + \" : \" \n",
      "        print retVal\n",
      "        print\n",
      "\n",
      "def genCombinedSppPresTable (numImgRows, numImgCols):\n",
      "    \"\"\"\n",
      "    Generate and return a table specifying all true species locations\n",
      "    (x,y values) for every species.\n",
      "    The table has 3 columns and each row gives the species ID\n",
      "    and then the x and y location of a true presence for that species\n",
      "    (relative to the lower left corner of the map, since that is what\n",
      "    maxent expects).\n",
      "    \"\"\"\n",
      "\n",
      "    numCells = numImgRows * numImgCols\n",
      "    \n",
      "    numSpp = 3    #  self.variables [\"PAR.num.spp.to.create\"]\n",
      "    minNumPres = 2    #  self.variables [\"PAR.minNumPres\"]\n",
      "    maxNumPres = 5    #self.variables [\"PAR.maxNumPres\"]\n",
      "\n",
      "    combinedSppPresTable = None\n",
      "\n",
      "        #  Randomly choose the number of presences to be generated for \n",
      "        #  for each species.\n",
      "        #  NOTE: Using an array here rather than a list, so that I can \n",
      "        #  use the sum() function on the array later.  \n",
      "        #  Maybe there is something similar for lists, but x.sum() on a \n",
      "        #  list gives an error.\n",
      "    numPresForEachSpp = numpy.zeros (numSpp, dtype=int)\n",
      "    for sppId in range (numSpp):\n",
      "        numPresForEachSpp [sppId] = random.randint (minNumPres, maxNumPres)\n",
      "        \n",
      "    print \"\\n\\nnumPresForEachSpp = \"\n",
      "    print numPresForEachSpp\n",
      "    \n",
      "        #  Compute the total number of presences to be generated.\n",
      "    totNumPres = numPresForEachSpp.sum()\n",
      "    print \"totNumPres = \" + str (totNumPres)\n",
      "    \n",
      "        #  Create a species name string for each species.\n",
      "    sppNames = ['spp.' + str(sppId+1) for sppId in range(numSpp)]\n",
      "    print \"sppNames = \"\n",
      "    print sppNames\n",
      "    \n",
      "        #  The table of presences that maxent expects needs each line \n",
      "        #  to show the species name and then the x and y coordinates \n",
      "        #  of that presence.\n",
      "        #  Build an array of repeated species names that will become \n",
      "        #  the first column of that table.  It will repeat each species \n",
      "        #  names so that there is one copy of the name for each presence \n",
      "        #  of that species.\n",
      "    repeatedSppNames = []\n",
      "    for curSppId in range (numSpp):\n",
      "        for curPresIdx in range (numPresForEachSpp [curSppId]):\n",
      "            repeatedSppNames.append (sppNames [curSppId])\n",
      "            \n",
      "    print \"repeatedSppNames = \"\n",
      "    print repeatedSppNames\n",
      "    \n",
      "#    curSppPresIndices = np.zeros (totNumPres, dtype=int)\n",
      "    curSppPresIndices = []\n",
      "            #  Unfortunately, can't do it this simply (i.e., directly generating \n",
      "            #  the x,y pairs) because that doesn't guarantee that you will \n",
      "            #  generate a unique set of points within each species.  \n",
      "            #  You have to be able to sample without replacement and do it that \n",
      "            #  within each species.  So, have to go back to drawing an index \n",
      "            #  into the array, without replacement for each species, and then \n",
      "            #  convert that into an x,y pair.\n",
      "    curPresIdx = 0\n",
      "    for sppIdx in range (numSpp):\n",
      "        curSppPresIndices.append (random.sample (range (numCells), numPresForEachSpp [sppIdx]))\n",
      "        \n",
      "    print curSppPresIndices\n",
      "    \n",
      "        #  This command to collapse the list comes from a response at:\n",
      "        #      http://stackoverflow.com/questions/952914/making-a-flat-list-out-of-list-of-lists-in-python\n",
      "        #  I have no idea why it works, but it does work...\n",
      "        #  Three other relevant comments follow that:\n",
      "        #   \tI keep coming back to this question because it just does not make \n",
      "        #       enough sense for me to remember it. \u2013 Noio Feb 20 at 16:19\n",
      "        #\n",
      "        #       Doesn't universally work! \n",
      "        #           l=[1,2,[3,4]] [item for sublist in l for item in sublist] \n",
      "        #       TypeError: 'int' object is not iterable \u2013 Sven Mar 27 at 14:00\n",
      "        #\n",
      "        #       @Noio It makes sense if you re-order it: \n",
      "        #           [item for item in sublist for sublist in l ]. \n",
      "        #       Of course, if you re-order it, then it won't make sense to Python, \n",
      "        #       because you're using sublist before you defined what it is. \n",
      "        #       \u2013 mehaase May 23 at 22:29\n",
      "    #curSppPresIndices = [item for sublist in curSppPresIndices for item in sublist]\n",
      "\n",
      "        #  A tiny comment on the same stack overflow page suggested using numpy.concatenate() instead:\n",
      "        #   \tnumpy.concatenate seems a bit faster than any of the methods here, \n",
      "        #       if you are willing to accept an array. \n",
      "        #       \u2013 Makoto Jul 19 '12 at 8:04\n",
      "        #  Since it's actually an array that I want, I've tried that now and it seems to work \n",
      "        #  (and be considerably clearer than the list comprehension above, which is also \n",
      "        #  referred to in another comment as a \"list incomprehension\" and amusingly,that remark got \n",
      "        #  99 votes so I suspect I'm not alone here..))\n",
      "    curSppPresIndices = numpy.concatenate (curSppPresIndices)\n",
      "    \n",
      "    print \"collapsed curSppPresIndices = \"\n",
      "    print curSppPresIndices\n",
      "    \n",
      "        #  Now build the array of x,y pairs corresponding to each \n",
      "        #  of those presences.  This 2 column array will then be \n",
      "        #  joined to the repeated species names above.\n",
      "    xyPairs = np.zeros ((totNumPres,2), dtype=int)\n",
      "    print\n",
      "#    print xyPairs\n",
      "    \n",
      "    for k in range (totNumPres):\n",
      "        xyPairs [k,:] = xyRelToLowerLeft (curSppPresIndices [k], numImgRows, numImgCols)\n",
      "    print \"xyPairs = \"\n",
      "    print xyPairs\n",
      "    \n",
      "        #  This is writing column headers to the data frame, but I'm not sure \n",
      "        #  if it should be doing that since maxent may not expect it.\n",
      "###    combinedSppPresTable = pd.DataFrame(xyPairs,index=repeatedSppNames,columns=['longitude','latitude'])\n",
      "    combinedSppPresTable = pd.DataFrame.from_items ([('spp', repeatedSppNames), ('longitude', xyPairs [:,0]), ('latitude', xyPairs [:,1])])\n",
      "#    print combinedSppPresTable\n",
      "    \n",
      "    return combinedSppPresTable\n",
      "\n",
      "random.seed (3) \n",
      "testing = False\n",
      "if testing:\n",
      "    test()\n",
      "else:\n",
      "    x = genCombinedSppPresTable (4, 5)\n",
      "    print \"combinedSppPresTable = \"\n",
      "    print x\n",
      "    x.to_csv('combinedSppPresTable.csv')\n"
     ],
     "language": "python",
     "metadata": {},
     "outputs": [
      {
       "output_type": "stream",
       "stream": "stdout",
       "text": [
        "\n",
        "\n",
        "numPresForEachSpp = \n",
        "[2 4 3]\n",
        "totNumPres = 9\n",
        "sppNames = \n",
        "['spp.1', 'spp.2', 'spp.3']\n",
        "repeatedSppNames = \n",
        "['spp.1', 'spp.1', 'spp.2', 'spp.2', 'spp.2', 'spp.2', 'spp.3', 'spp.3', 'spp.3']\n",
        "[[12, 11], [1, 0, 15, 4], [4, 18, 8]]\n",
        "collapsed curSppPresIndices = \n",
        "[12 11  1  0 15  4  4 18  8]\n",
        "\n",
        "xyPairs = \n",
        "[[3 2]\n",
        " [2 2]\n",
        " [2 4]\n",
        " [1 4]\n",
        " [1 1]\n",
        " [5 4]\n",
        " [5 4]\n",
        " [4 1]\n",
        " [4 3]]\n",
        "combinedSppPresTable = \n",
        "       X  Y\n",
        "spp.1  3  2\n",
        "spp.1  2  2\n",
        "spp.2  2  4\n",
        "spp.2  1  4\n",
        "spp.2  1  1\n",
        "spp.2  5  4\n",
        "spp.3  5  4\n",
        "spp.3  4  1\n",
        "spp.3  4  3\n"
       ]
      }
     ],
     "prompt_number": 119
    },
    {
     "cell_type": "markdown",
     "metadata": {},
     "source": [
      "#  Figuring out how to merge species names with xy pairs into a pandas dataframe"
     ]
    },
    {
     "cell_type": "code",
     "collapsed": false,
     "input": [
      "import pandas as pd\n",
      "import numpy\n",
      "\n",
      "repeatedSppNames = ['spp.1', 'spp.1', 'spp.2', 'spp.2', 'spp.2', 'spp.3']\n",
      "df = pd.DataFrame.from_items([('spp', repeatedSppNames), ('longitude', range(6)), ('latitude', range(6))])\n",
      "print df\n",
      "df.to_csv('df.csv', index=False)\n",
      "\n",
      "df2 = pd.DataFrame.from_items ([('spp', repeatedSppNames)])\n",
      "df2 ['longitude'] = range(6)\n",
      "print df2\n",
      "\n",
      "xyPairs = numpy.zeros ((6,2), dtype=int)\n",
      "print\n",
      "\n",
      "xyPairs [:,0] = range(6)\n",
      "print xyPairs\n",
      "\n",
      "xyPairs [:,1] = range(6)\n",
      "print xyPairs\n",
      "\n",
      "xyPairs [:,1] = xyPairs [:,1] + 5\n",
      "print xyPairs\n",
      "\n",
      "df3 = pd.DataFrame.from_items ([('spp', repeatedSppNames)])\n",
      "df3 ['longitude'] = xyPairs [:,0]\n",
      "df3 ['latitude'] = xyPairs [:,1]\n",
      "print df3\n",
      "\n",
      "###  df4 = pd.DataFrame.from_items ([('spp', repeatedSppNames), (['longitude', 'latitude'], xyPairs))\n",
      "###  print df4\n",
      "###  \n",
      "###      Gives\n",
      "    \n",
      "###   File \"<ipython-input-29-1adeab7d5450>\", line 30\n",
      "###      df4 = pd.DataFrame.from_items ([('spp', repeatedSppNames), (['longitude', 'latitude'], xyPairs))\n",
      "###                                                                                                     ^\n",
      "###  SyntaxError: invalid syntax\n",
      "\n",
      "df5 = pd.DataFrame.from_items ([('spp', repeatedSppNames), ('longitude', xyPairs [:,0]), ('latitude', xyPairs [:,1])])\n",
      "print \"\\ndf5 = \"\n",
      "print df5\n"
     ],
     "language": "python",
     "metadata": {},
     "outputs": [
      {
       "output_type": "stream",
       "stream": "stdout",
       "text": [
        "     spp  longitude  latitude\n",
        "0  spp.1          0         0\n",
        "1  spp.1          1         1\n",
        "2  spp.2          2         2\n",
        "3  spp.2          3         3\n",
        "4  spp.2          4         4\n",
        "5  spp.3          5         5\n",
        "     spp  longitude\n",
        "0  spp.1          0\n",
        "1  spp.1          1\n",
        "2  spp.2          2\n",
        "3  spp.2          3\n",
        "4  spp.2          4\n",
        "5  spp.3          5\n",
        "\n",
        "[[0 0]\n",
        " [1 0]\n",
        " [2 0]\n",
        " [3 0]\n",
        " [4 0]\n",
        " [5 0]]\n",
        "[[0 0]\n",
        " [1 1]\n",
        " [2 2]\n",
        " [3 3]\n",
        " [4 4]\n",
        " [5 5]]\n",
        "[[ 0  5]\n",
        " [ 1  6]\n",
        " [ 2  7]\n",
        " [ 3  8]\n",
        " [ 4  9]\n",
        " [ 5 10]]\n",
        "     spp  longitude  latitude\n",
        "0  spp.1          0         5\n",
        "1  spp.1          1         6\n",
        "2  spp.2          2         7\n",
        "3  spp.2          3         8\n",
        "4  spp.2          4         9\n",
        "5  spp.3          5        10\n",
        "\n",
        "df5 = \n",
        "     spp  longitude  latitude\n",
        "0  spp.1          0         5\n",
        "1  spp.1          1         6\n",
        "2  spp.2          2         7\n",
        "3  spp.2          3         8\n",
        "4  spp.2          4         9\n",
        "5  spp.3          5        10\n"
       ]
      }
     ],
     "prompt_number": 32
    },
    {
     "cell_type": "markdown",
     "metadata": {},
     "source": [
      "#  Test whether rpy2 has installed correctly and is working\n",
      "\n",
      "Examples taken from Matloff web page:\n",
      "http://heather.cs.ucdavis.edu/~matloff/rpy2.html\n",
      "\n",
      "NOTES:\n",
      "\n",
      "* Everything seems to work fine except for one line that I have flagged in the code.\n",
      "\n",
      "* When a plot is generated, it appears in R's plot window, not in this ipython page.  \n",
      "    * Is it possible to make them appear inline here?\n",
      "    * Also, that external plot has a beachball when I move the cursor over it and CMD-OPT-ESC tells me that python is hung.  Not sure if this will always happen or if something odd is going on just this one time."
     ]
    },
    {
     "cell_type": "code",
     "collapsed": false,
     "input": [
      "from rpy2.robjects import r\n",
      "\n",
      "    #  Generate vectors x and y in R, do a scatter plot, fit a least-squares line, etc.: \n",
      "r('x <- rnorm(100)')  # generate x at R\n",
      "r('y <- x + rnorm(100,sd=0.5)')  # generate y at R\n",
      "r('plot(x,y)')  # have R plot them\n",
      "r('lmout <- lm(y~x)')  # run the regression\n",
      "r('print(lmout)')  # print from R\n",
      "loclmout = r('lmout') # download lmout from R to Python\n",
      "print loclmout  # print locally\n",
      "\n",
      "#-----------------------------------------------------------------------------\n",
      "    #  This statement generates the error shown below it...\n",
      "#  print loclmout.r['coefficients']  # print one component\n",
      "#  ---------------------------------------------------------------------------\n",
      "#  AttributeError                            Traceback (most recent call last)\n",
      "#  <ipython-input-5-6dbb6373c865> in <module>()\n",
      "#        7 loclmout = r('lmout') # download lmout from R to Python\n",
      "#        8 print loclmout  # print locally\n",
      "#  ----> 9 print loclmout.r['coefficients']  # print one component\n",
      "#  \n",
      "#  AttributeError: 'ListVector' object has no attribute 'r'\n",
      "#-----------------------------------------------------------------------------\n",
      "\n",
      "    #  Apply some R operations to some Python variables:\n",
      "\n",
      "u = range(10)  # set up another scatter plot, this one local\n",
      "e = 5*[0.25,-0.25]\n",
      "v = u[:]\n",
      "for i in range(10): v[i] += e[i]\n",
      "r.plot(u,v)\n",
      "r.assign('remoteu',u)  # ship local u to R\n",
      "r.assign('remotev',v)  # ship local v to R\n",
      "r('plot(remoteu,remotev)')  # plot there\n"
     ],
     "language": "python",
     "metadata": {},
     "outputs": [
      {
       "output_type": "stream",
       "stream": "stdout",
       "text": [
        "\n",
        "Call:\n",
        "lm(formula = y ~ x)\n",
        "\n",
        "Coefficients:\n",
        "(Intercept)            x  \n",
        "  -0.007287     0.979246  \n",
        "\n",
        "\n",
        "Call:\n",
        "lm(formula = y ~ x)\n",
        "\n",
        "Coefficients:\n",
        "(Intercept)            x  \n",
        "  -0.007287     0.979246  \n",
        "\n",
        "\n"
       ]
      },
      {
       "output_type": "pyout",
       "prompt_number": 7,
       "text": [
        "rpy2.rinterface.NULL"
       ]
      }
     ],
     "prompt_number": 7
    },
    {
     "cell_type": "markdown",
     "metadata": {},
     "source": [
      "#Another example of trying to use rpy2, this time with clustering in R (hclust)\n",
      "\n",
      "Taken from:\n",
      "http://baoilleach.blogspot.com.au/2007/11/using-r-from-python-best-of-both-worlds.html\n",
      "\n",
      "NOTE: This fails for two reasons:  \n",
      "\n",
      "- It's using rpy instead of rpy2 (since it's an old article, from 2007), but that's easily fixed by changing the import statement the way that I have done below.  \n",
      "\n",
      "- It tries to read in a table called cpOfSimMatrix.txt that's never built or defined anywhere.\n",
      "\n",
      "Still, it may be useful to come back and look at this when I do clustering and have a proper input file of my own."
     ]
    },
    {
     "cell_type": "code",
     "collapsed": false,
     "input": [
      "#from rpy import *\n",
      "from rpy2.robjects import r\n",
      "\n",
      "# START OF METHOD 1\n",
      "hclust = r(\"\"\"\n",
      "    a <- read.table(\"cpOfSimMatrix.txt\")\n",
      "    mydist <- dist(1-a)\n",
      "    hclust(mydist)\n",
      "\"\"\")\n",
      "r(\"rm(a)\") # Ends with an error if you leave anything in memory\n",
      "# END OF METHOD 1\n",
      "\n",
      "# START OF METHOD 2\n",
      "set_default_mode(NO_CONVERSION)\n",
      "a = r.read_table(\"cpOfSimMatrix.txt\")\n",
      "mydist = r.dist(r[\"-\"](1,a)) # Note the trick for '1-a' here\n",
      "set_default_mode(BASIC_CONVERSION)\n",
      "hclust = r.hclust(mydist) # Converts R object to Python dict\n",
      "# END OF METHOD 2\n",
      "\n",
      "# START OF METHOD 3 (here's one I created earlier)\n",
      "r.load(\".RData\")\n",
      "hclust = r('myHclust')\n",
      "# END OF METHOD 3"
     ],
     "language": "python",
     "metadata": {},
     "outputs": [],
     "prompt_number": 4
    },
    {
     "cell_type": "markdown",
     "metadata": {},
     "source": [
      "#  Testing PypeR installation and execution\n",
      "\n",
      "Code below is taken from:\n",
      "http://statcompute.wordpress.com/2012/11/29/another-way-to-access-r-from-python-pyper/\n",
      "\n",
      "Unfortunately, this is yet another web example where they read the data in but don't provide the data for someone trying to reproduce their run, so it fails as soon as it hits the read_table() line."
     ]
    },
    {
     "cell_type": "code",
     "collapsed": false,
     "input": [
      "    # LOAD PYTHON PACKAGES \n",
      "import pandas as pd\n",
      "import pyper as pr\n",
      " \n",
      "    # READ DATA\n",
      "data = pd.read_table(\"/home/liuwensui/Documents/data/csdata.txt\", header = 0)\n",
      " \n",
      "    # CREATE A R INSTANCE WITH PYPER\n",
      "r = pr.R(use_pandas = True)\n",
      " \n",
      "    # PASS DATA FROM PYTHON TO R\n",
      "r.assign(\"rdata\", data)\n",
      " \n",
      "    # SHOW DATA SUMMARY\n",
      "print r(\"summary(rdata)\")\n",
      "\n",
      "    # LOAD R PACKAGE\n",
      "r(\"library(betareg)\")\n",
      "\n",
      "    # ESTIMATE A BETA REGRESSION \n",
      "r(\"m <- betareg(LEV_LT3 ~ SIZE1 + PROF2 + GROWTH2 + AGE + IND3A, data = rdata, subset = LEV_LT3 > 0)\")\n",
      " \n",
      "    # OUTPUT MODEL SUMMARY \n",
      "print r(\"summary(m)\")\n",
      " \n",
      "    # CALCULATE MODEL PREDICTION \n",
      "r(\"beta_fit <- predict(m, link = 'response')\")\n",
      "\n",
      "    # SHOW PREDICTION SUMMARY IN R\n",
      "print r(\"summary(beta_fit)\")\n",
      "\n",
      "    # PASS DATA FROM R TO PYTHON\n",
      "pydata = pd.DataFrame(r.get(\"beta_fit\"), columns = [\"y_hat\"])\n",
      " \n",
      "    # SHOW PREDICTION SUMMARY IN PYTHON \n",
      "pydata.y_hat.describe()\n"
     ],
     "language": "python",
     "metadata": {},
     "outputs": [],
     "prompt_number": 8
    },
    {
     "cell_type": "markdown",
     "metadata": {},
     "source": [
      "#  Testing PypeR using code from the original PypeR paper:\n",
      "\n",
      "Xia et al. 2010.\"PypeR, A Python Package for Using R in Python\", Journal of Statistical Software, July 2010, vol 35, code snippet 2, http://www.jstatsoft.org/"
     ]
    },
    {
     "cell_type": "code",
     "collapsed": false,
     "input": [
      "from pyper import *\n",
      "\n",
      "    #  For a single run of R, the function runR may be used:\n",
      "outputs = runR(\"a <- 3; print(a + 5)\")\n",
      "print outputs\n",
      "\n",
      "    #  or if there is an R script (e.g., \u201cRScript.R\u201d) to run: \n",
      "#  runR(\"source('RScript.R')\")\n",
      "\n",
      "    #  In cases where more interactive operations are involved, \n",
      "    #  the better way is to create a Python object - an instance of the class R:\n",
      "r = R(use_numpy=True)\n",
      "\n",
      "    #  The function Str4R can be applied to translate Python objects \n",
      "    #  to R objects in the form of string. In the following examples, \n",
      "    #  a Python list, an iterator, and a string are passed to the \n",
      "    #  R child process as vectors, while a NumPy record array is \n",
      "    #  converted as an R data frame:\n",
      "\n",
      "r(\"a <- %s\" %  Str4R([0, 1, 2, 3, 4]) )\n",
      "r.assign(\"a\", xrange(5) )\n",
      "r.An_IMPORTANT_Notice = \"\"\"You CANNOT use dot (.) for a variable\n",
      "    name in this format, and leading underscore (_) is INVALID\n",
      "    in any R variable name.\"\"\"\n",
      "r[\"salary\"] = numpy.array([(1, \"Joe\", 35820.0), \\\n",
      "    (2, \"Jane\", 41235.0), (3, \"Kate\", 37932.0)], \\\n",
      "    dtype=[(\"id\", \"<i4\"), (\"employee\", \"|S4\"), (\"salary\", \"<f4\")] )\n",
      "print r[\"salary\"]\n",
      "del r[\"An_IMPORTANT_Notice\"], r.salary\n",
      "\n",
      "    #  It is also possible to make plots, however the plotting is \n",
      "    #  done in the background and the output are saved in a file:\n",
      "r(\"png('test.png')\")\n",
      "r(\"plot(1:5)\")\n",
      "r(\"dev.off()\")\n",
      "\n",
      "    #  Usage details and more examples can be found in the module \n",
      "    #  documents and in the test script (\u201ctest.py\u201d) in the \n",
      "    #  distribution package.\n",
      "    "
     ],
     "language": "python",
     "metadata": {},
     "outputs": [
      {
       "output_type": "stream",
       "stream": "stdout",
       "text": [
        "try({a <- 3; print(a + 5)})\n",
        "[1] 8\n",
        "\n",
        "   id employee  salary\n",
        "1   1      Joe   35820\n",
        "2   2     Jane   41235\n",
        "3   3     Kate   37932"
       ]
      },
      {
       "output_type": "stream",
       "stream": "stdout",
       "text": [
        "\n"
       ]
      },
      {
       "output_type": "pyout",
       "prompt_number": 13,
       "text": [
        "'try({dev.off()})\\nnull device \\n          1 \\n'"
       ]
      }
     ],
     "prompt_number": 13
    },
    {
     "cell_type": "markdown",
     "metadata": {},
     "source": [
      "#  Testing PypeR again\n",
      "\n",
      "Using code from test.py file distributed with pyper module.\n",
      "\n",
      "On my machine,test.py is in:\n",
      "/Users/Bill/anaconda/pkgs/PypeR-1.1.0/test.py\n",
      "\n",
      "This whole set of examples actually seems to work for a change..."
     ]
    },
    {
     "cell_type": "code",
     "collapsed": false,
     "input": [
      "import numpy\n",
      "from pyper import *\n",
      "\n",
      "myR = R()\n",
      "a = range(5)\n",
      "\n",
      "# test simple command\n",
      "myR.run('a <- 3')\n",
      "myR('print(a)')\n",
      "\n",
      "# test parameter conversion\n",
      "myR('b <- %s' % Str4R(a))\n",
      "\n",
      "# set variable in R\n",
      "myR.assign('b', a)\n",
      "#    or \n",
      "myR['b'] = a\n",
      "#\tor\n",
      "myR.b = a\n",
      "\n",
      "# get value from R \n",
      "# from R variables\n",
      "b = myR['b']\n",
      "bb = myR.get('bb', 'No this variable!')\n",
      "print(b, bb, myR['pi'], myR.pi)\n",
      "# or from an R expression\n",
      "print(myR['(2*pi + 3:9)/5'])\n",
      "del myR.a, myR['b']\n",
      "\n",
      "# test R list\n",
      "myR['alst'] = [1, (2, 3, 'any strings'), 4+5j]\n",
      "print(myR['alst'])\n",
      "\n",
      "# test plotting\n",
      "myR('png(\"abc.png\"); plot(1:5); dev.off()')\n",
      "\n",
      "if has_numpy:\n",
      "    arange, array, reshape = numpy.arange, numpy.array, numpy.reshape\n",
      "    # numpy arrays\n",
      "    # one-dimenstion numpy array will be converted to R vector\n",
      "    myR['avec'] = arange(5)\n",
      "    print(myR['avec'])\n",
      "    # one-dimenstion numpy record array will be converted to R data.framme\n",
      "    myR['adfm'] = array([(1, 'Joe', 35820.0), (2, 'Jane', 41235.0), (3, 'Kate', 37932.0)], \\\n",
      "            dtype=[('id', '<i4'), ('employee', '|S4'), ('salary', '<f4')])\n",
      "    print(myR['adfm'])\n",
      "    # two-dimenstion numpy array will be converted to R matrix\n",
      "    myR['amat'] = reshape(arange(12), (3, 4)) # a 3-row, 4-column matrix\n",
      "    print(myR['amat'])\n",
      "    # numpy array of three or higher dimensions will be converted to R array\n",
      "    myR['aary'] = reshape(arange(24), (2, 3, 4)) # a 3-row, 4-column, 2-layer array \n",
      "    print(myR['aary'])\n",
      "\n",
      "# test huge data sets and the function runR\n",
      "a = range(10000) #00)\n",
      "sa = 'a <- ' + Str4R(a)\n",
      "rlt = runR(sa)\n",
      "print(rlt)\n",
      "print('\\nTest passed!\\n\\n')\n",
      "\n",
      "# to use an R on remote server, you need to provide correct parameter to initialize the R instance:\n",
      "# rsrv = R(RCMD='/usr/local/bin/R', host='My_server_name_or_IP', user='username')\n"
     ],
     "language": "python",
     "metadata": {},
     "outputs": [
      {
       "output_type": "stream",
       "stream": "stdout",
       "text": [
        "(array([0, 1, 2, 3, 4]), 'No this variable!', 3.14159265358979, 3.14159265358979)\n",
        "[ 1.85663706  2.05663706  2.25663706  2.45663706  2.65663706  2.85663706\n",
        "  3.05663706]\n",
        "[1, [2, 3, 'any strings'], (4+5j)]\n",
        "[0 1 2 3 4]\n",
        "   id employee  salary\n",
        "1   1      Joe   35820\n",
        "2   2     Jane   41235\n",
        "3   3     Kate   37932"
       ]
      },
      {
       "output_type": "stream",
       "stream": "stdout",
       "text": [
        "\n",
        "[[ 0  1  2  3]\n",
        " [ 4  5  6  7]\n",
        " [ 8  9 10 11]]\n",
        "[[[ 0  1  2  3]\n",
        "  [ 4  5  6  7]\n",
        "  [ 8  9 10 11]]\n",
        "\n",
        " [[12 13 14 15]\n",
        "  [16 17 18 19]\n",
        "  [20 21 22 23]]]\n",
        "try({source(\"/var/folders/xp/wf__34md36bd1vvpd74jn5vm0000gp/T/tmpdMtfbP\")})\n"
       ]
      },
      {
       "output_type": "stream",
       "stream": "stdout",
       "text": [
        "\n",
        "\n",
        "Test passed!\n",
        "\n",
        "\n"
       ]
      }
     ],
     "prompt_number": 18
    },
    {
     "cell_type": "code",
     "collapsed": false,
     "input": [
      "%run runMaxentCmd\n"
     ],
     "language": "python",
     "metadata": {},
     "outputs": [
      {
       "output_type": "stream",
       "stream": "stdout",
       "text": [
        "\n",
        "\n",
        "In runMaxentCmd(), \n",
        "        maxentSamplesFileName = 'TESTmaxentSamplesFileName'\n",
        "\n",
        "\n",
        "\n",
        "The command to run maxent is:-mx512m -jar \"TESTmaxent.full.path.name/\" outputdirectory=\"TESTmaxentOutDir/\" samplesfile=\"TESTmaxentSamplesFileName\" environmentallayers=\"TESTcur.full.maxent.env.layers.dir.name\" verbose=True threads=2 -z  autorun  redoifexists  novisible\n",
        "\n",
        "\n",
        "----------------------------------\n",
        "\n",
        " Running Maxent\n",
        "\n",
        "----------------------------------\n",
        "\n",
        "\n",
        "maxentExitCode = 999, class (maxentExitCode) = int\n"
       ]
      }
     ],
     "prompt_number": 16
    },
    {
     "cell_type": "code",
     "collapsed": false,
     "input": [
      "import autoreload\n",
      "autoreload?"
     ],
     "language": "python",
     "metadata": {},
     "outputs": [],
     "prompt_number": 5
    },
    {
     "cell_type": "code",
     "collapsed": false,
     "input": [
      "import os\n",
      "import subprocess\n",
      "\n",
      "maxentExitCode = subprocess.call (\"echo Hello World\", shell=True)"
     ],
     "language": "python",
     "metadata": {},
     "outputs": []
    }
   ],
   "metadata": {}
  }
 ]
}