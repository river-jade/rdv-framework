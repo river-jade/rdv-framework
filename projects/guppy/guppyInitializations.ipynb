{
 "metadata": {
  "name": "guppyInitializations"
 },
 "nbformat": 3,
 "nbformat_minor": 0,
 "worksheets": [
  {
   "cells": [
    {
     "cell_type": "code",
     "collapsed": false,
     "input": [
      "import Guppy"
     ],
     "language": "python",
     "metadata": {},
     "outputs": [
      {
       "ename": "IndentationError",
       "evalue": "unexpected indent (Guppy.py, line 358)",
       "output_type": "pyerr",
       "traceback": [
        "\u001b[0;36m  File \u001b[0;32m\"Guppy.py\"\u001b[0;36m, line \u001b[0;32m358\u001b[0m\n\u001b[0;31m    useDrawImage = variables ['PAR.use.draw.image']\u001b[0m\n\u001b[0m    ^\u001b[0m\n\u001b[0;31mIndentationError\u001b[0m\u001b[0;31m:\u001b[0m unexpected indent\n"
       ]
      }
     ],
     "prompt_number": 2
    },
    {
     "cell_type": "code",
     "collapsed": false,
     "input": [
      "reload(Guppy)"
     ],
     "language": "python",
     "metadata": {},
     "outputs": [
      {
       "output_type": "stream",
       "stream": "stdout",
       "text": [
        "\n",
        "\n",
        "\n",
        "====>>>  tempDontMakeDirsYet =  True \n",
        "\n",
        "\n",
        "\n",
        "\n",
        "Moved to directory: /Users/Bill/D/rdv-framework/projects/guppy\n",
        "\n",
        "random.seed = '19', class (randomSeed) = 'int\n",
        "\n",
        "PARnumProcessors = 1\n",
        "\n",
        "startingDir = '/Users/Bill/D/rdv-framework/projects/guppy'\n",
        "\n",
        "pathToRfiles = './projects/guppy/'\n",
        "\n",
        "PARrdvDirectory = ''\n",
        "\n",
        "PARinputDirectoryFromYaml = './projects/guppy/input_data/input_data'\n",
        "\n",
        "leadChars = './'\n",
        "\n",
        "PARinputDirectory = '/projects/guppy/input_data/input_data'\n",
        "\n",
        "PARcurrentRunDirectory = '/Users/Bill/tzar/outputdata/Guppy/default_runset/158_Scen_1.inprogress/'\n",
        "\n",
        "probDistLayersDir = '/Users/Bill/tzar/outputdata/Guppy/default_runset/158_Scen_1.inprogress/MaxentProbDistLayers'\n",
        "\n",
        "====>>>  Would make dir '/Users/Bill/tzar/outputdata/Guppy/default_runset/158_Scen_1.inprogress/MaxentProbDistLayers' now.\n",
        "\n",
        "maxentOutputDir = '/Users/Bill/tzar/outputdata/Guppy/default_runset/158_Scen_1.inprogress/MaxentOutputs'\n",
        "\n",
        "====>>>  Would make dir '/Users/Bill/tzar/outputdata/Guppy/default_runset/158_Scen_1.inprogress/MaxentOutputs' now.\n",
        "\n",
        "maxentGenOutputDir = '/Users/Bill/tzar/outputdata/Guppy/default_runset/158_Scen_1.inprogress/MaxentGenOutputs'\n",
        "\n",
        "====>>>  Would make dir '/Users/Bill/tzar/outputdata/Guppy/default_runset/158_Scen_1.inprogress/MaxentGenOutputs' now.\n",
        "\n",
        "analysisDirWithSlash = '/Users/Bill/tzar/outputdata/Guppy/default_runset/158_Scen_1.inprogress//ResultsAnalysis/'\n",
        "\n",
        "====>>>  Would make dir '/Users/Bill/tzar/outputdata/Guppy/default_runset/158_Scen_1.inprogress//ResultsAnalysis/' now.\n",
        "\n",
        "====>>>  Would move to dir ' /Users/Bill/tzar/outputdata/Guppy/default_runset/158_Scen_1.inprogress/ ' now.\n",
        "\n",
        "\n",
        "curFullMaxentEnvLayersDirName = '/Users/Bill/tzar/outputdata/Guppy/default_runset/158_Scen_1.inprogress/MaxentEnvLayers'\n",
        "\n",
        "====>>>  Would make dir '/Users/Bill/tzar/outputdata/Guppy/default_runset/158_Scen_1.inprogress/MaxentEnvLayers' now.\n",
        "\n",
        "\n",
        "curFullMaxentSamplesDirName = '/Users/Bill/tzar/outputdata/Guppy/default_runset/158_Scen_1.inprogress/MaxentSamples'\n",
        "\n",
        "====>>>  Would make dir '/Users/Bill/tzar/outputdata/Guppy/default_runset/158_Scen_1.inprogress/MaxentSamples' now.\n",
        "\n",
        "\n",
        "combinedPresSamplesFileName = '/Users/Bill/tzar/outputdata/Guppy/default_runset/158_Scen_1.inprogress/MaxentSamples/spp.sampledPres.combined.csv'\n",
        "\n",
        "\n",
        "\n",
        "\n",
        "PARpathToMaxent = 'lib/maxent'\n",
        "\n",
        "\n",
        "maxentFullPathName = '/Users/Bill/D/rdv-framework/projects/guppy/lib/maxent/maxent.jar '\n",
        "\n",
        "Created a Guppy.\n",
        "\n"
       ]
      },
      {
       "output_type": "pyout",
       "prompt_number": 12,
       "text": [
        "<module 'Guppy' from 'Guppy.pyc'>"
       ]
      }
     ],
     "prompt_number": 12
    },
    {
     "cell_type": "code",
     "collapsed": false,
     "input": [
      "import sys\n",
      "if 'Guppy' in sys.modules:  \n",
      "    del(sys.modules[\"Guppy\"]) \n",
      "\n",
      "import Guppy"
     ],
     "language": "python",
     "metadata": {},
     "outputs": [
      {
       "output_type": "stream",
       "stream": "stdout",
       "text": [
        "\n",
        "\n",
        "\n",
        "====>>>  tempDontMakeDirsYet =  True \n",
        "\n",
        "\n",
        "\n",
        "\n",
        "Moved to directory: /Users/Bill/D/rdv-framework/projects/guppy\n",
        "\n",
        "random.seed = '19', class (randomSeed) = 'int\n",
        "\n",
        "PARnumProcessors = 1\n",
        "\n",
        "startingDir = '/Users/Bill/D/rdv-framework/projects/guppy'\n",
        "\n",
        "pathToRfiles = './projects/guppy/'\n",
        "\n",
        "PARrdvDirectory = ''\n",
        "\n",
        "PARinputDirectoryFromYaml = './projects/guppy/input_data/input_data'\n",
        "\n",
        "leadChars = './'\n",
        "\n",
        "PARinputDirectory = '/projects/guppy/input_data/input_data'\n",
        "\n",
        "PARcurrentRunDirectory = '/Users/Bill/tzar/outputdata/Guppy/default_runset/158_Scen_1.inprogress/'\n",
        "\n",
        "probDistLayersDir = '/Users/Bill/tzar/outputdata/Guppy/default_runset/158_Scen_1.inprogress/MaxentProbDistLayers'\n",
        "\n",
        "====>>>  Would make dir '/Users/Bill/tzar/outputdata/Guppy/default_runset/158_Scen_1.inprogress/MaxentProbDistLayers' now.\n",
        "\n",
        "maxentOutputDir = '/Users/Bill/tzar/outputdata/Guppy/default_runset/158_Scen_1.inprogress/MaxentOutputs'\n",
        "\n",
        "====>>>  Would make dir '/Users/Bill/tzar/outputdata/Guppy/default_runset/158_Scen_1.inprogress/MaxentOutputs' now.\n",
        "\n",
        "maxentGenOutputDir = '/Users/Bill/tzar/outputdata/Guppy/default_runset/158_Scen_1.inprogress/MaxentGenOutputs'\n",
        "\n",
        "====>>>  Would make dir '/Users/Bill/tzar/outputdata/Guppy/default_runset/158_Scen_1.inprogress/MaxentGenOutputs' now.\n",
        "\n",
        "analysisDirWithSlash = '/Users/Bill/tzar/outputdata/Guppy/default_runset/158_Scen_1.inprogress//ResultsAnalysis/'\n",
        "\n",
        "====>>>  Would make dir '/Users/Bill/tzar/outputdata/Guppy/default_runset/158_Scen_1.inprogress//ResultsAnalysis/' now.\n",
        "\n",
        "====>>>  Would move to dir ' /Users/Bill/tzar/outputdata/Guppy/default_runset/158_Scen_1.inprogress/ ' now.\n",
        "\n",
        "\n",
        "curFullMaxentEnvLayersDirName = '/Users/Bill/tzar/outputdata/Guppy/default_runset/158_Scen_1.inprogress/MaxentEnvLayers'\n",
        "\n",
        "====>>>  Would make dir '/Users/Bill/tzar/outputdata/Guppy/default_runset/158_Scen_1.inprogress/MaxentEnvLayers' now.\n",
        "\n",
        "\n",
        "curFullMaxentSamplesDirName = '/Users/Bill/tzar/outputdata/Guppy/default_runset/158_Scen_1.inprogress/MaxentSamples'\n",
        "\n",
        "====>>>  Would make dir '/Users/Bill/tzar/outputdata/Guppy/default_runset/158_Scen_1.inprogress/MaxentSamples' now.\n",
        "\n",
        "\n",
        "combinedPresSamplesFileName = '/Users/Bill/tzar/outputdata/Guppy/default_runset/158_Scen_1.inprogress/MaxentSamples/spp.sampledPres.combined.csv'\n",
        "\n",
        "\n",
        "\n",
        "\n",
        "PARpathToMaxent = 'lib/maxent'\n",
        "\n",
        "\n",
        "maxentFullPathName = '/Users/Bill/D/rdv-framework/projects/guppy/lib/maxent/maxent.jar '\n",
        "\n",
        "Created a Guppy.\n",
        "\n"
       ]
      }
     ],
     "prompt_number": 11
    },
    {
     "cell_type": "code",
     "collapsed": false,
     "input": [
      "PARcurrentRunDirectory = outputFiles ['PAR.current.run.directory']\n",
      "print \"\\nPARcurrentRunDirectory = '\" + PARcurrentRunDirectory + \"'\""
     ],
     "language": "python",
     "metadata": {},
     "outputs": [
      {
       "ename": "NameError",
       "evalue": "name 'outputFiles' is not defined",
       "output_type": "pyerr",
       "traceback": [
        "\u001b[0;31m---------------------------------------------------------------------------\u001b[0m\n\u001b[0;31mNameError\u001b[0m                                 Traceback (most recent call last)",
        "\u001b[0;32m<ipython-input-7-a2c07cb293bd>\u001b[0m in \u001b[0;36m<module>\u001b[0;34m()\u001b[0m\n\u001b[0;32m----> 1\u001b[0;31m \u001b[0mPARcurrentRunDirectory\u001b[0m \u001b[0;34m=\u001b[0m \u001b[0moutputFiles\u001b[0m \u001b[0;34m[\u001b[0m\u001b[0;34m'PAR.current.run.directory'\u001b[0m\u001b[0;34m]\u001b[0m\u001b[0;34m\u001b[0m\u001b[0m\n\u001b[0m\u001b[1;32m      2\u001b[0m \u001b[0;32mprint\u001b[0m \u001b[0;34m\"\\nPARcurrentRunDirectory = '\"\u001b[0m \u001b[0;34m+\u001b[0m \u001b[0mPARcurrentRunDirectory\u001b[0m \u001b[0;34m+\u001b[0m \u001b[0;34m\"'\"\u001b[0m\u001b[0;34m\u001b[0m\u001b[0m\n",
        "\u001b[0;31mNameError\u001b[0m: name 'outputFiles' is not defined"
       ]
      }
     ],
     "prompt_number": 7
    },
    {
     "cell_type": "code",
     "collapsed": false,
     "input": [
      "#probDistLayersDir = \"./MaxentProbDistLayers/\"    #7/17#  what we want maxent to generate, i.e., the true layers?\n",
      "#PARprobDistLayersDirName = \"MaxentProbDistLayers\"\n",
      "##probDistLayersDir = paste (PARcurrentRunDirectory, \"/\",\n",
      "##                              PARprobDistLayersDirName, \"/\"\n",
      "\n",
      "probDistLayersDir = outputFiles ['PAR.prob.dist.layers.dir.name']\n",
      "probDistLayersDirWithSlash = probDistLayersDir + \"/\"\n",
      "\n",
      "print \"\\nprobDistLayersDir = '\" + probDistLayersDir + \"'\"\n",
      "createDirIfDoesntExist (probDistLayersDir)"
     ],
     "language": "python",
     "metadata": {},
     "outputs": [
      {
       "output_type": "stream",
       "stream": "stdout",
       "text": [
        "\n",
        "probDistLayersDir = 'MaxentProbDistLayers'\n",
        "\n",
        "====>>>  Would make dir 'MaxentProbDistLayers' now.\n"
       ]
      }
     ],
     "prompt_number": 19
    },
    {
     "cell_type": "code",
     "collapsed": false,
     "input": [
      "#PARmaxentOutputDirName = \"MaxentOutputs\"\n",
      "\n",
      "maxentOutputDir = outputFiles ['PAR.maxent.output.dir.name']\n",
      "maxentOutputDirWithSlash = maxentOutputDir + dirSlash\n",
      "\n",
      "print \"\\nmaxentOutputDir = '\" + maxentOutputDir + \"'\"\n",
      "createDirIfDoesntExist (maxentOutputDir)"
     ],
     "language": "python",
     "metadata": {},
     "outputs": [
      {
       "output_type": "stream",
       "stream": "stdout",
       "text": [
        "\n",
        "maxentOutputDir = 'MaxentOutputs'\n",
        "\n",
        "====>>>  Would make dir 'MaxentOutputs' now.\n"
       ]
      }
     ],
     "prompt_number": 20
    },
    {
     "cell_type": "code",
     "collapsed": false,
     "input": [
      "#PARmaxentGenOutputDirName = \"MaxentGenOutputs\"\n",
      "\n",
      "maxentGenOutputDir = outputFiles ['PAR.maxent.gen.output.dir.name']\n",
      "maxentGenOutputDirWithSlash = maxentGenOutputDir + \"/\"\n",
      "\n",
      "print \"\\nmaxentGenOutputDir = '\" + maxentGenOutputDir + \"'\"\n",
      "createDirIfDoesntExist (maxentGenOutputDir)"
     ],
     "language": "python",
     "metadata": {},
     "outputs": [
      {
       "output_type": "stream",
       "stream": "stdout",
       "text": [
        "\n",
        "maxentGenOutputDir = 'MaxentGenOutputs'\n",
        "\n",
        "====>>>  Would make dir 'MaxentGenOutputs' now.\n"
       ]
      }
     ],
     "prompt_number": 21
    },
    {
     "cell_type": "code",
     "collapsed": false,
     "input": [
      "#analysisDir = \"./ResultsAnalysis/\"\n",
      "#PARanalysisDirName = \"ResultsAnalysis\"\n",
      "\n",
      "analysisDirWithSlash = PARcurrentRunDirectory +  dirSlash + variables ['PAR.analysis.dir.name'] + dirSlash\n",
      "print \"\\nanalysisDirWithSlash = '\" + analysisDirWithSlash + \"'\"\n",
      "createDirIfDoesntExist (analysisDirWithSlash)"
     ],
     "language": "python",
     "metadata": {},
     "outputs": [
      {
       "output_type": "stream",
       "stream": "stdout",
       "text": [
        "\n",
        "analysisDirWithSlash = '/ResultsAnalysis/'\n",
        "\n",
        "====>>>  Would make dir '/ResultsAnalysis/' now.\n"
       ]
      }
     ],
     "prompt_number": 22
    },
    {
     "cell_type": "markdown",
     "metadata": {},
     "source": [
      "    #  NOTE:  DOES THIS output directory move below NEED TO BE DONE NOW?\n",
      "    #         IE, ARE ALL THE DIRECTORY CREATIONS BELOW ABSOLUTE OR ARE THEY\n",
      "    #         RELATIVE TO BEING IN THE CURRENTRUNDIRECTORY?\n",
      "    #\n",
      "    #         It makes testing all this in python easier if I can separate\n",
      "    #         the moving to a directory from the creation of directories.\n",
      "    \n",
      "    #  IN GENERAL, IT SEEMS LIKE I NEED TO MAKE SURE THAT PATHS ARE ALWAYS BUILT WITH AS LITTLE \n",
      "    #  DEPENDENCE AS POSSIBLE ON WHAT DIRECTORY YOU HAPPEN TO BE SITTING IN AT A GIVEN TIME.  \n",
      "    #  THAT WILL MAKE IT MUCH EASIER TO TEST.  OR WILL IT?  MAYBE A RELATIVE PATH IS A BETTER \n",
      "    #  THING SO THAT YOU CAN CREATE A DUMMY LITTLE TEST AREA AND WORK THERE WITHOUT HURTING \n",
      "    #  ANYTHING ELSE...\n"
     ]
    },
    {
     "cell_type": "code",
     "collapsed": false,
     "input": [
      "    #  Move to the output directory.\n",
      "\n",
      "if tempDontMakeDirsYet:\n",
      "    print \"\\n====>>>  Would move to dir '\", PARcurrentRunDirectory, \"' now.\"\n",
      "else:\n",
      "        #  Move to the output directory, e.g.,\n",
      "        #  \"/Users/Bill/tzar/outputdata/Guppy/default_runset/114_Scen_1.inprogress/\"\n",
      "    os.chdir (PARcurrentRunDirectory)\n"
     ],
     "language": "python",
     "metadata": {},
     "outputs": [
      {
       "output_type": "stream",
       "stream": "stdout",
       "text": [
        "\n",
        "====>>>  Would move to dir '  ' now.\n"
       ]
      }
     ],
     "prompt_number": 23
    },
    {
     "cell_type": "code",
     "collapsed": false,
     "input": [
      "##if (!file.exists (\"MaxentOutputs\"))\n",
      "##\t{\n",
      "##\tdir.create (\"MaxentOutputs\")\n",
      "##\t}\n",
      "\n",
      "curFullMaxentEnvLayersDirName = \\\n",
      "    PARcurrentRunDirectory + variables ['PAR.maxent.env.layers.base.name']\n",
      "\n",
      "print \"\\n\\ncurFullMaxentEnvLayersDirName = '\" + curFullMaxentEnvLayersDirName + \"'\"\n",
      "\n",
      "createDirIfDoesntExist (curFullMaxentEnvLayersDirName)"
     ],
     "language": "python",
     "metadata": {},
     "outputs": [
      {
       "output_type": "stream",
       "stream": "stdout",
       "text": [
        "\n",
        "\n",
        "curFullMaxentEnvLayersDirName = 'MaxentEnvLayers'\n",
        "\n",
        "====>>>  Would make dir 'MaxentEnvLayers' now.\n"
       ]
      }
     ],
     "prompt_number": 24
    },
    {
     "cell_type": "code",
     "collapsed": false,
     "input": [
      "##if (not file.exists (\"MaxentSamples\"))\n",
      "##\t{\n",
      "##\tdir.create (\"MaxentSamples\")\n",
      "##\t}\n",
      "\n",
      "curFullMaxentSamplesDirName = \\\n",
      "\tPARcurrentRunDirectory + variables ['PAR.maxent.samples.base.name']\n",
      "\n",
      "print \"\\n\\ncurFullMaxentSamplesDirName = '\" + curFullMaxentSamplesDirName + \"'\"\n",
      "\n",
      "createDirIfDoesntExist (curFullMaxentSamplesDirName)"
     ],
     "language": "python",
     "metadata": {},
     "outputs": [
      {
       "output_type": "stream",
       "stream": "stdout",
       "text": [
        "\n",
        "\n",
        "curFullMaxentSamplesDirName = 'MaxentSamples'\n",
        "\n",
        "====>>>  Would make dir 'MaxentSamples' now.\n"
       ]
      }
     ],
     "prompt_number": 25
    },
    {
     "cell_type": "code",
     "collapsed": false,
     "input": [
      "#       write.to.file : TRUE,\n",
      "writeToFile = variables ['PAR.write.to.file']\n",
      "\n",
      "#   \t  use.draw.image : FALSE,\n",
      "useDrawImage = variables ['PAR.use.draw.image']\n",
      "\n",
      "#   \t  use.filled.contour : TRUE,\n",
      "useFilledContour = variables ['PAR.use.filled.contour']\n",
      "\n",
      "            #  BEWARE: if this is FALSE, the get.env.layers() routine in\n",
      "            #          guppy.maxent.functions.v6.R does something vestigial\n",
      "            #          that you may not expect (or want) at all !\n",
      "            #          Need to fix that.\n",
      "            #          BTL - 2011.09.20\n",
      "            #  BTL - 2011.10.03 - Is this note even relevant anymore?\n",
      "            #                     Looks like this variable isn't even used now.\n",
      "#   \t  use.pnm.env.layers : TRUE ,\n",
      "usePnmEnvLayers = variables ['PAR.use.pnm.env.layers']"
     ],
     "language": "python",
     "metadata": {},
     "outputs": [],
     "prompt_number": 26
    },
    {
     "cell_type": "code",
     "collapsed": false,
     "input": [
      "combinedSppTruePresencesTable = None\t\t#  correct Null for PYTHON ???\n",
      "combinedSppSampledPresencesTable = None"
     ],
     "language": "python",
     "metadata": {},
     "outputs": [],
     "prompt_number": 27
    },
    {
     "cell_type": "code",
     "collapsed": false,
     "input": [
      "PARnumSppToCreate = variables ['PAR.num.spp.to.create']\n",
      "PARnumSppInReserveSelection = variables ['PAR.num.spp.in.reserve.selection']\n",
      "PARuseOldMaxentOutputForInput = variables ['PAR.use.old.maxent.output.for.input']"
     ],
     "language": "python",
     "metadata": {},
     "outputs": [],
     "prompt_number": 28
    },
    {
     "cell_type": "code",
     "collapsed": false,
     "input": [
      "PARuseAllSamples = variables ['PAR.use.all.samples']"
     ],
     "language": "python",
     "metadata": {},
     "outputs": [],
     "prompt_number": 29
    },
    {
     "cell_type": "code",
     "collapsed": false,
     "input": [
      "CONSTproductRule = variables ['CONST.product.rule']\n",
      "CONSTaddRule = variables ['CONST.add.rule']"
     ],
     "language": "python",
     "metadata": {},
     "outputs": [],
     "prompt_number": 30
    },
    {
     "cell_type": "code",
     "collapsed": false,
     "input": [
      "combinedPresSamplesFileName = curFullMaxentSamplesDirName + dirSlash + \\\n",
      "\t\t\t\t\t\t'spp.sampledPres.combined.csv'\n",
      "print \"\\n\\ncombinedPresSamplesFileName = '\" + combinedPresSamplesFileName + \"'\\n\\n\""
     ],
     "language": "python",
     "metadata": {},
     "outputs": [
      {
       "output_type": "stream",
       "stream": "stdout",
       "text": [
        "\n",
        "\n",
        "combinedPresSamplesFileName = 'MaxentSamples/spp.sampledPres.combined.csv'\n",
        "\n",
        "\n"
       ]
      }
     ],
     "prompt_number": 31
    },
    {
     "cell_type": "code",
     "collapsed": false,
     "input": [
      "PARpathToMaxent = variables ['PAR.path.to.maxent']\n",
      "print \"\\n\\nPARpathToMaxent = '\" + PARpathToMaxent + \"'\"\n",
      "\n",
      "maxentFullPathName = startingDir + dirSlash + PARpathToMaxent + dirSlash + 'maxent.jar'\n",
      "\n",
      "print \"\\n\\nmaxentFullPathName = '\" + maxentFullPathName, \"'\""
     ],
     "language": "python",
     "metadata": {},
     "outputs": [
      {
       "output_type": "stream",
       "stream": "stdout",
       "text": [
        "\n",
        "\n",
        "PARpathToMaxent = 'lib/maxent'\n",
        "\n",
        "\n",
        "maxentFullPathName = '/Users/Bill/D/rdv-framework/projects/guppy/lib/maxent/maxent.jar '\n"
       ]
      }
     ],
     "prompt_number": 32
    },
    {
     "cell_type": "code",
     "collapsed": false,
     "input": [
      "#  Look at this ipython notebook under the Subplots heading to see the\n",
      "#  matplotlib way to do this.\n",
      "#      http://nbviewer.ipython.org/urls/raw.github.com/swcarpentry/notebooks/master/matplotlib.ipynb\n",
      "\n",
      "#####    par (mfrow=c(2,2))"
     ],
     "language": "python",
     "metadata": {},
     "outputs": [],
     "prompt_number": 33
    },
    {
     "cell_type": "markdown",
     "metadata": {},
     "source": [
      "---\n",
      "\n",
      "---\n",
      "\n",
      "---"
     ]
    },
    {
     "cell_type": "heading",
     "level": 3,
     "metadata": {},
     "source": [
      "Following code is pulled from netpbm.py file to get some examples of declaring a class etc.  Will delete this stuff after I've figured all that out."
     ]
    },
    {
     "cell_type": "code",
     "collapsed": false,
     "input": [
      "#  Code example bits from netpbm.py\n",
      "__version__ = '2013.01.18'\n",
      "#__docformat__ = 'restructuredtext en'\n",
      "#__all__ = ['imread', 'imsave', 'NetpbmFile']\n",
      "\n",
      "\n",
      "def imread(filename, *args, **kwargs):\n",
      "    \"\"\"Return image data from Netpbm file as numpy array.\n",
      "\n",
      "    `args` and `kwargs` are arguments to NetpbmFile.asarray().\n",
      "\n",
      "    Examples\n",
      "    --------\n",
      "    >>> image = imread('_tmp.pgm')\n",
      "\n",
      "    \"\"\"\n",
      "    try:\n",
      "        netpbm = NetpbmFile(filename)\n",
      "        image = netpbm.asarray()\n",
      "    finally:\n",
      "        netpbm.close()\n",
      "    return image\n",
      "\n",
      "\n",
      "def imsave(filename, data, maxval=None, pam=False):\n",
      "    \"\"\"Write image data to Netpbm file.\n",
      "\n",
      "    Examples\n",
      "    --------\n",
      "    >>> image = numpy.array([[0, 1],[65534, 65535]], dtype=numpy.uint16)\n",
      "    >>> imsave('_tmp.pgm', image)\n",
      "\n",
      "    \"\"\"\n",
      "    try:\n",
      "        netpbm = NetpbmFile(data, maxval=maxval)\n",
      "        netpbm.write(filename, pam=pam)\n",
      "    finally:\n",
      "        netpbm.close()\n",
      "\n",
      "\n",
      "class NetpbmFile(object):\n",
      "    \"\"\"Read and write Netpbm PAM, PBM, PGM, PPM, files.\"\"\"\n",
      "\n",
      "    _types = {b'P1': b'BLACKANDWHITE', b'P2': b'GRAYSCALE', b'P3': b'RGB',\n",
      "              b'P4': b'BLACKANDWHITE', b'P5': b'GRAYSCALE', b'P6': b'RGB',\n",
      "              b'P7 332': b'RGB', b'P7': b'RGB_ALPHA'}\n",
      "\n",
      "    def __init__(self, arg=None, **kwargs):\n",
      "        \"\"\"Initialize instance from filename, open file, or numpy array.\"\"\"\n",
      "        for attr in ('header', 'magicnum', 'width', 'height', 'maxval',\n",
      "                     'depth', 'tupltypes', '_filename', '_fh', '_data'):\n",
      "            setattr(self, attr, None)\n",
      "        if arg is None:\n",
      "            self._fromdata([], **kwargs)\n",
      "        elif isinstance(arg, basestring):\n",
      "            self._fh = open(arg, 'rb')\n",
      "            self._filename = arg\n",
      "            self._fromfile(self._fh, **kwargs)\n",
      "        elif hasattr(arg, 'seek'):\n",
      "            self._fromfile(arg, **kwargs)\n",
      "            self._fh = arg\n",
      "        else:\n",
      "            self._fromdata(arg, **kwargs)\n",
      "\n",
      "    def asarray(self, copy=True, cache=False, **kwargs):\n",
      "        \"\"\"Return image data from file as numpy array.\"\"\"\n",
      "        data = self._data\n",
      "        if data is None:\n",
      "            data = self._read_data(self._fh, **kwargs)\n",
      "            if cache:\n",
      "                self._data = data\n",
      "            else:\n",
      "                return data\n",
      "        return deepcopy(data) if copy else data\n",
      "\n",
      "    def write(self, arg, **kwargs):\n",
      "        \"\"\"Write instance to file.\"\"\"\n",
      "        if hasattr(arg, 'seek'):\n",
      "            self._tofile(arg, **kwargs)\n",
      "        else:\n",
      "            with open(arg, 'wb') as fid:\n",
      "                self._tofile(fid, **kwargs)\n",
      "\n",
      "    def close(self):\n",
      "        \"\"\"Close open file. Future asarray calls might fail.\"\"\"\n",
      "        if self._filename and self._fh:\n",
      "            self._fh.close()\n",
      "            self._fh = None\n",
      "\n",
      "    def __del__(self):\n",
      "        self.close()\n",
      "\n",
      "    def _fromfile(self, fh):\n",
      "        \"\"\"Initialize instance from open file.\"\"\"\n",
      "        fh.seek(0)\n",
      "        data = fh.read(4096)\n",
      "        if (len(data) < 7) or not (b'0' < data[1:2] < b'8'):\n",
      "            raise ValueError(\"Not a Netpbm file:\\n%s\" % data[:32])\n",
      "        try:\n",
      "            self._read_pam_header(data)\n",
      "        except Exception:\n",
      "            try:\n",
      "                self._read_pnm_header(data)\n",
      "            except Exception:\n",
      "                raise ValueError(\"Not a Netpbm file:\\n%s\" % data[:32])\n",
      "\n",
      "    def _read_pam_header(self, data):\n",
      "        \"\"\"Read PAM header and initialize instance.\"\"\"\n",
      "        regroups = re.search(\n",
      "            b\"(^P7[\\n\\r]+(?:(?:[\\n\\r]+)|(?:#.*)|\"\n",
      "            b\"(HEIGHT\\s+\\d+)|(WIDTH\\s+\\d+)|(DEPTH\\s+\\d+)|(MAXVAL\\s+\\d+)|\"\n",
      "            b\"(?:TUPLTYPE\\s+\\w+))*ENDHDR\\n)\", data).groups()\n",
      "        self.header = regroups[0]\n",
      "        self.magicnum = b'P7'\n",
      "        for group in regroups[1:]:\n",
      "            key, value = group.split()\n",
      "            setattr(self, unicode(key).lower(), int(value))\n",
      "        matches = re.findall(b\"(TUPLTYPE\\s+\\w+)\", self.header)\n",
      "        self.tupltypes = [s.split(None, 1)[1] for s in matches]\n",
      "\n",
      "    def _read_pnm_header(self, data):\n",
      "        \"\"\"Read PNM header and initialize instance.\"\"\"\n",
      "        bpm = data[1:2] in b\"14\"\n",
      "        regroups = re.search(b\"\".join((\n",
      "            b\"(^(P[123456]|P7 332)\\s+(?:#.*[\\r\\n])*\",\n",
      "            b\"\\s*(\\d+)\\s+(?:#.*[\\r\\n])*\",\n",
      "            b\"\\s*(\\d+)\\s+(?:#.*[\\r\\n])*\" * (not bpm),\n",
      "            b\"\\s*(\\d+)\\s(?:\\s*#.*[\\r\\n]\\s)*)\")), data).groups() + (1, ) * bpm\n",
      "        self.header = regroups[0]\n",
      "        self.magicnum = regroups[1]\n",
      "        self.width = int(regroups[2])\n",
      "        self.height = int(regroups[3])\n",
      "        self.maxval = int(regroups[4])\n",
      "        self.depth = 3 if self.magicnum in b\"P3P6P7 332\" else 1\n",
      "        self.tupltypes = [self._types[self.magicnum]]\n",
      "\n",
      "    def _read_data(self, fh, byteorder='>'):\n",
      "        \"\"\"Return image data from open file as numpy array.\"\"\"\n",
      "        fh.seek(len(self.header))\n",
      "        data = fh.read()\n",
      "        dtype = 'u1' if self.maxval < 256 else byteorder + 'u2'\n",
      "        depth = 1 if self.magicnum == b\"P7 332\" else self.depth\n",
      "        shape = [-1, self.height, self.width, depth]\n",
      "        size = numpy.prod(shape[1:])\n",
      "        if self.magicnum in b\"P1P2P3\":\n",
      "            data = numpy.array(data.split(None, size)[:size], dtype)\n",
      "            data = data.reshape(shape)\n",
      "        elif self.maxval == 1:\n",
      "            shape[2] = int(math.ceil(self.width / 8))\n",
      "            data = numpy.frombuffer(data, dtype).reshape(shape)\n",
      "            data = numpy.unpackbits(data, axis=-2)[:, :, :self.width, :]\n",
      "        else:\n",
      "            data = numpy.frombuffer(data, dtype)\n",
      "            data = data[:size * (data.size // size)].reshape(shape)\n",
      "        if data.shape[0] < 2:\n",
      "            data = data.reshape(data.shape[1:])\n",
      "        if data.shape[-1] < 2:\n",
      "            data = data.reshape(data.shape[:-1])\n",
      "        if self.magicnum == b\"P7 332\":\n",
      "            rgb332 = numpy.array(list(numpy.ndindex(8, 8, 4)), numpy.uint8)\n",
      "            rgb332 *= [36, 36, 85]\n",
      "            data = numpy.take(rgb332, data, axis=0)\n",
      "        return data\n",
      "\n",
      "    def _fromdata(self, data, maxval=None):\n",
      "        \"\"\"Initialize instance from numpy array.\"\"\"\n",
      "        data = numpy.array(data, ndmin=2, copy=True)\n",
      "        if data.dtype.kind not in \"uib\":\n",
      "            raise ValueError(\"not an integer type: %s\" % data.dtype)\n",
      "        if data.dtype.kind == 'i' and numpy.min(data) < 0:\n",
      "            raise ValueError(\"data out of range: %i\" % numpy.min(data))\n",
      "        if maxval is None:\n",
      "            maxval = numpy.max(data)\n",
      "            maxval = 255 if maxval < 256 else 65535\n",
      "        if maxval < 0 or maxval > 65535:\n",
      "            raise ValueError(\"data out of range: %i\" % maxval)\n",
      "        data = data.astype('u1' if maxval < 256 else '>u2')\n",
      "        self._data = data\n",
      "        if data.ndim > 2 and data.shape[-1] in (3, 4):\n",
      "            self.depth = data.shape[-1]\n",
      "            self.width = data.shape[-2]\n",
      "            self.height = data.shape[-3]\n",
      "            self.magicnum = b'P7' if self.depth == 4 else b'P6'\n",
      "        else:\n",
      "            self.depth = 1\n",
      "            self.width = data.shape[-1]\n",
      "            self.height = data.shape[-2]\n",
      "            self.magicnum = b'P5' if maxval > 1 else b'P4'\n",
      "        self.maxval = maxval\n",
      "        self.tupltypes = [self._types[self.magicnum]]\n",
      "        self.header = self._header()\n",
      "\n",
      "    def _tofile(self, fh, pam=False):\n",
      "        \"\"\"Write Netbm file.\"\"\"\n",
      "        fh.seek(0)\n",
      "        fh.write(self._header(pam))\n",
      "        data = self.asarray(copy=False)\n",
      "        if self.maxval == 1:\n",
      "            data = numpy.packbits(data, axis=-1)\n",
      "        data.tofile(fh)\n",
      "\n",
      "    def _header(self, pam=False):\n",
      "        \"\"\"Return file header as byte string.\"\"\"\n",
      "        if pam or self.magicnum == b'P7':\n",
      "            header = \"\\n\".join((\n",
      "                \"P7\",\n",
      "                \"HEIGHT %i\" % self.height,\n",
      "                \"WIDTH %i\" % self.width,\n",
      "                \"DEPTH %i\" % self.depth,\n",
      "                \"MAXVAL %i\" % self.maxval,\n",
      "                \"\\n\".join(\"TUPLTYPE %s\" % unicode(i) for i in self.tupltypes),\n",
      "                \"ENDHDR\\n\"))\n",
      "        elif self.maxval == 1:\n",
      "            header = \"P4 %i %i\\n\" % (self.width, self.height)\n",
      "        elif self.depth == 1:\n",
      "            header = \"P5 %i %i %i\\n\" % (self.width, self.height, self.maxval)\n",
      "        else:\n",
      "            header = \"P6 %i %i %i\\n\" % (self.width, self.height, self.maxval)\n",
      "        if sys.version_info[0] > 2:\n",
      "            header = bytes(header, 'ascii')\n",
      "        return header\n",
      "\n",
      "    def __str__(self):\n",
      "        \"\"\"Return information about instance.\"\"\"\n",
      "        return unicode(self.header)\n",
      "\n",
      "\n",
      "if sys.version_info[0] > 2:\n",
      "    basestring = str\n",
      "    unicode = lambda x: str(x, 'ascii')\n",
      "\n"
     ],
     "language": "python",
     "metadata": {},
     "outputs": []
    }
   ],
   "metadata": {}
  }
 ]
}