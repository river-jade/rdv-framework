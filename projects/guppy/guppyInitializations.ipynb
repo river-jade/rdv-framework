{
 "metadata": {
  "name": "guppyInitializations"
 },
 "nbformat": 3,
 "nbformat_minor": 0,
 "worksheets": [
  {
   "cells": [
    {
     "cell_type": "code",
     "collapsed": false,
     "input": [
      "#===============================================================================\n",
      "#  This bar is just here to show the 80 character margin since I can't currently\n",
      "#  see a way to do that in ipython itself.\n",
      "#==============================================================================="
     ],
     "language": "python",
     "metadata": {},
     "outputs": [],
     "prompt_number": 1
    },
    {
     "cell_type": "code",
     "collapsed": false,
     "input": [
      "    #  BTL - 2013.07.15\n",
      "    #  This is just while I'm figuring out how to do tests of things in ipython, \n",
      "    #  particularly when they involve creating and moving to directories that \n",
      "    #  may be very different for tzar.\n",
      "    \n",
      "    #  ONCE THINGS ARE FIGURED OUT, ALL USES OF tempDontMakeDirsYet \n",
      "    #  NEED TO BE REMOVED AND THIS LITTLE BLOCK NEEDS TO BE REMOVED.\n",
      "\n",
      "tempDontMakeDirsYet = True\n",
      "print \"\\n\\n\\n====>>>  tempDontMakeDirsYet = \", tempDontMakeDirsYet, \"\\n\\n\\n\""
     ],
     "language": "python",
     "metadata": {},
     "outputs": [
      {
       "output_type": "stream",
       "stream": "stdout",
       "text": [
        "\n",
        "\n",
        "\n",
        "====>>>  tempDontMakeDirsYet =  True \n",
        "\n",
        "\n",
        "\n"
       ]
      }
     ],
     "prompt_number": 2
    },
    {
     "cell_type": "code",
     "collapsed": false,
     "input": [
      "#                               guppyInitializations.py\n",
      "\n",
      "#  Initialize global guppy variables and create necessary directories, etc.\n",
      "\n",
      "#  Usage:\n",
      "#      python 'guppyInitializations.py'"
     ],
     "language": "python",
     "metadata": {},
     "outputs": [],
     "prompt_number": 3
    },
    {
     "cell_type": "code",
     "collapsed": false,
     "input": [
      "#  History:\n",
      "\n",
      "#  2013.07.14 - BTL\n",
      "#  Converted to python.\n",
      "\n",
      "#  2013.04 - BTL\n",
      "#  Split out of guppy.test.maxent.v9.R and later versions of runMaxent.R."
     ],
     "language": "python",
     "metadata": {},
     "outputs": [],
     "prompt_number": 4
    },
    {
     "cell_type": "code",
     "collapsed": false,
     "input": [
      "#  NOTE:\n",
      "#\n",
      "#  Many things in here have an absolute path that looks like this:\n",
      "#\n",
      "#\t\t\t/Users/Bill/D/rdv-framework/lib/maxent\n",
      "#\n",
      "#  This will fail when moved to windows or linux because rdv is not in:\n",
      "#\n",
      "#\t\t\t/Users/Bill/D\n",
      "#\n",
      "#  Is that lead-in for rdv's location available somewhere as a variable\n",
      "#  in the variables list?"
     ],
     "language": "python",
     "metadata": {},
     "outputs": [],
     "prompt_number": 5
    },
    {
     "cell_type": "heading",
     "level": 3,
     "metadata": {},
     "source": [
      "Output from log file of a tzar run of the R version to show what values should be produced"
     ]
    },
    {
     "cell_type": "markdown",
     "metadata": {},
     "source": [
      "Location of log file this output is taken from:\n",
      "\n",
      "(paths copied from TextWrangler top bar's File Path pulldown)\n",
      "\n",
      "path ========> ~/tzar/outputdata/Guppy/default_runset/114_Scen_1/logging.log\n",
      "\n",
      "full path =====> /Users/Bill/tzar/outputdata/Guppy/default_runset/114_Scen_1/logging.log\n",
      "\n",
      "url =========> file://localhost/Users/Bill/tzar/outputdata/Guppy/default_runset/114_Scen_1/logging.log"
     ]
    },
    {
     "cell_type": "raw",
     "metadata": {},
     "source": [
      "[FINE|4:06:15]: Rscript ./R/rrunner.R --paramfile=/Users/Bill/tzar/outputdata/Guppy/default_runset/114_Scen_1.inprogress/parameters.json --rscript=./projects/guppy/runMaxent.R --outputpath=/Users/Bill/tzar/outputdata/Guppy/default_runset/114_Scen_1.inprogress/ --inputpath=./projects/guppy/ \n",
      "[FINE|4:06:15]:  \n",
      "[FINE|4:06:15]:  \n",
      "[FINE|4:06:15]: os = 'darwin9.8.0' \n",
      "[FINE|4:06:15]:  \n",
      "[FINE|4:06:15]:  \n",
      "[FINE|4:06:15]: dir.slash = '/' \n",
      "[FINE|4:06:15]:  \n",
      "[FINE|4:06:15]:  \n",
      "[FINE|4:06:15]: rdvRootDir = /Users/Bill/D/rdv-framework \n",
      "[FINE|4:06:15]: rdvSharedRsrcDir = /Users/Bill/D/rdv-framework/R \n",
      "[FINE|4:06:15]: guppyProjectRsrcDirWithSlash = /Users/Bill/D/rdv-framework/projects/guppy/ \n",
      "[FINE|4:06:15]:  \n",
      "[FINE|4:06:15]: Loading required package: methods \n",
      "[FINE|4:06:15]:  \n",
      "[FINE|4:06:15]:  \n",
      "[FINE|4:06:15]: random.seed = '20', class (random.seed) = 'numeric') \n",
      "[FINE|4:06:15]:  \n",
      "[FINE|4:06:15]:  \n",
      "[FINE|4:06:15]:  \n",
      "[FINE|4:06:15]: =========  START str() of the 3 lists  ========= \n",
      "[FINE|4:06:15]:  \n",
      "[FINE|4:06:15]: List of 1 \n",
      "[FINE|4:06:15]:  $ PAR.input.directory: chr \"./projects/guppy/input_data\" \n",
      "[FINE|4:06:15]: List of 6 \n",
      "[FINE|4:06:15]:  $ PAR.maxent.gen.output.dir.name: chr \"/Users/Bill/tzar/outputdata/Guppy/default_runset/114_Scen_1.inprogress/MaxentGenOutputs\" \n",
      "[FINE|4:06:15]:  $ PAR.zonation.files.dir.name   : chr \"/Users/Bill/tzar/outputdata/Guppy/default_runset/114_Scen_1.inprogress/Zonation\" \n",
      "[FINE|4:06:15]:  $ PAR.prob.dist.layers.dir.name : chr \"/Users/Bill/tzar/outputdata/Guppy/default_runset/114_Scen_1.inprogress/MaxentProbDistLayers\" \n",
      "[FINE|4:06:15]:  $ PAR.testing.output.filename   : chr \"/Users/Bill/tzar/outputdata/Guppy/default_runset/114_Scen_1.inprogress/test_output_file.txt\" \n",
      "[FINE|4:06:15]:  $ PAR.current.run.directory     : chr \"/Users/Bill/tzar/outputdata/Guppy/default_runset/114_Scen_1.inprogress/\" \n",
      "[FINE|4:06:15]:  $ PAR.maxent.output.dir.name    : chr \"/Users/Bill/tzar/outputdata/Guppy/default_runset/114_Scen_1.inprogress/MaxentOutputs\" \n",
      "[FINE|4:06:15]: List of 57 \n",
      "[FINE|4:06:15]:  $ PAR.min.true.presence.fraction.of.landscape: num 2e-04 \n",
      "[FINE|4:06:15]:  $ PAR.truncated.percent.err.img              : logi TRUE \n",
      "[FINE|4:06:15]:  $ PAR.genTruePresWithArithmeticCombinations  : logi FALSE \n",
      "[FINE|4:06:15]:  $ PAR.spp.hab.map.filename.root.win          : chr \"MaxentOutputs\\\\\\\\spp\" \n",
      "[FINE|4:06:15]:  $ PAR.analysis.dir.name                      : chr \"ResultsAnalysis\" \n",
      "[FINE|4:06:15]:  $ PAR.path.to.zonation                       : chr \"lib/zonation\" \n",
      "[FINE|4:06:15]:  $ PAR.maxent.samples.base.name               : chr \"MaxentSamples\" \n",
      "[FINE|4:06:15]:  $ PAR.num.processors                         : num 1 \n",
      "[FINE|4:06:15]:  $ PAR.run.zonation                           : logi TRUE \n",
      "[FINE|4:06:15]:  $ PAR.write.to.file                          : logi FALSE \n",
      "[FINE|4:06:15]:  $ PAR.show.abs.error.in.dist                 : logi TRUE \n",
      "[FINE|4:06:15]:  $ PAR.random.seed                            : num 20 \n",
      "[FINE|4:06:15]:  $ PAR.num.spp.to.create                      : num 5 \n",
      "[FINE|4:06:15]:  $ PAR.use.random.num.true.presences          : logi TRUE \n",
      "[FINE|4:06:15]:  $ PAR.zonation.app.spp.list.filename         : chr \"zonation_app_spp_list.dat\" \n",
      "[FINE|4:06:15]:  $ PAR.use.old.maxent.output.for.input        : logi FALSE \n",
      "[FINE|4:06:15]:  $ PAR.minNumPres                             : num 3 \n",
      "[FINE|4:06:15]:  $ PAR.use.pnm.env.layers                     : logi TRUE \n",
      "[FINE|4:06:15]:  $ PAR.zonation.cor.output.filename           : chr \"zonation_cor_output\" \n",
      "[FINE|4:06:15]:  $ CONST.add.rule                             : num 2 \n",
      "[FINE|4:06:15]:  $ PAR.num.true.presences                     : chr \"50,100,75\" \n",
      "[FINE|4:06:15]:  $ PAR.remoteEnvDir                           : chr \"http://glass.eres.rmit.edu.au/tzar_input/guppy/AlexFractalData/H\" \n",
      "[FINE|4:06:15]:  $ PAR.localEnvDirWin                         : chr \"Z:/Bill/D/Projects_RMIT/AAA_PapersInProgress/G01 - simulated_ecology/MaxentTests/AlexsSyntheticLandscapes/IDLOutputAll2/H\" \n",
      "[FINE|4:06:15]:  $ PAR.variable.to.test.repetitions           : num -99 \n",
      "[FINE|4:06:15]:  $ PAR.zonation.spp.list.filename             : chr \"zonation_spp_list.dat\" \n",
      "[FINE|4:06:15]:  $ PAR.genTruePresWithMaxent                  : logi TRUE \n",
      "[FINE|4:06:15]:  $ PAR.fileSizeSuffix                         : chr \".256\" \n",
      "[FINE|4:06:15]:  $ PAR.trueProbDistFilePrefix                 : chr \"true.prob.dist\" \n",
      "[FINE|4:06:15]:  $ PAR.do.maxent.replicates                   : logi FALSE \n",
      "[FINE|4:06:15]:  $ PAR.zonation.app.output.filename           : chr \"zonation_app_output\" \n",
      "[FINE|4:06:15]:  $ PAR.zonation.parameter.filename            : chr \"lib/zonation/Z_parameter_settings.dat\" \n",
      "[FINE|4:06:15]:  $ PAR.show.raw.error.in.dist                 : logi TRUE \n",
      "[FINE|4:06:15]:  $ PAR.zonation.exe.filename                  : chr \"zig3.exe\" \n",
      "[FINE|4:06:15]:  $ PAR.maxent.env.layers.base.name            : chr \"MaxentEnvLayers\" \n",
      "[FINE|4:06:15]:  $ PAR.use.filled.contour                     : logi TRUE \n",
      "[FINE|4:06:15]:  $ PAR.show.abs.percent.error.in.dist         : logi TRUE \n",
      "[FINE|4:06:15]:  $ PAR.closeZonationWindowOnCompletion        : logi TRUE \n",
      "[FINE|4:06:15]:  $ PAR.path.to.maxent.input.data              : chr \"..\" \n",
      "[FINE|4:06:15]:  $ PAR.pathToRfiles                           : chr \"./projects/guppy/\" \n",
      "[FINE|4:06:15]:  $ PAR.useRemoteEnvDir                        : logi FALSE \n",
      "[FINE|4:06:15]:  $ PAR.use.all.samples                        : logi FALSE \n",
      "[FINE|4:06:15]:  $ PAR.rdv.directory                          : chr \"\" \n",
      "[FINE|4:06:15]:  $ PAR.show.heatmap                           : logi TRUE \n",
      "[FINE|4:06:15]:  $ PAR.maxNumPres                             : num 9 \n",
      "[FINE|4:06:15]:  $ CONST.product.rule                         : num 1 \n",
      "[FINE|4:06:15]:  $ PAR.max.true.presence.fraction.of.landscape: num 0.002 \n",
      "[FINE|4:06:15]:  $ PAR.spp.hab.map.filename.root              : chr \"MaxentOutputs/spp\" \n",
      "[FINE|4:06:15]:  $ PAR.path.to.maxent                         : chr \"lib/maxent\" \n",
      "[FINE|4:06:15]:  $ PAR.show.percent.error.in.dist             : logi TRUE \n",
      "[FINE|4:06:15]:  $ PAR.use.draw.image                         : logi FALSE \n",
      "[FINE|4:06:15]:  $ PAR.zonation.cor.spp.list.filename         : chr \"zonation_cor_spp_list.dat\" \n",
      "[FINE|4:06:15]:  $ PAR.num.spp.in.reserve.selection           : num 3 \n",
      "[FINE|4:06:15]:  $ PAR.numEnvLayers                           : num 5 \n",
      "[FINE|4:06:15]:  $ PAR.num.maxent.replicates                  : num 5 \n",
      "[FINE|4:06:15]:  $ PAR.RwarningLevel                          : num 1 \n",
      "[FINE|4:06:15]:  $ PAR.localEnvDirMac                         : chr \"/Users/Bill/D/Projects_RMIT/AAA_PapersInProgress/G01 - simulated_ecology/MaxentTests/AlexsSyntheticLandscapes/IDLOutputAll2/H\" \n",
      "[FINE|4:06:15]:  $ PAR.maxent.replicateType                   : chr \"crossvalidate\" \n",
      "[FINE|4:06:15]:  \n",
      "[FINE|4:06:15]:  \n",
      "[FINE|4:06:15]: =========  END str() of the 3 lists  ========= \n",
      "[FINE|4:06:15]:  \n",
      "[FINE|4:06:15]:  \n",
      "[FINE|4:06:15]:  \n",
      "[FINE|4:06:15]: startingDir = '/Users/Bill/D/rdv-framework' \n",
      "[FINE|4:06:15]:  \n",
      "[FINE|4:06:15]: pathToRfiles = './projects/guppy/' \n",
      "[FINE|4:06:15]:  \n",
      "[FINE|4:06:15]: PAR.rdv.directory = '' \n",
      "[FINE|4:06:15]:  \n",
      "[FINE|4:06:15]: PAR.input.directory = '/projects/guppy/input_data' \n",
      "[FINE|4:06:15]:  \n",
      "[FINE|4:06:15]: PAR.current.run.directory = '/Users/Bill/tzar/outputdata/Guppy/default_runset/114_Scen_1.inprogress/' \n",
      "[FINE|4:06:15]: prob.dist.layers.dir = '/Users/Bill/tzar/outputdata/Guppy/default_runset/114_Scen_1.inprogress/MaxentProbDistLayers' \n",
      "[FINE|4:06:15]: maxent.output.dir = '/Users/Bill/tzar/outputdata/Guppy/default_runset/114_Scen_1.inprogress/MaxentOutputs' \n",
      "[FINE|4:06:15]: maxent.gen.output.dir = '/Users/Bill/tzar/outputdata/Guppy/default_runset/114_Scen_1.inprogress/MaxentGenOutputs' \n",
      "[FINE|4:06:15]: analysis.dir.with.slash = '/Users/Bill/tzar/outputdata/Guppy/default_runset/114_Scen_1.inprogress/ResultsAnalysis/' \n",
      "[FINE|4:06:15]:  \n",
      "[FINE|4:06:15]: cur.full.maxent.env.layers.dir.name = '/Users/Bill/tzar/outputdata/Guppy/default_runset/114_Scen_1.inprogress/MaxentEnvLayers' \n",
      "[FINE|4:06:15]:  \n",
      "[FINE|4:06:15]: cur.full.maxent.samples.dir.name = '/Users/Bill/tzar/outputdata/Guppy/default_runset/114_Scen_1.inprogress/MaxentSamples' \n",
      "[FINE|4:06:15]:  \n",
      "[FINE|4:06:15]: combinedPresSamplesFileName = '/Users/Bill/tzar/outputdata/Guppy/default_runset/114_Scen_1.inprogress/MaxentSamples/spp.sampledPres.combined.csv' \n",
      "[FINE|4:06:15]:  \n",
      "[FINE|4:06:15]:  \n",
      "[FINE|4:06:15]:  \n",
      "[FINE|4:06:15]: PAR.path.to.maxent = 'lib/maxent' \n",
      "[FINE|4:06:15]:  \n",
      "[FINE|4:06:15]: maxent.full.path.name = ' /Users/Bill/D/rdv-framework/lib/maxent/maxent.jar ' \n",
      "[FINE|4:06:15]:  \n",
      "[FINE|4:06:15]: variables$PAR.useRemoteEnvDir = 'FALSE' \n",
      "[FINE|4:06:15]:  \n",
      "[FINE|4:06:15]: useRemoteEnvDir = 'FALSE' \n",
      "[FINE|4:06:15]:  \n",
      "[FINE|4:06:15]: variables$PAR.remoteEnvDir = 'http://glass.eres.rmit.edu.au/tzar_input/guppy/AlexFractalData/H' \n",
      "[FINE|4:06:15]:  \n",
      "[FINE|4:06:15]: variables$PAR.localEnvDirMac = '/Users/Bill/D/Projects_RMIT/AAA_PapersInProgress/G01 - simulated_ecology/MaxentTests/AlexsSyntheticLandscapes/IDLOutputAll2/H' \n",
      "[FINE|4:06:15]:  \n",
      "[FINE|4:06:15]: variables$PAR.localEnvDirWin = 'Z:/Bill/D/Projects_RMIT/AAA_PapersInProgress/G01 - simulated_ecology/MaxentTests/AlexsSyntheticLandscapes/IDLOutputAll2/H' \n",
      "[FINE|4:06:15]:  \n",
      "[FINE|4:06:15]: envLayersDir = '/Users/Bill/D/Projects_RMIT/AAA_PapersInProgress/G01 - simulated_ecology/MaxentTests/AlexsSyntheticLandscapes/IDLOutputAll2/H' \n",
      "[FINE|4:06:15]:  \n",
      "[FINE|4:06:15]: PAR.path.to.maxent.input.data = '..' \n",
      "[FINE|4:06:15]:  \n",
      "[FINE|4:06:15]: num.env.layers = '5' \n",
      "[FINE|4:06:15]:  \n",
      "[FINE|4:06:15]: eLayerFileNamePrefix = 'e01_' \n",
      "[FINE|4:06:15]:  \n",
      "[FINE|4:06:15]: envSrcDir = '/Users/Bill/D/Projects_RMIT/AAA_PapersInProgress/G01 - simulated_ecology/MaxentTests/AlexsSyntheticLandscapes/IDLOutputAll2/H08/' \n",
      "[FINE|4:06:15]:  \n",
      "[FINE|4:06:15]:  \n",
      "[FINE|4:06:15]: fullImgFileDestPath = '/Users/Bill/tzar/outputdata/Guppy/default_runset/114_Scen_1.inprogress/MaxentEnvLayers/e01_H08_77.asc' \n",
      "[FINE|4:06:15]: srcFile = ' /Users/Bill/D/Projects_RMIT/AAA_PapersInProgress/G01 - simulated_ecology/MaxentTests/AlexsSyntheticLandscapes/IDLOutputAll2/H08/H08_77.256.asc ' \n",
      "[FINE|4:06:15]:  \n",
      "[FINE|4:06:15]: suffix = '.asc' \n",
      "[FINE|4:06:15]:  \n",
      "[FINE|4:06:15]:  \n",
      "[FINE|4:06:15]: fullImgFileDestPath = '/Users/Bill/tzar/outputdata/Guppy/default_runset/114_Scen_1.inprogress/MaxentEnvLayers/e01_H08_77.pgm' \n",
      "[FINE|4:06:15]: srcFile = ' /Users/Bill/D/Projects_RMIT/AAA_PapersInProgress/G01 - simulated_ecology/MaxentTests/AlexsSyntheticLandscapes/IDLOutputAll2/H08/H08_77.256.pgm ' \n",
      "[FINE|4:06:15]:  \n",
      "[FINE|4:06:15]: suffix = '.pgm' \n",
      "[FINE|4:06:15]:  \n",
      "[FINE|4:06:15]:  \n",
      "[FINE|4:06:15]: suffix is .pnm so adding env.layer \n",
      "[FINE|4:06:15]:  \n",
      "[FINE|4:06:15]: length (env.layers) before = '5Read 65536 items \n",
      "[FINE|4:06:15]:  \n",
      "[FINE|4:06:15]:  \n",
      "[FINE|4:06:15]: is.matrix(img.matrix) in get.img.matrix.from.pnm = 'TRUE \n",
      "[FINE|4:06:15]:  \n",
      "[FINE|4:06:15]:  \n",
      "[FINE|4:06:15]: is.vector(img.matrix) in get.img.matrix.from.pnm = 'FALSE \n",
      "[FINE|4:06:15]:  \n",
      "[FINE|4:06:15]:  \n",
      "[FINE|4:06:15]: dim(img.matrix) in get.img.matrix.from.pnm = '256256 \n",
      "[FINE|4:06:15]:  \n",
      "[FINE|4:06:15]: dim (new.env.layer) before = '256256 \n",
      "[FINE|4:06:15]:  \n",
      "[FINE|4:06:15]: is.matrix(new.env.layer) in get.img.matrix.from.pnm = 'TRUE \n",
      "[FINE|4:06:15]:  \n",
      "[FINE|4:06:15]:  \n",
      "[FINE|4:06:15]: is.vector(new.env.layer) in get.img.matrix.from.pnm = 'FALSE \n",
      "[FINE|4:06:15]:  \n",
      "[FINE|4:06:15]:  \n",
      "[FINE|4:06:15]: class(new.env.layer) in get.img.matrix.from.pnm = 'matrix \n",
      "[FINE|4:06:15]:  \n",
      "[FINE|4:06:15]: length (env.layers) AFTER = '5 \n",
      "[FINE|4:06:15]:  \n",
      "[FINE|4:06:15]: new.env.layer [1:3,1:3] =  \n",
      "[FINE|4:06:15]: 0.67843140.66666670.67843140.66666670.67843140.67843140.66666670.66666670.6784314 \n",
      "[FINE|4:06:15]:  \n",
      "[FINE|4:06:15]: new.env.layer [1, 1] = 0.6784314, and class = numeric \n",
      "[FINE|4:06:15]: new.env.layer [1, 2] = 0.6666667, and class = numeric \n",
      "[FINE|4:06:15]: new.env.layer [1, 3] = 0.6666667, and class = numeric \n",
      "[FINE|4:06:15]: new.env.layer [2, 1] = 0.6666667, and class = numeric \n",
      "[FINE|4:06:15]: new.env.layer [2, 2] = 0.6784314, and class = numeric \n",
      "[FINE|4:06:15]: new.env.layer [2, 3] = 0.6666667, and class = numeric \n",
      "[FINE|4:06:15]: new.env.layer [3, 1] = 0.6784314, and class = numeric \n",
      "[FINE|4:06:15]: new.env.layer [3, 2] = 0.6784314, and class = numeric \n",
      "[FINE|4:06:15]: new.env.layer [3, 3] = 0.6784314, and class = numeric \n",
      "[FINE|4:06:15]:  \n",
      "[FINE|4:06:15]: eLayerFileNamePrefix = 'e02_' \n"
     ]
    },
    {
     "cell_type": "code",
     "collapsed": false,
     "input": [
      "dirSlash = \"/\"    #  How does python sense this for each OS?\n",
      "\t\t\t\t\t#  Should this be in the yaml file?"
     ],
     "language": "python",
     "metadata": {},
     "outputs": [],
     "prompt_number": 6
    },
    {
     "cell_type": "code",
     "collapsed": false,
     "input": [
      "    #  Move to the guppy working directory.\n",
      "    #  NOTE:  This may be an issue in the long run when running under tzar.\n",
      "    #         I need to move there now so that netpbmfile will be found when imported.\n",
      "    #         However, when running under tzar, we will have cd-ed to the tzar directory.\n",
      "    #         Or will we?  Not sure if that move will show up inside this python code...\n",
      "import os\n",
      "\n",
      "guppyDir = '/Users/Bill/D/rdv-framework/projects/guppy/'\n",
      "os.chdir (guppyDir)\n",
      "os.getcwd()\n"
     ],
     "language": "python",
     "metadata": {},
     "outputs": [
      {
       "output_type": "pyout",
       "prompt_number": 7,
       "text": [
        "'/Users/Bill/D/rdv-framework/projects/guppy'"
       ]
      }
     ],
     "prompt_number": 7
    },
    {
     "cell_type": "markdown",
     "metadata": {},
     "source": [
      "Note that the cell below will need its reference to tempDontMakeDirsYet \n",
      "removed once that issue is all straightened out.  That variable can just be set to False, but it will be better to wipe it out altogether when things are working right."
     ]
    },
    {
     "cell_type": "code",
     "collapsed": false,
     "input": [
      "def createDirIfDoesntExist (dirToMake):\n",
      "\tif tempDontMakeDirsYet:\n",
      "\t\tprint \"\\n====>>>  Would make dir '\" + dirToMake + \"' now.\"\n",
      "\telse:\n",
      "\t\tif not os.path.isdir (dirToMake):\n",
      "\t\t\tos.makedirs (dirToMake)"
     ],
     "language": "python",
     "metadata": {},
     "outputs": [],
     "prompt_number": 8
    },
    {
     "cell_type": "code",
     "collapsed": false,
     "input": [
      "import yaml\n",
      "from pprint import pprint\n",
      "\n",
      "yamlFile = open(\"projectparams.yaml\", \"r\")\n",
      "\n",
      "projectParams = yaml.load(yamlFile)\n",
      "baseParams = projectParams ['base_params']\n",
      "variables = baseParams ['variables']\n",
      "outputFiles = baseParams ['output_files']\n",
      "inputFiles = baseParams ['input_files']\n",
      "\n",
      "'''\n",
      "print \"\\n===============================\\n\"\n",
      "print \"PROJECTPARAMS = \\n\"\n",
      "pprint (projectParams)\n",
      "\n",
      "print \"\\n===============================\\n\"\n",
      "print \"BASEPARAMS = \\n\"\n",
      "pprint (baseParams)\n",
      "'''\n",
      "\n",
      "print \"\\n===============================\\n\"\n",
      "print \"INPUTFILES = \\n\"\n",
      "pprint (inputFiles)\n",
      "\n",
      "print \"\\n===============================\\n\"\n",
      "print \"OUTPUTFILES = \\n\"\n",
      "pprint (outputFiles)\n",
      "\n",
      "print \"\\n===============================\\n\"\n",
      "print \"VARIABLES = \\n\"\n",
      "pprint (variables)\n",
      "\n",
      "print \"\\n===============================\\n\"\n"
     ],
     "language": "python",
     "metadata": {},
     "outputs": [
      {
       "output_type": "stream",
       "stream": "stdout",
       "text": [
        "\n",
        "===============================\n",
        "\n",
        "INPUTFILES = \n",
        "\n",
        "{'PAR.input.directory': 'input_data'}\n",
        "\n",
        "===============================\n",
        "\n",
        "OUTPUTFILES = \n",
        "\n",
        "{'PAR.current.run.directory': '',\n",
        " 'PAR.maxent.gen.output.dir.name': 'MaxentGenOutputs',\n",
        " 'PAR.maxent.output.dir.name': 'MaxentOutputs',\n",
        " 'PAR.prob.dist.layers.dir.name': 'MaxentProbDistLayers',\n",
        " 'PAR.testing.output.filename': 'test_output_file.txt',\n",
        " 'PAR.zonation.files.dir.name': 'Zonation'}\n",
        "\n",
        "===============================\n",
        "\n",
        "VARIABLES = \n",
        "\n",
        "{'CONST.add.rule': 2,\n",
        " 'CONST.product.rule': 1,\n",
        " 'PAR.RwarningLevel': 1,\n",
        " 'PAR.analysis.dir.name': 'ResultsAnalysis',\n",
        " 'PAR.closeZonationWindowOnCompletion': True,\n",
        " 'PAR.do.maxent.replicates': False,\n",
        " 'PAR.fileSizeSuffix': '.256',\n",
        " 'PAR.genTruePresWithArithmeticCombinations': False,\n",
        " 'PAR.genTruePresWithMaxent': True,\n",
        " 'PAR.localEnvDirMac': '/Users/Bill/D/Projects_RMIT/AAA_PapersInProgress/G01 - simulated_ecology/MaxentTests/AlexsSyntheticLandscapes/IDLOutputAll2/H',\n",
        " 'PAR.localEnvDirWin': 'Z:/Bill/D/Projects_RMIT/AAA_PapersInProgress/G01 - simulated_ecology/MaxentTests/AlexsSyntheticLandscapes/IDLOutputAll2/H',\n",
        " 'PAR.max.true.presence.fraction.of.landscape': 0.002,\n",
        " 'PAR.maxNumPres': 9,\n",
        " 'PAR.maxent.env.layers.base.name': 'MaxentEnvLayers',\n",
        " 'PAR.maxent.replicateType': 'crossvalidate',\n",
        " 'PAR.maxent.samples.base.name': 'MaxentSamples',\n",
        " 'PAR.min.true.presence.fraction.of.landscape': 0.0002,\n",
        " 'PAR.minNumPres': 3,\n",
        " 'PAR.num.maxent.replicates': 5,\n",
        " 'PAR.num.processors': 1,\n",
        " 'PAR.num.spp.in.reserve.selection': 100,\n",
        " 'PAR.num.spp.to.create': 100,\n",
        " 'PAR.num.true.presences': '50,100,75',\n",
        " 'PAR.numEnvLayers': 10,\n",
        " 'PAR.path.to.maxent': 'lib/maxent',\n",
        " 'PAR.path.to.maxent.input.data': '..',\n",
        " 'PAR.path.to.zonation': 'lib/zonation',\n",
        " 'PAR.pathToRfiles': './projects/guppy/',\n",
        " 'PAR.random.seed': 19,\n",
        " 'PAR.rdv.directory': '',\n",
        " 'PAR.remoteEnvDir': 'http://glass.eres.rmit.edu.au/tzar_input/guppy/AlexFractalData/H',\n",
        " 'PAR.run.zonation': True,\n",
        " 'PAR.show.abs.error.in.dist': True,\n",
        " 'PAR.show.abs.percent.error.in.dist': True,\n",
        " 'PAR.show.heatmap': False,\n",
        " 'PAR.show.percent.error.in.dist': True,\n",
        " 'PAR.show.raw.error.in.dist': True,\n",
        " 'PAR.spp.hab.map.filename.root': 'MaxentOutputs/spp',\n",
        " 'PAR.spp.hab.map.filename.root.win': 'MaxentOutputs\\\\\\\\spp',\n",
        " 'PAR.trueProbDistFilePrefix': 'true.prob.dist',\n",
        " 'PAR.truncated.percent.err.img': True,\n",
        " 'PAR.use.all.samples': False,\n",
        " 'PAR.use.draw.image': False,\n",
        " 'PAR.use.filled.contour': True,\n",
        " 'PAR.use.old.maxent.output.for.input': False,\n",
        " 'PAR.use.pnm.env.layers': True,\n",
        " 'PAR.use.random.num.true.presences': True,\n",
        " 'PAR.useRemoteEnvDir': True,\n",
        " 'PAR.variable.to.test.repetitions': -99,\n",
        " 'PAR.write.to.file': False,\n",
        " 'PAR.zonation.app.output.filename': 'zonation_app_output',\n",
        " 'PAR.zonation.app.spp.list.filename': 'zonation_app_spp_list.dat',\n",
        " 'PAR.zonation.cor.output.filename': 'zonation_cor_output',\n",
        " 'PAR.zonation.cor.spp.list.filename': 'zonation_cor_spp_list.dat',\n",
        " 'PAR.zonation.exe.filename': 'zig3.exe',\n",
        " 'PAR.zonation.parameter.filename': 'lib/zonation/Z_parameter_settings.dat',\n",
        " 'PAR.zonation.spp.list.filename': 'zonation_spp_list.dat'}\n",
        "\n",
        "===============================\n",
        "\n"
       ]
      }
     ],
     "prompt_number": 9
    },
    {
     "cell_type": "code",
     "collapsed": false,
     "input": [
      "import random"
     ],
     "language": "python",
     "metadata": {},
     "outputs": [],
     "prompt_number": 10
    },
    {
     "cell_type": "code",
     "collapsed": false,
     "input": [
      "\t#---------------------------------------------------------------------\n",
      "    #  Temporary fixes to things that were set in guppy.test.maxent.v9.R\n",
      "    #  but don't seem to appear anywhere here.\n",
      "    #  BTL - 2013 04 04\n",
      "\t#---------------------------------------------------------------------\n",
      "\n",
      "randomSeed = variables ['PAR.random.seed']\n",
      "print \"\\nrandom.seed = '\" + str(randomSeed) + \"', class (randomSeed) = '\" + randomSeed.__class__.__name__ + '\\n'\n",
      "random.seed (randomSeed)\n"
     ],
     "language": "python",
     "metadata": {},
     "outputs": [
      {
       "output_type": "stream",
       "stream": "stdout",
       "text": [
        "\n",
        "random.seed = '19', class (randomSeed) = 'int\n",
        "\n"
       ]
      }
     ],
     "prompt_number": 11
    },
    {
     "cell_type": "code",
     "collapsed": false,
     "input": [
      "\t#---------------------------------------------------\n",
      "\t#  default value for number of processors in the\n",
      "    #  current machine.\n",
      "    #  maxent can use this value to speed up some\n",
      "    #  of its operations by creating more threads.\n",
      "    #  It's not a necessary thing to set for any other\n",
      "    #  reason.\n",
      "\t#---------------------------------------------------\n",
      "\n",
      "PARnumProcessors = variables ['PAR.num.processors']\n",
      "print \"\\nPARnumProcessors =\", PARnumProcessors"
     ],
     "language": "python",
     "metadata": {},
     "outputs": [
      {
       "output_type": "stream",
       "stream": "stdout",
       "text": [
        "\n",
        "PARnumProcessors = 1\n"
       ]
      }
     ],
     "prompt_number": 12
    },
    {
     "cell_type": "code",
     "collapsed": false,
     "input": [
      "startingDir = os.getcwd()\n",
      "print \"\\nstartingDir = '\" + startingDir + \"'\""
     ],
     "language": "python",
     "metadata": {},
     "outputs": [
      {
       "output_type": "stream",
       "stream": "stdout",
       "text": [
        "\n",
        "startingDir = '/Users/Bill/D/rdv-framework/projects/guppy'\n"
       ]
      }
     ],
     "prompt_number": 13
    },
    {
     "cell_type": "code",
     "collapsed": false,
     "input": [
      "pathToRfiles = variables ['PAR.pathToRfiles']\n",
      "print \"\\npathToRfiles = '\" + pathToRfiles + \"'\""
     ],
     "language": "python",
     "metadata": {},
     "outputs": [
      {
       "output_type": "stream",
       "stream": "stdout",
       "text": [
        "\n",
        "pathToRfiles = './projects/guppy/'\n"
       ]
      }
     ],
     "prompt_number": 14
    },
    {
     "cell_type": "code",
     "collapsed": false,
     "input": [
      "PARrdvDirectory = variables ['PAR.rdv.directory']\n",
      "print \"\\nPARrdvDirectory = '\" + PARrdvDirectory + \"'\""
     ],
     "language": "python",
     "metadata": {},
     "outputs": [
      {
       "output_type": "stream",
       "stream": "stdout",
       "text": [
        "\n",
        "PARrdvDirectory = ''\n"
       ]
      }
     ],
     "prompt_number": 15
    },
    {
     "cell_type": "code",
     "collapsed": false,
     "input": [
      "PARinputDirectoryFromYaml = inputFiles ['PAR.input.directory']\n",
      "print \"\\nPARinputDirectoryFromYaml = '\" + PARinputDirectoryFromYaml + \"'\""
     ],
     "language": "python",
     "metadata": {},
     "outputs": [
      {
       "output_type": "stream",
       "stream": "stdout",
       "text": [
        "\n",
        "PARinputDirectoryFromYaml = 'input_data'\n"
       ]
      }
     ],
     "prompt_number": 16
    },
    {
     "cell_type": "markdown",
     "metadata": {},
     "source": [
      "=================================================================================================\n",
      "\n",
      "NOTE: There is a ***BUG*** here in stripping the first two characters off the start of the PARinputDirectoryFromYaml string.  \n",
      "\n",
      "Not sure why this was done in the R version, but in the test python version where the string is \"inputData\", it reduces that string to \"putData\", which is definitely wrong.  Might have been stripping something like \"D/\" off of the R version?\n",
      "\n",
      "After having a look at an example tzar log, I can see what's going on now.\n",
      "\n",
      "This code assumes that whatever string is handed to it will need the first two characters removed and then it will splice the rdv directory together with a slash and whatever came after the first two characters.  For example, in the example log file this means that you will splice:\n",
      "\n",
      "rdv.dir = \"\"\n",
      "\n",
      "dirSlash = \"/\"\n",
      "\n",
      "\"./projects/guppy/input_data\" minus the two lead characters to give:  \"projects/guppy/input_data\"\n",
      "\n",
      "The result is then:\n",
      "\n",
      "\"\" + \"/\" + \"projects/guppy/input_data\"    =    \"/projects/guppy/input_data\"\n",
      "\n",
      "So, it looks like this is all setting up to tack this onto the end of another directory path that lacks a trailing slash - though I think that you can actually splice \"x/\" + \"./project\" to get \"x/./project\" and it will still work as a legal path.  The main problem here is that the yaml file doesn't guarantee anything at all about what variables ['PAR.input.directory'] looks like.  That will have to be dealt with here.  \n",
      "\n",
      "Still, it worked before so for the moment, I'm just going to flag the lead character condition as a WARNING.  Should probably throw some kind of exception...\n",
      "\n",
      "This is all partly related to whatever tzar does in building the 3 dictionaries that I'm reading in directly here, but tzar modifies.  \n",
      "\n",
      "================================================================================================="
     ]
    },
    {
     "cell_type": "code",
     "collapsed": false,
     "input": [
      "leadChars = PARinputDirectoryFromYaml [0:2]\n",
      "print \"\\nleadChars = '\" + leadChars + \"'\"\n",
      "if leadChars == \"./\":\n",
      "    PARinputDirectory = PARrdvDirectory + dirSlash + PARinputDirectoryFromYaml [2:]\n",
      "else:\n",
      "    PARinputDirectory = PARrdvDirectory + dirSlash + PARinputDirectoryFromYaml\n",
      "    print \"\\n***********  WARNING  ***********\\n\" + \"    leadChars of PARinputDirectoryFromYaml = '\" + leadChars + \"' rather than './' so not stripping.\"\n",
      "    print \"    PARinputDirectory may be messed up.\" + \"\\n***********           ***********\"\n",
      "print \"\\nPARinputDirectory = '\" + PARinputDirectory + \"'\""
     ],
     "language": "python",
     "metadata": {},
     "outputs": [
      {
       "output_type": "stream",
       "stream": "stdout",
       "text": [
        "\n",
        "leadChars = 'in'\n",
        "\n",
        "***********  WARNING  ***********\n",
        "    leadChars of PARinputDirectoryFromYaml = 'in' rather than './' so not stripping.\n",
        "    PARinputDirectory may be messed up.\n",
        "***********           ***********\n",
        "\n",
        "PARinputDirectory = '/input_data'\n"
       ]
      }
     ],
     "prompt_number": 17
    },
    {
     "cell_type": "code",
     "collapsed": false,
     "input": [
      "PARcurrentRunDirectory = outputFiles ['PAR.current.run.directory']\n",
      "print \"\\nPARcurrentRunDirectory = '\" + PARcurrentRunDirectory + \"'\""
     ],
     "language": "python",
     "metadata": {},
     "outputs": [
      {
       "output_type": "stream",
       "stream": "stdout",
       "text": [
        "\n",
        "PARcurrentRunDirectory = ''\n"
       ]
      }
     ],
     "prompt_number": 18
    },
    {
     "cell_type": "code",
     "collapsed": false,
     "input": [
      "#probDistLayersDir = \"./MaxentProbDistLayers/\"    #7/17#  what we want maxent to generate, i.e., the true layers?\n",
      "#PARprobDistLayersDirName = \"MaxentProbDistLayers\"\n",
      "##probDistLayersDir = paste (PARcurrentRunDirectory, \"/\",\n",
      "##                              PARprobDistLayersDirName, \"/\"\n",
      "\n",
      "probDistLayersDir = outputFiles ['PAR.prob.dist.layers.dir.name']\n",
      "probDistLayersDirWithSlash = probDistLayersDir + \"/\"\n",
      "\n",
      "print \"\\nprobDistLayersDir = '\" + probDistLayersDir + \"'\"\n",
      "createDirIfDoesntExist (probDistLayersDir)"
     ],
     "language": "python",
     "metadata": {},
     "outputs": [
      {
       "output_type": "stream",
       "stream": "stdout",
       "text": [
        "\n",
        "probDistLayersDir = 'MaxentProbDistLayers'\n",
        "\n",
        "====>>>  Would make dir 'MaxentProbDistLayers' now.\n"
       ]
      }
     ],
     "prompt_number": 19
    },
    {
     "cell_type": "code",
     "collapsed": false,
     "input": [
      "#PARmaxentOutputDirName = \"MaxentOutputs\"\n",
      "\n",
      "maxentOutputDir = outputFiles ['PAR.maxent.output.dir.name']\n",
      "maxentOutputDirWithSlash = maxentOutputDir + dirSlash\n",
      "\n",
      "print \"\\nmaxentOutputDir = '\" + maxentOutputDir + \"'\"\n",
      "createDirIfDoesntExist (maxentOutputDir)"
     ],
     "language": "python",
     "metadata": {},
     "outputs": [
      {
       "output_type": "stream",
       "stream": "stdout",
       "text": [
        "\n",
        "maxentOutputDir = 'MaxentOutputs'\n",
        "\n",
        "====>>>  Would make dir 'MaxentOutputs' now.\n"
       ]
      }
     ],
     "prompt_number": 20
    },
    {
     "cell_type": "code",
     "collapsed": false,
     "input": [
      "#PARmaxentGenOutputDirName = \"MaxentGenOutputs\"\n",
      "\n",
      "maxentGenOutputDir = outputFiles ['PAR.maxent.gen.output.dir.name']\n",
      "maxentGenOutputDirWithSlash = maxentGenOutputDir + \"/\"\n",
      "\n",
      "print \"\\nmaxentGenOutputDir = '\" + maxentGenOutputDir + \"'\"\n",
      "createDirIfDoesntExist (maxentGenOutputDir)"
     ],
     "language": "python",
     "metadata": {},
     "outputs": [
      {
       "output_type": "stream",
       "stream": "stdout",
       "text": [
        "\n",
        "maxentGenOutputDir = 'MaxentGenOutputs'\n",
        "\n",
        "====>>>  Would make dir 'MaxentGenOutputs' now.\n"
       ]
      }
     ],
     "prompt_number": 21
    },
    {
     "cell_type": "code",
     "collapsed": false,
     "input": [
      "#analysisDir = \"./ResultsAnalysis/\"\n",
      "#PARanalysisDirName = \"ResultsAnalysis\"\n",
      "\n",
      "analysisDirWithSlash = PARcurrentRunDirectory +  dirSlash + variables ['PAR.analysis.dir.name'] + dirSlash\n",
      "print \"\\nanalysisDirWithSlash = '\" + analysisDirWithSlash + \"'\"\n",
      "createDirIfDoesntExist (analysisDirWithSlash)"
     ],
     "language": "python",
     "metadata": {},
     "outputs": [
      {
       "output_type": "stream",
       "stream": "stdout",
       "text": [
        "\n",
        "analysisDirWithSlash = '/ResultsAnalysis/'\n",
        "\n",
        "====>>>  Would make dir '/ResultsAnalysis/' now.\n"
       ]
      }
     ],
     "prompt_number": 22
    },
    {
     "cell_type": "markdown",
     "metadata": {},
     "source": [
      "    #  NOTE:  DOES THIS output directory move below NEED TO BE DONE NOW?\n",
      "    #         IE, ARE ALL THE DIRECTORY CREATIONS BELOW ABSOLUTE OR ARE THEY\n",
      "    #         RELATIVE TO BEING IN THE CURRENTRUNDIRECTORY?\n",
      "    #\n",
      "    #         It makes testing all this in python easier if I can separate\n",
      "    #         the moving to a directory from the creation of directories.\n",
      "    \n",
      "    #  IN GENERAL, IT SEEMS LIKE I NEED TO MAKE SURE THAT PATHS ARE ALWAYS BUILT WITH AS LITTLE \n",
      "    #  DEPENDENCE AS POSSIBLE ON WHAT DIRECTORY YOU HAPPEN TO BE SITTING IN AT A GIVEN TIME.  \n",
      "    #  THAT WILL MAKE IT MUCH EASIER TO TEST.  OR WILL IT?  MAYBE A RELATIVE PATH IS A BETTER \n",
      "    #  THING SO THAT YOU CAN CREATE A DUMMY LITTLE TEST AREA AND WORK THERE WITHOUT HURTING \n",
      "    #  ANYTHING ELSE...\n"
     ]
    },
    {
     "cell_type": "code",
     "collapsed": false,
     "input": [
      "    #  Move to the output directory.\n",
      "\n",
      "if tempDontMakeDirsYet:\n",
      "    print \"\\n====>>>  Would move to dir '\", PARcurrentRunDirectory, \"' now.\"\n",
      "else:\n",
      "        #  Move to the output directory, e.g.,\n",
      "        #  \"/Users/Bill/tzar/outputdata/Guppy/default_runset/114_Scen_1.inprogress/\"\n",
      "    os.chdir (PARcurrentRunDirectory)\n"
     ],
     "language": "python",
     "metadata": {},
     "outputs": [
      {
       "output_type": "stream",
       "stream": "stdout",
       "text": [
        "\n",
        "====>>>  Would move to dir '  ' now.\n"
       ]
      }
     ],
     "prompt_number": 23
    },
    {
     "cell_type": "code",
     "collapsed": false,
     "input": [
      "##if (!file.exists (\"MaxentOutputs\"))\n",
      "##\t{\n",
      "##\tdir.create (\"MaxentOutputs\")\n",
      "##\t}\n",
      "\n",
      "curFullMaxentEnvLayersDirName = \\\n",
      "    PARcurrentRunDirectory + variables ['PAR.maxent.env.layers.base.name']\n",
      "\n",
      "print \"\\n\\ncurFullMaxentEnvLayersDirName = '\" + curFullMaxentEnvLayersDirName + \"'\"\n",
      "\n",
      "createDirIfDoesntExist (curFullMaxentEnvLayersDirName)"
     ],
     "language": "python",
     "metadata": {},
     "outputs": [
      {
       "output_type": "stream",
       "stream": "stdout",
       "text": [
        "\n",
        "\n",
        "curFullMaxentEnvLayersDirName = 'MaxentEnvLayers'\n",
        "\n",
        "====>>>  Would make dir 'MaxentEnvLayers' now.\n"
       ]
      }
     ],
     "prompt_number": 24
    },
    {
     "cell_type": "code",
     "collapsed": false,
     "input": [
      "##if (not file.exists (\"MaxentSamples\"))\n",
      "##\t{\n",
      "##\tdir.create (\"MaxentSamples\")\n",
      "##\t}\n",
      "\n",
      "curFullMaxentSamplesDirName = \\\n",
      "\tPARcurrentRunDirectory + variables ['PAR.maxent.samples.base.name']\n",
      "\n",
      "print \"\\n\\ncurFullMaxentSamplesDirName = '\" + curFullMaxentSamplesDirName + \"'\"\n",
      "\n",
      "createDirIfDoesntExist (curFullMaxentSamplesDirName)"
     ],
     "language": "python",
     "metadata": {},
     "outputs": [
      {
       "output_type": "stream",
       "stream": "stdout",
       "text": [
        "\n",
        "\n",
        "curFullMaxentSamplesDirName = 'MaxentSamples'\n",
        "\n",
        "====>>>  Would make dir 'MaxentSamples' now.\n"
       ]
      }
     ],
     "prompt_number": 25
    },
    {
     "cell_type": "code",
     "collapsed": false,
     "input": [
      "#       write.to.file : TRUE,\n",
      "writeToFile = variables ['PAR.write.to.file']\n",
      "\n",
      "#   \t  use.draw.image : FALSE,\n",
      "useDrawImage = variables ['PAR.use.draw.image']\n",
      "\n",
      "#   \t  use.filled.contour : TRUE,\n",
      "useFilledContour = variables ['PAR.use.filled.contour']\n",
      "\n",
      "            #  BEWARE: if this is FALSE, the get.env.layers() routine in\n",
      "            #          guppy.maxent.functions.v6.R does something vestigial\n",
      "            #          that you may not expect (or want) at all !\n",
      "            #          Need to fix that.\n",
      "            #          BTL - 2011.09.20\n",
      "            #  BTL - 2011.10.03 - Is this note even relevant anymore?\n",
      "            #                     Looks like this variable isn't even used now.\n",
      "#   \t  use.pnm.env.layers : TRUE ,\n",
      "usePnmEnvLayers = variables ['PAR.use.pnm.env.layers']"
     ],
     "language": "python",
     "metadata": {},
     "outputs": [],
     "prompt_number": 26
    },
    {
     "cell_type": "code",
     "collapsed": false,
     "input": [
      "combinedSppTruePresencesTable = None\t\t#  correct Null for PYTHON ???\n",
      "combinedSppSampledPresencesTable = None"
     ],
     "language": "python",
     "metadata": {},
     "outputs": [],
     "prompt_number": 27
    },
    {
     "cell_type": "code",
     "collapsed": false,
     "input": [
      "PARnumSppToCreate = variables ['PAR.num.spp.to.create']\n",
      "ARnumSppInReserveSelection = variables ['PAR.num.spp.in.reserve.selection']\n",
      "PARuseOldMaxentOutputForInput = variables ['PAR.use.old.maxent.output.for.input']"
     ],
     "language": "python",
     "metadata": {},
     "outputs": [],
     "prompt_number": 28
    },
    {
     "cell_type": "code",
     "collapsed": false,
     "input": [
      "PARuseAllSamples = variables ['PAR.use.all.samples']"
     ],
     "language": "python",
     "metadata": {},
     "outputs": [],
     "prompt_number": 29
    },
    {
     "cell_type": "code",
     "collapsed": false,
     "input": [
      "CONSTproductRule = variables ['CONST.product.rule']\n",
      "CONSTaddRule = variables ['CONST.add.rule']"
     ],
     "language": "python",
     "metadata": {},
     "outputs": [],
     "prompt_number": 30
    },
    {
     "cell_type": "code",
     "collapsed": false,
     "input": [
      "combinedPresSamplesFileName = curFullMaxentSamplesDirName + dirSlash + \\\n",
      "\t\t\t\t\t\t'spp.sampledPres.combined.csv'\n",
      "print \"\\n\\ncombinedPresSamplesFileName = '\" + combinedPresSamplesFileName + \"'\\n\\n\""
     ],
     "language": "python",
     "metadata": {},
     "outputs": [
      {
       "output_type": "stream",
       "stream": "stdout",
       "text": [
        "\n",
        "\n",
        "combinedPresSamplesFileName = 'MaxentSamples/spp.sampledPres.combined.csv'\n",
        "\n",
        "\n"
       ]
      }
     ],
     "prompt_number": 31
    },
    {
     "cell_type": "code",
     "collapsed": false,
     "input": [
      "PARpathToMaxent = variables ['PAR.path.to.maxent']\n",
      "print \"\\n\\nPARpathToMaxent = '\" + PARpathToMaxent + \"'\"\n",
      "\n",
      "maxentFullPathName = startingDir + dirSlash + PARpathToMaxent + dirSlash + 'maxent.jar'\n",
      "\n",
      "print \"\\n\\nmaxentFullPathName = '\" + maxentFullPathName, \"'\""
     ],
     "language": "python",
     "metadata": {},
     "outputs": [
      {
       "output_type": "stream",
       "stream": "stdout",
       "text": [
        "\n",
        "\n",
        "PARpathToMaxent = 'lib/maxent'\n",
        "\n",
        "\n",
        "maxentFullPathName = '/Users/Bill/D/rdv-framework/projects/guppy/lib/maxent/maxent.jar '\n"
       ]
      }
     ],
     "prompt_number": 32
    },
    {
     "cell_type": "code",
     "collapsed": false,
     "input": [
      "#  Look at this ipython notebook under the Subplots heading to see the\n",
      "#  matplotlib way to do this.\n",
      "#      http://nbviewer.ipython.org/urls/raw.github.com/swcarpentry/notebooks/master/matplotlib.ipynb\n",
      "\n",
      "#####    par (mfrow=c(2,2))"
     ],
     "language": "python",
     "metadata": {},
     "outputs": [],
     "prompt_number": 33
    },
    {
     "cell_type": "heading",
     "level": 1,
     "metadata": {},
     "source": [
      "End of guppyinitializations code  (EOF)"
     ]
    },
    {
     "cell_type": "markdown",
     "metadata": {},
     "source": [
      "---\n",
      "\n",
      "---\n",
      "\n",
      "---"
     ]
    },
    {
     "cell_type": "heading",
     "level": 2,
     "metadata": {},
     "source": [
      "Trying out some ipython extensions."
     ]
    },
    {
     "cell_type": "heading",
     "level": 3,
     "metadata": {},
     "source": [
      "Most of the cells below that involved a call to the web failed at work or even at home, so I've turned those cells into raw text just to remember the code but not make the running of all cells in this notebook fail."
     ]
    },
    {
     "cell_type": "markdown",
     "metadata": {},
     "source": [
      "**Extension:  version_information**\n",
      "\n",
      "http://nbviewer.ipython.org/urls/raw.github.com/jrjohansson/version_information/master/example.ipynb\n",
      "\n",
      "This one fails all over the place, but need to try it from home to see if it's an issue with RMIT firewall, proxies, etc."
     ]
    },
    {
     "cell_type": "raw",
     "metadata": {},
     "source": [
      "%install_ext http://raw.github.com/jrjohansson/version_information/master/version_information.py\n",
      "%load_ext version_information\n",
      "%version_information\n",
      "%version_information scipy, numpy, Cython, matplotlib, qutip"
     ]
    },
    {
     "cell_type": "markdown",
     "metadata": {},
     "source": [
      "Extension:  ***Magics for temporary workspace***\n",
      "\n",
      "    %cdtemp -- Creates a temporary directory that is magically cleaned up when you exit IPython session.\n",
      "\n",
      "    %%with_temp_dir -- Run Python code in a temporary directory and clean up it after the execution.\n",
      "\n",
      "https://github.com/tkf/ipython-tempmagic"
     ]
    },
    {
     "cell_type": "code",
     "collapsed": false,
     "input": [
      "%install_ext https://raw.github.com/tkf/ipython-tempmagic/master/tempmagic.py"
     ],
     "language": "python",
     "metadata": {},
     "outputs": [
      {
       "output_type": "stream",
       "stream": "stdout",
       "text": [
        "Installed tempmagic.py. To use it, type:\n",
        "  %load_ext tempmagic\n"
       ]
      }
     ],
     "prompt_number": 34
    },
    {
     "cell_type": "markdown",
     "metadata": {},
     "source": [
      "***Extension: ipy_table***\n",
      "    \n",
      "\n",
      "ipy_table is a supporting module for IP[y]:Notebook which makes it easy to create richly formatted data tables.\n",
      "\n",
      "\n",
      "http://nbviewer.ipython.org/urls/raw.github.com/epmoyer/ipy_table/master/ipy_table-Introduction.ipynb\n",
      "    \n"
     ]
    },
    {
     "cell_type": "markdown",
     "metadata": {},
     "source": [
      "Extension:  ***flot - interactive plotting***\n",
      "\n",
      "Inline javascript plotting for IPython notebooks\n",
      "\n",
      "This package adds the ability to plot in an ipython notebook using the flot plotting backend. This makes it possible to have interactive (zoomable) plots within an ipython notebook webpage. The flot javascript library that is sourced is currently hosted at crbates.github.com/flot/. This add-in requires ipython >= 0.13\n",
      "\n",
      "https://github.com/crbates/ipython-flot/\n",
      "\n",
      "http://www.flotcharts.org/"
     ]
    },
    {
     "cell_type": "markdown",
     "metadata": {},
     "source": [
      "from IPython.display import Image\n",
      "Image(url='http://python.org/images/python-logo.gif')"
     ]
    },
    {
     "cell_type": "raw",
     "metadata": {},
     "source": [
      "from IPython.display import SVG\n",
      "SVG(filename='python-logo.svg')"
     ]
    },
    {
     "cell_type": "raw",
     "metadata": {},
     "source": [
      "from IPython.display import Image\n",
      "\n",
      "# by default Image data are embedded\n",
      "Embed      = Image(    'http://scienceview.berkeley.edu/view/images/newview.jpg')\n",
      "\n",
      "# if kwarg `url` is given, the embedding is assumed to be false\n",
      "##SoftLinked = Image(url='http://scienceview.berkeley.edu/view/images/newview.jpg')\n",
      "\n",
      "# In each case, embed can be specified explicitly with the `embed` kwarg\n",
      "# ForceEmbed = Image(url='http://scienceview.berkeley.edu/view/images/newview.jpg', embed=True)"
     ]
    },
    {
     "cell_type": "code",
     "collapsed": false,
     "input": [
      "from IPython.display import HTML"
     ],
     "language": "python",
     "metadata": {},
     "outputs": [],
     "prompt_number": 35
    },
    {
     "cell_type": "code",
     "collapsed": false,
     "input": [
      "s = \"\"\"<table>\n",
      "<tr>\n",
      "<th>Header 1</th>\n",
      "<th>Header 2</th>\n",
      "</tr>\n",
      "<tr>\n",
      "<td>row 1, cell 1</td>\n",
      "<td>row 1, cell 2</td>\n",
      "</tr>\n",
      "<tr>\n",
      "<td>row 2, cell 1</td>\n",
      "<td>row 2, cell 2</td>\n",
      "</tr>\n",
      "</table>\"\"\"\n"
     ],
     "language": "python",
     "metadata": {},
     "outputs": [],
     "prompt_number": 36
    },
    {
     "cell_type": "code",
     "collapsed": false,
     "input": [
      "h = HTML(s); h"
     ],
     "language": "python",
     "metadata": {},
     "outputs": [
      {
       "html": [
        "<table>\n",
        "<tr>\n",
        "<th>Header 1</th>\n",
        "<th>Header 2</th>\n",
        "</tr>\n",
        "<tr>\n",
        "<td>row 1, cell 1</td>\n",
        "<td>row 1, cell 2</td>\n",
        "</tr>\n",
        "<tr>\n",
        "<td>row 2, cell 1</td>\n",
        "<td>row 2, cell 2</td>\n",
        "</tr>\n",
        "</table>"
       ],
       "output_type": "pyout",
       "prompt_number": 37,
       "text": [
        "<IPython.core.display.HTML at 0x102fa6750>"
       ]
      }
     ],
     "prompt_number": 37
    },
    {
     "cell_type": "markdown",
     "metadata": {},
     "source": [
      "The following pandas section (and the display ones above) are taken from: \n",
      "\n",
      "https://wakari.io/nb/url///wakari.io/static/notebooks/Part_5___Rich_Display_System.ipynb"
     ]
    },
    {
     "cell_type": "code",
     "collapsed": false,
     "input": [
      "import pandas"
     ],
     "language": "python",
     "metadata": {},
     "outputs": [],
     "prompt_number": 38
    },
    {
     "cell_type": "markdown",
     "metadata": {},
     "source": [
      "By default, DataFrames will be represented as text; to enable HTML representations we need to set a print option:"
     ]
    },
    {
     "cell_type": "code",
     "collapsed": false,
     "input": [
      "pandas.core.format.set_printoptions(notebook_repr_html=True)"
     ],
     "language": "python",
     "metadata": {},
     "outputs": [
      {
       "output_type": "stream",
       "stream": "stderr",
       "text": [
        "/Users/Bill/anaconda/lib/python2.7/site-packages/pandas/core/format.py:1612: FutureWarning: set_printoptions is deprecated, use set_option instead\n",
        "  FutureWarning)\n"
       ]
      }
     ],
     "prompt_number": 39
    },
    {
     "cell_type": "markdown",
     "metadata": {},
     "source": [
      "Here is a small amount of stock data for APPL:"
     ]
    },
    {
     "cell_type": "code",
     "collapsed": false,
     "input": [
      "%%file data.csv\n",
      "Date,Open,High,Low,Close,Volume,Adj Close\n",
      "2012-06-01,569.16,590.00,548.50,584.00,14077000,581.50\n",
      "2012-05-01,584.90,596.76,522.18,577.73,18827900,575.26\n",
      "2012-04-02,601.83,644.00,555.00,583.98,28759100,581.48\n",
      "2012-03-01,548.17,621.45,516.22,599.55,26486000,596.99\n",
      "2012-02-01,458.41,547.61,453.98,542.44,22001000,540.12\n",
      "2012-01-03,409.40,458.24,409.00,456.48,12949100,454.53"
     ],
     "language": "python",
     "metadata": {},
     "outputs": [
      {
       "output_type": "stream",
       "stream": "stdout",
       "text": [
        "Overwriting data.csv\n"
       ]
      }
     ],
     "prompt_number": 40
    },
    {
     "cell_type": "markdown",
     "metadata": {},
     "source": [
      "Read this as into a DataFrame:"
     ]
    },
    {
     "cell_type": "code",
     "collapsed": false,
     "input": [
      "df = pandas.read_csv('data.csv')"
     ],
     "language": "python",
     "metadata": {},
     "outputs": [],
     "prompt_number": 41
    },
    {
     "cell_type": "markdown",
     "metadata": {},
     "source": [
      "And view the HTML representation:"
     ]
    },
    {
     "cell_type": "code",
     "collapsed": false,
     "input": [
      "df"
     ],
     "language": "python",
     "metadata": {},
     "outputs": [
      {
       "html": [
        "<div style=\"max-height:1000px;max-width:1500px;overflow:auto;\">\n",
        "<table border=\"1\" class=\"dataframe\">\n",
        "  <thead>\n",
        "    <tr style=\"text-align: right;\">\n",
        "      <th></th>\n",
        "      <th>Date</th>\n",
        "      <th>Open</th>\n",
        "      <th>High</th>\n",
        "      <th>Low</th>\n",
        "      <th>Close</th>\n",
        "      <th>Volume</th>\n",
        "      <th>Adj Close</th>\n",
        "    </tr>\n",
        "  </thead>\n",
        "  <tbody>\n",
        "    <tr>\n",
        "      <th>0</th>\n",
        "      <td> 2012-06-01</td>\n",
        "      <td> 569.16</td>\n",
        "      <td> 590.00</td>\n",
        "      <td> 548.50</td>\n",
        "      <td> 584.00</td>\n",
        "      <td> 14077000</td>\n",
        "      <td> 581.50</td>\n",
        "    </tr>\n",
        "    <tr>\n",
        "      <th>1</th>\n",
        "      <td> 2012-05-01</td>\n",
        "      <td> 584.90</td>\n",
        "      <td> 596.76</td>\n",
        "      <td> 522.18</td>\n",
        "      <td> 577.73</td>\n",
        "      <td> 18827900</td>\n",
        "      <td> 575.26</td>\n",
        "    </tr>\n",
        "    <tr>\n",
        "      <th>2</th>\n",
        "      <td> 2012-04-02</td>\n",
        "      <td> 601.83</td>\n",
        "      <td> 644.00</td>\n",
        "      <td> 555.00</td>\n",
        "      <td> 583.98</td>\n",
        "      <td> 28759100</td>\n",
        "      <td> 581.48</td>\n",
        "    </tr>\n",
        "    <tr>\n",
        "      <th>3</th>\n",
        "      <td> 2012-03-01</td>\n",
        "      <td> 548.17</td>\n",
        "      <td> 621.45</td>\n",
        "      <td> 516.22</td>\n",
        "      <td> 599.55</td>\n",
        "      <td> 26486000</td>\n",
        "      <td> 596.99</td>\n",
        "    </tr>\n",
        "    <tr>\n",
        "      <th>4</th>\n",
        "      <td> 2012-02-01</td>\n",
        "      <td> 458.41</td>\n",
        "      <td> 547.61</td>\n",
        "      <td> 453.98</td>\n",
        "      <td> 542.44</td>\n",
        "      <td> 22001000</td>\n",
        "      <td> 540.12</td>\n",
        "    </tr>\n",
        "    <tr>\n",
        "      <th>5</th>\n",
        "      <td> 2012-01-03</td>\n",
        "      <td> 409.40</td>\n",
        "      <td> 458.24</td>\n",
        "      <td> 409.00</td>\n",
        "      <td> 456.48</td>\n",
        "      <td> 12949100</td>\n",
        "      <td> 454.53</td>\n",
        "    </tr>\n",
        "  </tbody>\n",
        "</table>\n",
        "</div>"
       ],
       "output_type": "pyout",
       "prompt_number": 42,
       "text": [
        "         Date    Open    High     Low   Close    Volume  Adj Close\n",
        "0  2012-06-01  569.16  590.00  548.50  584.00  14077000     581.50\n",
        "1  2012-05-01  584.90  596.76  522.18  577.73  18827900     575.26\n",
        "2  2012-04-02  601.83  644.00  555.00  583.98  28759100     581.48\n",
        "3  2012-03-01  548.17  621.45  516.22  599.55  26486000     596.99\n",
        "4  2012-02-01  458.41  547.61  453.98  542.44  22001000     540.12\n",
        "5  2012-01-03  409.40  458.24  409.00  456.48  12949100     454.53"
       ]
      }
     ],
     "prompt_number": 42
    },
    {
     "cell_type": "markdown",
     "metadata": {},
     "source": [
      "You can even embed an entire page from another site in an iframe; for example this is today's Wikipedia page for mobile users:"
     ]
    },
    {
     "cell_type": "code",
     "collapsed": false,
     "input": [
      "from IPython.display import HTML\n",
      "HTML('<iframe src=http://en.mobile.wikipedia.org/?useformat=mobile width=700 height=350></iframe>')"
     ],
     "language": "python",
     "metadata": {},
     "outputs": [
      {
       "html": [
        "<iframe src=http://en.mobile.wikipedia.org/?useformat=mobile width=700 height=350></iframe>"
       ],
       "output_type": "pyout",
       "prompt_number": 43,
       "text": [
        "<IPython.core.display.HTML at 0x10043ecd0>"
       ]
      }
     ],
     "prompt_number": 43
    },
    {
     "cell_type": "markdown",
     "metadata": {},
     "source": [
      "And we also support the display of mathematical expressions typeset in LaTeX, which is rendered in the browser thanks to the MathJax library."
     ]
    },
    {
     "cell_type": "code",
     "collapsed": false,
     "input": [
      "from IPython.display import Math\n",
      "Math(r'F(k) = \\int_{-\\infty}^{\\infty} f(x) e^{2\\pi i k} dx')"
     ],
     "language": "python",
     "metadata": {},
     "outputs": [
      {
       "latex": [
        "$$F(k) = \\int_{-\\infty}^{\\infty} f(x) e^{2\\pi i k} dx$$"
       ],
       "output_type": "pyout",
       "prompt_number": 44,
       "text": [
        "<IPython.core.display.Math at 0x108bb5d90>"
       ]
      }
     ],
     "prompt_number": 44
    },
    {
     "cell_type": "markdown",
     "metadata": {},
     "source": [
      "Much more about Latex follows on the example page I've been copying from.  There's also a bunch of other stuff about things like embedding movies, etc."
     ]
    },
    {
     "cell_type": "code",
     "collapsed": false,
     "input": [],
     "language": "python",
     "metadata": {},
     "outputs": []
    }
   ],
   "metadata": {}
  }
 ]
}