{
 "metadata": {
  "name": "svnNotes"
 },
 "nbformat": 3,
 "nbformat_minor": 0,
 "worksheets": [
  {
   "cells": [
    {
     "cell_type": "code",
     "collapsed": false,
     "input": [
      "!pwd\n"
     ],
     "language": "python",
     "metadata": {},
     "outputs": [
      {
       "output_type": "stream",
       "stream": "stdout",
       "text": [
        "/Users/Bill/D/rdv-framework/projects/guppy\r\n"
       ]
      }
     ],
     "prompt_number": 1
    },
    {
     "cell_type": "code",
     "collapsed": false,
     "input": [
      "!svn status"
     ],
     "language": "python",
     "metadata": {},
     "outputs": [
      {
       "output_type": "stream",
       "stream": "stdout",
       "text": [
        "?       guppyInitializations.ipynb\r\n",
        "?       zonation_app_output.rank.asc\r\n",
        "?       LatestVersions\r\n",
        "?       guppyInitializations.py\r\n",
        "?       execlocal.noReps.flags\r\n",
        "?       svnNotes.ipynb\r\n",
        "?       OutdatedVersions\r\n",
        "?       ipythonFeatureNotesAndTests.ipynb\r\n",
        "?       svnNotes.py\r\n",
        "?       runMaxent.py\r\n",
        "?       H01_1.asc\r\n",
        "?       ipython.notebook.help.txt\r\n",
        "?       small.z.rank.test.cor.asc\r\n",
        "?       guppyBuildEnvLayers.ipynb\r\n",
        "?       guppy src files after getting zonation to work but failing at norm.prob.dist occurrence in runZonation.R - 2013 05 06 1222 pm.zip.zip\r\n",
        "?       ipython.notebook--help-all.txt\r\n",
        "?       H01_99.pnm\r\n",
        "?       data.csv\r\n",
        "?       guppyInitializations.py.scratch\r\n",
        "?       small.z.rank.test.app.asc\r\n",
        "?       44_Scen_1\r\n",
        "?       e.noReps.flags\r\n",
        "?       XKCD_plots.ipynb\r\n",
        "?       small.z.rank.test.asc\r\n",
        "?       execlocal.withReps.flags\r\n",
        "?       H01_1.pnm\r\n",
        "?       scheduleruns.withReps.flags\r\n",
        "?       scheduleruns.noReps.flags\r\n",
        "?       projectparams.local.yaml\r\n",
        "?       ipythonFeatureNotesAndTests.py\r\n",
        "?       buildEnvLayers.py\r\n",
        "?       __init__$py.class\r\n",
        "?       .Rapp.history\r\n",
        "?       model$py.class\r\n",
        "?       zonationTruePositiveFraction.pdf\r\n",
        "?       zonation_cor_output.rank.asc\r\n",
        "?       ipython.notebook--help-all.doc\r\n",
        "?       Frozen before undoing dir.slash changes 2013 05 06\r\n",
        "?       ipython.help.txt\r\n",
        "?       ipython.config-h.txt\r\n",
        "?       .Rhistory\r\n",
        "?       environmentVarsFromSetCmd.txt\r\n",
        "?       guppyBuildEnvLayers.py\r\n",
        "?       projectparams.remote.yaml\r\n",
        "?       note about sort and order functions in R.txt\r\n",
        "?       testDownloaded.H01_1.256.asc\r\n",
        "?       netpbmfile.py\r\n"
       ]
      },
      {
       "output_type": "stream",
       "stream": "stdout",
       "text": [
        "M       runZonation.R\r\n",
        "M       model.py\r\n",
        "?       input_data/Zonation\r\n"
       ]
      }
     ],
     "prompt_number": 2
    },
    {
     "cell_type": "code",
     "collapsed": false,
     "input": [
      "!svn update"
     ],
     "language": "python",
     "metadata": {},
     "outputs": [
      {
       "output_type": "stream",
       "stream": "stdout",
       "text": [
        "^C\r\n"
       ]
      }
     ],
     "prompt_number": 3
    },
    {
     "cell_type": "markdown",
     "metadata": {},
     "source": [
      "svn update seemed to just hang.  Not sure why, so I killed it.  Will try running it outside of ipython now."
     ]
    },
    {
     "cell_type": "raw",
     "metadata": {},
     "source": [
      "tests-MacBook-Pro:guppy Bill$ svn update\n",
      "svn: OPTIONS of 'https://rdv-framework.googlecode.com/svn/trunk/projects/guppy': could not connect to server (https://rdv-framework.googlecode.com)"
     ]
    },
    {
     "cell_type": "markdown",
     "metadata": {},
     "source": [
      "It seemed like it was hanging outside ipython notebook too, but I went away for a while and then it came back with a connection failure message, so it might have done the same thing inside of hte notebook too if I'd waited long enough.  \n",
      "\n",
      "The connection failure may be just because I'm trying to run this from home instead of through the proxy at work.  "
     ]
    }
   ],
   "metadata": {}
  }
 ]
}