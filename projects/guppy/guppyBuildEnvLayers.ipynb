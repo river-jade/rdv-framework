{
 "metadata": {
  "name": "guppyBuildEnvLayers"
 },
 "nbformat": 3,
 "nbformat_minor": 0,
 "worksheets": [
  {
   "cells": [
    {
     "cell_type": "code",
     "collapsed": false,
     "input": [
      "#===============================================================================\n",
      "#  This bar is just here to show the 80 character margin since I can't currently\n",
      "#  see a way to do that in ipython itself.\n",
      "#==============================================================================="
     ],
     "language": "python",
     "metadata": {},
     "outputs": []
    },
    {
     "cell_type": "heading",
     "level": 2,
     "metadata": {},
     "source": [
      "Dummy setup code to emulate what would have been done by the calling code."
     ]
    },
    {
     "cell_type": "code",
     "collapsed": false,
     "input": [
      "    #  Move to the guppy working directory.\n",
      "    #  NOTE:  This may be an issue in the long run when running under tzar.\n",
      "    #         I need to move there now so that netpbmfile will be found when imported.\n",
      "    #         However, when running under tzar, we will have cd-ed to the tzar directory.\n",
      "    #         Or will we?  Not sure if that move will show up inside this python code...\n",
      "import os\n",
      "\n",
      "guppyDir = '/Users/Bill/D/rdv-framework/projects/guppy/'\n",
      "os.chdir (guppyDir)\n",
      "os.getcwd()\n"
     ],
     "language": "python",
     "metadata": {},
     "outputs": [
      {
       "output_type": "pyout",
       "prompt_number": 90,
       "text": [
        "'/Users/Bill/D/rdv-framework/projects/guppy'"
       ]
      }
     ],
     "prompt_number": 90
    },
    {
     "cell_type": "code",
     "collapsed": false,
     "input": [
      "import random\n",
      "import urllib\n",
      "import os\n",
      "import shutil\n",
      "import netpbmfile\n",
      "\n",
      "dirSlash = \"/\"    #  How does python sense this for each OS?\n",
      "\t\t\t\t\t#  Should this be in the yaml file?\n",
      "\n",
      "CONSTwindowsOSnameInR = \"mingw32\"\n",
      "CONSTwindowsOSnameInPython = \"os2\"\t\t#  NOT SURE ABOUT THIS...\n",
      "\t\t\t\t\t\t\t\t\t\t  #  SEE os.name variable in python documentation\n",
      "CONSTwindowsOSname = CONSTwindowsOSnameInPython\n",
      "\n",
      "CONSTmacOSname = \"posix\"\n",
      "\n",
      "os.chdir (\"/Users/Bill/D/rdv-framework/projects/guppy/\")\n",
      "\n",
      "#  NOTE the difference between the mac path in R and in python.\n",
      "#       In R, you need the backslash in front of the spaces, but in python,\n",
      "#       the backslash can't be there.\n",
      "\n",
      "#\t\t\t \"PAR.localEnvDirMac\" : \"/Users/Bill/D/Projects_RMIT/AAA_PapersInProgress/G01\\ -\\ simulated_ecology/MaxentTests/AlexsSyntheticLandscapes/IDLOutputAll2/H\",\n",
      "variables = { \"PAR.useRemoteEnvDir\" : False,\n",
      "\t\t\t\t\"PAR.localEnvDir\" : \"/Users/Bill/D/Projects_RMIT/\",\n",
      "\t\t\t\t\"PAR.localEnvDirMac\" : \"/Users/Bill/D/Projects_RMIT/AAA_PapersInProgress/G01 - simulated_ecology/MaxentTests/AlexsSyntheticLandscapes/IDLOutputAll2/H\",\n",
      "\t\t\t\t\"PAR.localEnvDirWin\" : \"Z:/Bill/D/Projects_RMIT/AAA_PapersInProgress/G01 - simulated_ecology/MaxentTests/AlexsSyntheticLandscapes/IDLOutputAll2/H\",\n",
      "\t\t\t\t\"PAR.remoteEnvDir\" : \"http://glass.eres.rmit.edu.au/tzar_input/guppy/AlexFractalData/H\",\n",
      "                \"PAR.numEnvLayers\" : 2 }\n",
      "\n",
      "#----------------------\n",
      "\n",
      "outputFiles = { 'PAR.current.run.directory' : \"xxx\" }\n",
      "\n",
      "PAR.current.run.directory = outputFiles ['PAR.current.run.directory']\n",
      "print \"\\nPAR.current.run.directory = '\" + PAR.current.run.directory + \"'\"\n",
      "\n",
      "#---------------------\n",
      "\n",
      "cur.full.maxent.env.layers.dir.name = PAR.current.run.directory + variables ['PAR.maxent.env.layers.base.name']\n",
      "\n",
      "print \"\\ncur.full.maxent.env.layers.dir.name = '\" + cur.full.maxent.env.layers.dir.name + \"'\"\n",
      "\n",
      "if (not file.exists (cur.full.maxent.env.layers.dir.name)):    #  PYTHON file and dir commands here???\n",
      "\tdir.create (cur.full.maxent.env.layers.dir.name)           #  shutils???  os???\n",
      "\n",
      "#---------------------\n",
      "\n",
      "print \"\\nvariables ['PAR.useRemoteEnvDir'] = \" + variables ['PAR.useRemoteEnvDir']\n",
      "print \"variables ['PAR.remoteEnvDir'] = \" + variables ['PAR.remoteEnvDir']\n",
      "print \"variables ['PAR.localEnvDirMac'] = \" + variables ['PAR.localEnvDirMac']\n",
      "print \"variables ['PAR.localEnvDirWin'] = \" + variables ['PAR.localEnvDirWin']"
     ],
     "language": "python",
     "metadata": {},
     "outputs": [
      {
       "output_type": "stream",
       "stream": "stdout",
       "text": [
        "\n",
        "variables ['PAR.useRemoteEnvDir'] =  False\n",
        "variables ['PAR.remoteEnvDir'] =  http://glass.eres.rmit.edu.au/tzar_input/guppy/AlexFractalData/H\n",
        "variables ['PAR.localEnvDirMac'] =  /Users/Bill/D/Projects_RMIT/AAA_PapersInProgress/G01 - simulated_ecology/MaxentTests/AlexsSyntheticLandscapes/IDLOutputAll2/H\n",
        "variables ['PAR.localEnvDirWin'] =  Z:/Bill/D/Projects_RMIT/AAA_PapersInProgress/G01 - simulated_ecology/MaxentTests/AlexsSyntheticLandscapes/IDLOutputAll2/H\n"
       ]
      }
     ],
     "prompt_number": 91
    },
    {
     "cell_type": "heading",
     "level": 3,
     "metadata": {},
     "source": [
      "Constants that will probably become instance variables when I turn this into a class."
     ]
    },
    {
     "cell_type": "code",
     "collapsed": false,
     "input": [
      "minH = 1\n",
      "#\tmaxH = 10       #  For some reason I didn't create .256 images for H=10.\n",
      "maxH = 9\n",
      "minImgNum = 1\n",
      "maxImgNum = 100\n"
     ],
     "language": "python",
     "metadata": {},
     "outputs": [],
     "prompt_number": 92
    },
    {
     "cell_type": "heading",
     "level": 2,
     "metadata": {},
     "source": [
      "Define a function to get the prefix of the input directory holding the environment layers."
     ]
    },
    {
     "cell_type": "code",
     "collapsed": false,
     "input": [
      "def getEnvLayersDirPrefix (variables, useRemoteEnvDir, curOS):\n",
      "    if (useRemoteEnvDir):\n",
      "       envLayersDir = variables ['PAR.remoteEnvDir']\n",
      "    elif (curOS == CONSTwindowsOSname):\n",
      "       envLayersDir = variables ['PAR.localEnvDirWin']\n",
      "    else:\n",
      "       envLayersDir = variables ['PAR.localEnvDirMac']\n",
      "    \n",
      "    return envLayersDir"
     ],
     "language": "python",
     "metadata": {},
     "outputs": [],
     "prompt_number": 93
    },
    {
     "cell_type": "heading",
     "level": 2,
     "metadata": {},
     "source": [
      "Test the function that gets the prefix for the name of the input environment layers directory.\n"
     ]
    },
    {
     "cell_type": "heading",
     "level": 4,
     "metadata": {},
     "source": [
      "Not sure this test code is worth it since it's much longer than the original function, which does almost nothing, but it gives me a bit of practice in preparation for trying to use python's unit testing classes."
     ]
    },
    {
     "cell_type": "code",
     "collapsed": false,
     "input": [
      "#    Tests for the getEnvLayersDirPrefix() function.\n",
      "#\n",
      "#    Normally you would set args to this call:\n",
      "#        getEnvLayersDirPrefix (variables, useRemoteEnvDir, curOS)\n",
      "#\n",
      "#    something like this:\n",
      "#        useRemoteEnvDir = variables [\"PAR.useRemoteEnvDir\"]\n",
      "#        curOS = os.name\n",
      "#\n",
      "#    But I set them by hand here to test all variants of the call.\n",
      "\n",
      "    #  Helper function for these tests since they all do nearly the same thing.\n",
      "def testHelper_getEnvLayersDirPrefix (osNameString, useRemoteEnvDir, curOS):\n",
      "    envLayersDirPrefix = getEnvLayersDirPrefix (variables, useRemoteEnvDir, curOS)\n",
      "    print \"\\n\" + osNameString + \"envLayersDirPrefix = \" + envLayersDirPrefix\n",
      "    return envLayersDirPrefix\n",
      "\n",
      "    #  Test for MAC local copy.\n",
      "def test_getEnvLayersDirPrefix_mac ():\n",
      "    envLayersDirPrefix = testHelper_getEnvLayersDirPrefix (\"MAC\", False, CONSTmacOSname)\n",
      "    assert envLayersDirPrefix == variables ['PAR.localEnvDirMac']\n",
      "test_getEnvLayersDirPrefix_mac ()\n",
      "\n",
      "    #  Test for Windows local copy.\n",
      "def test_getEnvLayersDirPrefix_windows ():\n",
      "    envLayersDirPrefix = testHelper_getEnvLayersDirPrefix (\"WIN\", False, CONSTwindowsOSname)\n",
      "    assert envLayersDirPrefix == variables ['PAR.localEnvDirWin']\n",
      "test_getEnvLayersDirPrefix_windows ()\n",
      "\n",
      "    #  Test for download from web server.\n",
      "def test_getEnvLayersDirPrefix_remote ():\n",
      "    envLayersDirPrefix = testHelper_getEnvLayersDirPrefix (\"REMOTE\", True, CONSTmacOSname)\n",
      "    assert envLayersDirPrefix == variables ['PAR.remoteEnvDir']\n",
      "test_getEnvLayersDirPrefix_remote ()"
     ],
     "language": "python",
     "metadata": {},
     "outputs": [
      {
       "output_type": "stream",
       "stream": "stdout",
       "text": [
        "\n",
        "MAC envLayersDirPrefix =  /Users/Bill/D/Projects_RMIT/AAA_PapersInProgress/G01 - simulated_ecology/MaxentTests/AlexsSyntheticLandscapes/IDLOutputAll2/H\n",
        "\n",
        "WIN envLayersDirPrefix =  Z:/Bill/D/Projects_RMIT/AAA_PapersInProgress/G01 - simulated_ecology/MaxentTests/AlexsSyntheticLandscapes/IDLOutputAll2/H\n",
        "\n",
        "REMOTE envLayersDirPrefix =  http://glass.eres.rmit.edu.au/tzar_input/guppy/AlexFractalData/H\n"
       ]
      }
     ],
     "prompt_number": 94
    },
    {
     "cell_type": "heading",
     "level": 3,
     "metadata": {},
     "source": [
      "Define a function to build the prefix of the output environment layers."
     ]
    },
    {
     "cell_type": "code",
     "collapsed": false,
     "input": [
      "    #  It's highly unlikely that you'll draw the same environmental layer twice, but\n",
      "    #  you need to make sure that you don't end up with a name conflict or too few\n",
      "    #  layers.\n",
      "    #  Since it's ok biologically to have two env layers be highly correlated,\n",
      "    #  (in the case of duplicate layers, they'd be perfectly correlated),\n",
      "    #  I'll just create image names that have a unique ID prefixed to them and if\n",
      "    #  the same layer is drawn twice it will just have a different prefix on it.\n",
      "    #  I'll make the prefixes just be e01_, e02_, etc.\n",
      "    #  This isn't a perfect solution, but since we're just drawing random images\n",
      "    #  at this point, it really isn't important.  It just needs to not crash the\n",
      "    #  program.\n",
      "\n",
      "def buildEnvLayerOutputPrefix (curEnvLayerIdx):\n",
      "    idxString = ('0' + str (curEnvLayerIdx)) if (curEnvLayerIdx < 10) else str (curEnvLayerIdx)\n",
      "\n",
      "    eLayerFileNamePrefix = \"e\" + idxString + \"_\"\n",
      "\n",
      "    print \"\\n\\neLayerFileNamePrefix = '\" + eLayerFileNamePrefix + \"'\"\n",
      "    \n",
      "    return eLayerFileNamePrefix\n",
      "\n"
     ],
     "language": "python",
     "metadata": {},
     "outputs": [],
     "prompt_number": 95
    },
    {
     "cell_type": "heading",
     "level": 2,
     "metadata": {},
     "source": [
      "Define function to build the image filename root."
     ]
    },
    {
     "cell_type": "code",
     "collapsed": false,
     "input": [
      "\t\t\t#  Choose an H level at random.\n",
      "\t\t\t#  H is the factor that controls the amount of spatial autocorrelation in\n",
      "\t\t\t#  Alex's fractal landscape images.\n",
      "\t\t\t#  Also need to convert the H value to a string to be used in file names.\n",
      "\t\t\t#  If the value is a single digit, then it needs a 0 in front of it to\n",
      "\t\t\t#  make file names line up in listings for easier reading.\n",
      "\n",
      "def buildImgFilenameRoot (envLayersDir):            \n",
      "    H = random.randint (minH, maxH)\n",
      "    Hstring = ('0'+ str (H)) if (H < 10) else str (H)\n",
      "\n",
      "    #----------\n",
      "\n",
      "    envSrcDir = envLayersDir + Hstring + dirSlash\n",
      "    print \"\\n\\nenvSrcDir = '\" + envSrcDir + \"'\\n\"\n",
      "\n",
      "    #----------\n",
      "\n",
      "    imgNum = random.randint (minImgNum, maxImgNum)\n",
      "    imgFileRoot = \"H\" + Hstring + \"_\" + str (imgNum)\n",
      "\n",
      "    #----------\n",
      "\n",
      "    return imgFileRoot"
     ],
     "language": "python",
     "metadata": {},
     "outputs": [],
     "prompt_number": 102
    },
    {
     "cell_type": "code",
     "collapsed": false,
     "input": [
      "envLayersDir = \"xxx/\"\n",
      "imgFileRoot = buildImgFilenameRoot (envLayersDir)\n",
      "print \"\\nimgFileRoot = \" + imgFileRoot"
     ],
     "language": "python",
     "metadata": {},
     "outputs": [
      {
       "output_type": "stream",
       "stream": "stdout",
       "text": [
        "\n",
        "\n",
        "envSrcDir = ' xxx/01/ '\n",
        "\n",
        "\n",
        "imgFileRoot =  H01_2\n"
       ]
      }
     ],
     "prompt_number": 104
    },
    {
     "cell_type": "heading",
     "level": 2,
     "metadata": {},
     "source": [
      "Define the higher level function that gets the environment layers."
     ]
    },
    {
     "cell_type": "code",
     "collapsed": false,
     "input": [
      "def genEnvLayers (variables):\n",
      "\n",
      "    envLayersDir = getEnvLayersDirPrefix (variables)\n",
      "\n",
      "    numEnvLayers = variables ['PAR.numEnvLayers']\n",
      "    print \"\\n\\nnumEnvLayers = '\" + str (numEnvLayers) + \"'\"\n",
      "\n",
      "    envLayers = [None] * numEnvLayers\n",
      "\n",
      "    for curEnvLayerIdx in range (numEnvLayers): \n",
      "        \n",
      "        eLayerFileNamePrefix = buildEnvLayerOutputPrefix (curEnvLayerIdx)\n",
      "\n",
      "                #----------\n",
      "\n",
      "        imgFileRoot = buildImgFilenameRoot (envLayersDir)\n",
      "\n",
      "\t\t\n"
     ],
     "language": "python",
     "metadata": {},
     "outputs": [],
     "prompt_number": 10
    },
    {
     "cell_type": "code",
     "collapsed": false,
     "input": [
      "\n",
      "\t\t\t#-------------------------------------------------------------------\n",
      "\t\t\t#  May want to use the 256x256 images instead of the 1024x1024 images...\n",
      "\t\t\t#  http://glass.eres.rmit.edu.au/tzar_input/guppy/AlexFractalData/H01/H01_1.256.asc\n",
      "\t\t\t#-------------------------------------------------------------------\n",
      "\n",
      "\t\tfor suffix in [\".asc\", \".pgm\"]:\n",
      "\n",
      "\t\t\t\t#-----------------------------------------------\n",
      "\t\t\t\t#  Build the file name and retrieve the file.\n",
      "\t\t\t\t#  File may be on local disk or on web server.\n",
      "\t\t\t\t#-----------------------------------------------\n",
      "\n",
      "\t\t\timgFileName = imgFileRoot + suffix\n",
      "\t\t\tfullImgFileDestPath = curFullMaxentEnvLayersDirName + dirSlash + \\\n",
      "\t\t\t\t\t\t\t\t\t\t eLayerFileNamePrefix + imgFileName\n",
      "\t\t\tprint \"\\n\\nfullImgFileDestPath = '\" + fullImgFileDestPath +  \"'\"\n",
      "\n",
      "\t\t\tsrcImgFileName = imgFileRoot + variables ['PAR.fileSizeSuffix'] + suffix\n",
      "\t\t\tsrcFile = envSrcDir + srcImgFileName\n",
      "\t\t\tprint \"\\nsrcFile = '\" + srcFile + \"'\"\n",
      "\n",
      "\t\t\t\t#--------------------------------------------------\n",
      "\t\t\t\t#  Copy file from url to fullImgFileDestPath\n",
      "\t\t\t\t#  or from local directory to fullImgFileDestPath\n",
      "\t\t\t\t#  as specified by user option.\n",
      "\t\t\t\t#--------------------------------------------------\n",
      "\n",
      "\t\t\tif useRemoteEnvDir:\n",
      "\t\t\t\turllib.urlretrieve (srcFile, fullImgFileDestPath)\n",
      "\t\t\telse:\n",
      "\t\t\t\tshutil.copy (srcFile, fullImgFileDestPath)\n",
      "\n",
      "\t\t\t\t#--------------------------------------------------------------\n",
      "\t\t\t\t#  Now have the file copied to local work area.\n",
      "\t\t\t\t#  Need to load the image into an array.\n",
      "\t\t\t\t#  Only do this if it's a pgm since the pgm and asc file\n",
      "\t\t\t\t#  will contain the same image and we know how to read a pgm.\n",
      "\t\t\t\t#\n",
      "\t\t\t\t#  Note that only a couple of lines below are actually doing\n",
      "\t\t\t\t#  anything relevant.  The rest are there to print things\n",
      "\t\t\t\t#  for debugging purposes and can be removed later.\n",
      "\t\t\t\t#--------------------------------------------------------------\n",
      "\n",
      "\t\t\tprint \"\\n\\nsuffix = '\" + suffix + \"'\\n\"\n",
      "#\t\t\tif (suffix == \".pnm\"):\n",
      "\t\t\tif (suffix == \".pgm\"):\n",
      "\t\t\t\tprint \"\\n\\nsuffix is .pnm so adding env.layer\\n\"\n",
      "\t\t\t\tprint \"\\nlen (env.layers) before = '\", len (env.layers)\n",
      "\n",
      "#  NEEDS REPLACEMENT WITH NETPBM CODE IN PYTHON.\n",
      "\t\t\t\tnew.env.layer = get.img.matrix.from.pnm (fullImgFileDestPath)\t###  PYTHON???\n",
      "\n",
      "\t\t\t\tprint \"\\ndim (new.env.layer) before = '\", dim (new.env.layer)\t###  PYTHON???\n",
      "\t\t\t\tprint \"\\n\\nis.matrix(new.env.layer) in get.img.matrix.from.pnm = '\", is.matrix(new.env.layer), \"\\n\"\t###  PYTHON???\n",
      "\t\t\t\tprint \"\\n\\nis.vector(new.env.layer) in get.img.matrix.from.pnm = '\", is.vector(new.env.layer), \"\\n\"\t###  PYTHON???\n",
      "\t\t\t\tprint \"\\n\\nclass(new.env.layer) in get.img.matrix.from.pnm = '\", class(new.env.layer), \"\\n\"\t###  PYTHON???\n",
      "\n",
      "\t\t\t\tenv.layers [curEnvLayerIdx]= new.env.layer    #  Add to stack.\n",
      "\n",
      "\t\t\t\tprint \"\\nlen (env.layers) AFTER = '\", len (env.layers)\n",
      "#  IS THIS THE CORRECT WAY TO INDEX THE ARRAY RETURNED BY READING THE PGM FILE?\n",
      "\t\t\t\tprint \"\\n\\nnew.env.layer [1:3,1:3] = \\n\", new.env.layer [1:3,1:3], \"\\n\"     #  Echo a bit of the result...\t###  PYTHON???\n",
      "\t\t\t\tfor (row in 1:3):\n",
      "\t\t\t\t\tfor (col in 1:3):\n",
      "\t\t\t\t\t\tprint \"\\nnew.env.layer [\", row, \", \", col, \"] = \", new.env.layer[row,col], \", and class = \", class(new.env.layer[row,col])\t###  PYTHON???\n",
      "\t\t\t\t#print (new.env.layer [1:3,1:3])    #  Echo a bit of the result...\t###  PYTHON???\n",
      "\n",
      "\t\t\tprint '\\n curFullMaxentEnvLayersDirName = ', curFullMaxentEnvLayersDirName\n",
      "\n",
      "\treturn (env.layers)\n",
      "\"\"\"\n"
     ],
     "language": "python",
     "metadata": {},
     "outputs": []
    },
    {
     "cell_type": "code",
     "collapsed": false,
     "input": [
      "import os\n",
      "print os.name\n",
      "\n",
      "from sys import platform as _platform\n",
      "\n",
      "\"\"\"\n",
      "if _platform == \"linux\" or _platform == \"linux2\":\n",
      "    # linux\n",
      "elif _platform == \"darwin\":\n",
      "    # OS X\n",
      "elif _platform == \"win32\":\n",
      "    # Windows...\n",
      "\"\"\"\n",
      "\n",
      "print _platform\n",
      "\n",
      "print \"_platform startswith linux\"\n",
      "print _platform.startswith (\"linux\")\n",
      "\n",
      "print \"_platform startswith dar\"\n",
      "print _platform.startswith (\"dar\")\n",
      "\n",
      "print \"os.name startswith linux\"\n",
      "print os.name.startswith (\"linux\")\n",
      "\n",
      "print \"os.name startswith posi\"\n",
      "print os.name.startswith (\"posi\")\n",
      "\n",
      "print os.uname()"
     ],
     "language": "python",
     "metadata": {},
     "outputs": [
      {
       "output_type": "stream",
       "stream": "stdout",
       "text": [
        "posix\n",
        "darwin\n",
        "_platform startswith linux\n",
        "False\n",
        "_platform startswith dar\n",
        "True\n",
        "os.name startswith linux\n",
        "False\n",
        "os.name startswith posi\n",
        "True\n"
       ]
      }
     ],
     "prompt_number": 5
    },
    {
     "cell_type": "code",
     "collapsed": false,
     "input": [
      "#  Based on:\n",
      "#  http://stackoverflow.com/questions/13753251/median-combining-fits-images-in-python\n",
      "\n",
      "import numpy\n",
      "from pprint import pprint\n",
      "a = numpy.array([[1,2,3,4],[5,6,7,8]])\n",
      "b = numpy.array([[11,12,13,14],[15,16,17,18]])\n",
      "c = numpy.array([[21,22,23,24],[25,26,27,28]])\n",
      "x = numpy.array([[31,32,33,34],[35,36,37,38]])\n",
      "\n",
      "#d = numpy.array([a,b,c])\n",
      "d = numpy.zeros((4,2,4))\n",
      "\n",
      "pprint (a)\n",
      "print a.shape\n",
      "pprint (b)\n",
      "print b.shape\n",
      "pprint (c)\n",
      "print c.shape\n",
      "\n",
      "pprint (d)\n",
      "print d.shape\n",
      "\n",
      "d[0,:,:] = a\n",
      "d[1,:,:] = b\n",
      "d[2,:,:] = c\n",
      "d[3,:,:] = x\n",
      "\n",
      "print d[1,1,1]\n",
      "print d[2,0,2]\n",
      "print d[0,0,3]\n",
      "\n",
      "pprint (d)\n",
      "print d.shape\n",
      "\n",
      "numpy.median (d, axis=0)"
     ],
     "language": "python",
     "metadata": {},
     "outputs": [
      {
       "output_type": "stream",
       "stream": "stdout",
       "text": [
        "array([[1, 2, 3, 4],\n",
        "       [5, 6, 7, 8]])\n",
        "(2, 4)\n",
        "array([[11, 12, 13, 14],\n",
        "       [15, 16, 17, 18]])\n",
        "(2, 4)\n",
        "array([[21, 22, 23, 24],\n",
        "       [25, 26, 27, 28]])\n",
        "(2, 4)\n",
        "array([[[ 0.,  0.,  0.,  0.],\n",
        "        [ 0.,  0.,  0.,  0.]],\n",
        "\n",
        "       [[ 0.,  0.,  0.,  0.],\n",
        "        [ 0.,  0.,  0.,  0.]],\n",
        "\n",
        "       [[ 0.,  0.,  0.,  0.],\n",
        "        [ 0.,  0.,  0.,  0.]],\n",
        "\n",
        "       [[ 0.,  0.,  0.,  0.],\n",
        "        [ 0.,  0.,  0.,  0.]]])\n",
        "(4, 2, 4)\n",
        "16.0\n",
        "23.0\n",
        "4.0\n",
        "array([[[  1.,   2.,   3.,   4.],\n",
        "        [  5.,   6.,   7.,   8.]],\n",
        "\n",
        "       [[ 11.,  12.,  13.,  14.],\n",
        "        [ 15.,  16.,  17.,  18.]],\n",
        "\n",
        "       [[ 21.,  22.,  23.,  24.],\n",
        "        [ 25.,  26.,  27.,  28.]],\n",
        "\n",
        "       [[ 31.,  32.,  33.,  34.],\n",
        "        [ 35.,  36.,  37.,  38.]]])\n",
        "(4, 2, 4)\n"
       ]
      },
      {
       "output_type": "pyout",
       "prompt_number": 23,
       "text": [
        "array([[ 16.,  17.,  18.,  19.],\n",
        "       [ 20.,  21.,  22.,  23.]])"
       ]
      }
     ],
     "prompt_number": 23
    },
    {
     "cell_type": "code",
     "collapsed": false,
     "input": [
      "import GuppyConstants\n",
      "print GuppyConstants.dirSlash"
     ],
     "language": "python",
     "metadata": {},
     "outputs": [
      {
       "ename": "AttributeError",
       "evalue": "'module' object has no attribute 'dirSlash'",
       "output_type": "pyerr",
       "traceback": [
        "\u001b[0;31m---------------------------------------------------------------------------\u001b[0m\n\u001b[0;31mAttributeError\u001b[0m                            Traceback (most recent call last)",
        "\u001b[0;32m<ipython-input-1-3032556c9ad1>\u001b[0m in \u001b[0;36m<module>\u001b[0;34m()\u001b[0m\n\u001b[1;32m      1\u001b[0m \u001b[0;32mimport\u001b[0m \u001b[0mGuppyConstants\u001b[0m \u001b[0;32mas\u001b[0m \u001b[0mCONST\u001b[0m\u001b[0;34m\u001b[0m\u001b[0m\n\u001b[0;32m----> 2\u001b[0;31m \u001b[0;32mprint\u001b[0m \u001b[0mCONST\u001b[0m\u001b[0;34m.\u001b[0m\u001b[0mdirSlash\u001b[0m\u001b[0;34m\u001b[0m\u001b[0m\n\u001b[0m",
        "\u001b[0;31mAttributeError\u001b[0m: 'module' object has no attribute 'dirSlash'"
       ]
      }
     ],
     "prompt_number": 1
    },
    {
     "cell_type": "code",
     "collapsed": false,
     "input": [
      "import numpy\n",
      "import netpbmfile\n",
      "import os\n",
      "from matplotlib import pyplot\n",
      "\n",
      "print \"\\nIn directory: '\" + os.getcwd() + \"'\"\n",
      "filename = \"/Users/Bill/D/Projects_RMIT/AAA_PapersInProgress/G01 - simulated_ecology/MaxentTests/AlexsSyntheticLandscapes/IDLOutputAll2/H02/H02_96.256.pgm\"\n",
      "###\"H00_1.256.pgm\"\n",
      "\n",
      "\n",
      "if True:\n",
      "    img = netpbmfile.imread (filename)\n",
      "    cmap = 'gray'\n",
      "else:\n",
      "    try:\n",
      "        netpbm = netpbmfile.NetpbmFile(filename)\n",
      "        img = netpbm.asarray()\n",
      "        netpbm.close()\n",
      "        cmap = 'gray' if netpbm.maxval > 1 else 'binary'\n",
      "    except ValueError as e:\n",
      "        print(filename, e)\n",
      "    #    continue    #  only do this if reading through a loop of filenames and you want to jump over the display logic below\n",
      "\n",
      "print \"    img.ndim = '\" + str(img.ndim) + \"'\"\n",
      "print \"    img.shape = '\" + str(img.shape) + \"'\"\n",
      "\n",
      "_shape = img.shape\n",
      "if img.ndim > 3 or (img.ndim > 2 and img.shape[-1] not in (3, 4)):    #  I have no idea what second clause is doing here...\n",
      "    img = img[0]\n",
      "pyplot.imshow(img, cmap, interpolation='nearest')\n",
      "pyplot.title(\"%s\\n%s %s %s\" % (filename, unicode(netpbm.magicnum),\n",
      "                              _shape, img.dtype))\n",
      "pyplot.show()\n"
     ],
     "language": "python",
     "metadata": {},
     "outputs": [
      {
       "output_type": "stream",
       "stream": "stdout",
       "text": [
        "\n",
        "In directory: '/Users/Bill/D/rdv-framework/projects/guppy'\n",
        "    img.ndim = '2'\n",
        "    img.shape = '(256, 256)'\n"
       ]
      }
     ],
     "prompt_number": 22
    },
    {
     "cell_type": "code",
     "collapsed": false,
     "input": [],
     "language": "python",
     "metadata": {},
     "outputs": [],
     "prompt_number": 20
    },
    {
     "cell_type": "code",
     "collapsed": false,
     "input": [],
     "language": "python",
     "metadata": {},
     "outputs": []
    }
   ],
   "metadata": {}
  }
 ]
}