{
 "metadata": {
  "name": "ipythonFeatureNotesAndTests"
 },
 "nbformat": 3,
 "nbformat_minor": 0,
 "worksheets": [
  {
   "cells": [
    {
     "cell_type": "heading",
     "level": 2,
     "metadata": {},
     "source": [
      "Trying out some ipython extensions."
     ]
    },
    {
     "cell_type": "heading",
     "level": 3,
     "metadata": {},
     "source": [
      "Most of the cells below that involved a call to the web failed at work or even at home, so I've turned those cells into raw text just to remember the code but not make the running of all cells in this notebook fail."
     ]
    },
    {
     "cell_type": "markdown",
     "metadata": {},
     "source": [
      "**Extension:  version_information**\n",
      "\n",
      "http://nbviewer.ipython.org/urls/raw.github.com/jrjohansson/version_information/master/example.ipynb\n",
      "\n",
      "This one fails all over the place, but need to try it from home to see if it's an issue with RMIT firewall, proxies, etc."
     ]
    },
    {
     "cell_type": "raw",
     "metadata": {},
     "source": [
      "%install_ext http://raw.github.com/jrjohansson/version_information/master/version_information.py\n",
      "%load_ext version_information\n",
      "%version_information\n",
      "%version_information scipy, numpy, Cython, matplotlib, qutip"
     ]
    },
    {
     "cell_type": "markdown",
     "metadata": {},
     "source": [
      "Extension:  ***Magics for temporary workspace***\n",
      "\n",
      "    %cdtemp -- Creates a temporary directory that is magically cleaned up when you exit IPython session.\n",
      "\n",
      "    %%with_temp_dir -- Run Python code in a temporary directory and clean up it after the execution.\n",
      "\n",
      "https://github.com/tkf/ipython-tempmagic"
     ]
    },
    {
     "cell_type": "code",
     "collapsed": false,
     "input": [
      "%install_ext https://raw.github.com/tkf/ipython-tempmagic/master/tempmagic.py"
     ],
     "language": "python",
     "metadata": {},
     "outputs": [
      {
       "output_type": "stream",
       "stream": "stdout",
       "text": [
        "Installed tempmagic.py. To use it, type:\n",
        "  %load_ext tempmagic\n"
       ]
      }
     ],
     "prompt_number": 34
    },
    {
     "cell_type": "markdown",
     "metadata": {},
     "source": [
      "***Extension: ipy_table***\n",
      "    \n",
      "\n",
      "ipy_table is a supporting module for IP[y]:Notebook which makes it easy to create richly formatted data tables.\n",
      "\n",
      "\n",
      "http://nbviewer.ipython.org/urls/raw.github.com/epmoyer/ipy_table/master/ipy_table-Introduction.ipynb\n",
      "    \n"
     ]
    },
    {
     "cell_type": "markdown",
     "metadata": {},
     "source": [
      "Extension:  ***flot - interactive plotting***\n",
      "\n",
      "Inline javascript plotting for IPython notebooks\n",
      "\n",
      "This package adds the ability to plot in an ipython notebook using the flot plotting backend. This makes it possible to have interactive (zoomable) plots within an ipython notebook webpage. The flot javascript library that is sourced is currently hosted at crbates.github.com/flot/. This add-in requires ipython >= 0.13\n",
      "\n",
      "https://github.com/crbates/ipython-flot/\n",
      "\n",
      "http://www.flotcharts.org/"
     ]
    },
    {
     "cell_type": "markdown",
     "metadata": {},
     "source": [
      "from IPython.display import Image\n",
      "Image(url='http://python.org/images/python-logo.gif')"
     ]
    },
    {
     "cell_type": "raw",
     "metadata": {},
     "source": [
      "from IPython.display import SVG\n",
      "SVG(filename='python-logo.svg')"
     ]
    },
    {
     "cell_type": "raw",
     "metadata": {},
     "source": [
      "from IPython.display import Image\n",
      "\n",
      "# by default Image data are embedded\n",
      "Embed      = Image(    'http://scienceview.berkeley.edu/view/images/newview.jpg')\n",
      "\n",
      "# if kwarg `url` is given, the embedding is assumed to be false\n",
      "##SoftLinked = Image(url='http://scienceview.berkeley.edu/view/images/newview.jpg')\n",
      "\n",
      "# In each case, embed can be specified explicitly with the `embed` kwarg\n",
      "# ForceEmbed = Image(url='http://scienceview.berkeley.edu/view/images/newview.jpg', embed=True)"
     ]
    },
    {
     "cell_type": "code",
     "collapsed": false,
     "input": [
      "from IPython.display import HTML"
     ],
     "language": "python",
     "metadata": {},
     "outputs": [],
     "prompt_number": 35
    },
    {
     "cell_type": "code",
     "collapsed": false,
     "input": [
      "s = \"\"\"<table>\n",
      "<tr>\n",
      "<th>Header 1</th>\n",
      "<th>Header 2</th>\n",
      "</tr>\n",
      "<tr>\n",
      "<td>row 1, cell 1</td>\n",
      "<td>row 1, cell 2</td>\n",
      "</tr>\n",
      "<tr>\n",
      "<td>row 2, cell 1</td>\n",
      "<td>row 2, cell 2</td>\n",
      "</tr>\n",
      "</table>\"\"\"\n"
     ],
     "language": "python",
     "metadata": {},
     "outputs": [],
     "prompt_number": 36
    },
    {
     "cell_type": "code",
     "collapsed": false,
     "input": [
      "h = HTML(s); h"
     ],
     "language": "python",
     "metadata": {},
     "outputs": [
      {
       "html": [
        "<table>\n",
        "<tr>\n",
        "<th>Header 1</th>\n",
        "<th>Header 2</th>\n",
        "</tr>\n",
        "<tr>\n",
        "<td>row 1, cell 1</td>\n",
        "<td>row 1, cell 2</td>\n",
        "</tr>\n",
        "<tr>\n",
        "<td>row 2, cell 1</td>\n",
        "<td>row 2, cell 2</td>\n",
        "</tr>\n",
        "</table>"
       ],
       "output_type": "pyout",
       "prompt_number": 37,
       "text": [
        "<IPython.core.display.HTML at 0x102fa6750>"
       ]
      }
     ],
     "prompt_number": 37
    },
    {
     "cell_type": "markdown",
     "metadata": {},
     "source": [
      "The following pandas section (and the display ones above) are taken from: \n",
      "\n",
      "https://wakari.io/nb/url///wakari.io/static/notebooks/Part_5___Rich_Display_System.ipynb"
     ]
    },
    {
     "cell_type": "code",
     "collapsed": false,
     "input": [
      "import pandas"
     ],
     "language": "python",
     "metadata": {},
     "outputs": [],
     "prompt_number": 38
    },
    {
     "cell_type": "markdown",
     "metadata": {},
     "source": [
      "By default, DataFrames will be represented as text; to enable HTML representations we need to set a print option:"
     ]
    },
    {
     "cell_type": "code",
     "collapsed": false,
     "input": [
      "pandas.core.format.set_printoptions(notebook_repr_html=True)"
     ],
     "language": "python",
     "metadata": {},
     "outputs": [
      {
       "output_type": "stream",
       "stream": "stderr",
       "text": [
        "/Users/Bill/anaconda/lib/python2.7/site-packages/pandas/core/format.py:1612: FutureWarning: set_printoptions is deprecated, use set_option instead\n",
        "  FutureWarning)\n"
       ]
      }
     ],
     "prompt_number": 39
    },
    {
     "cell_type": "markdown",
     "metadata": {},
     "source": [
      "Here is a small amount of stock data for APPL:"
     ]
    },
    {
     "cell_type": "code",
     "collapsed": false,
     "input": [
      "%%file data.csv\n",
      "Date,Open,High,Low,Close,Volume,Adj Close\n",
      "2012-06-01,569.16,590.00,548.50,584.00,14077000,581.50\n",
      "2012-05-01,584.90,596.76,522.18,577.73,18827900,575.26\n",
      "2012-04-02,601.83,644.00,555.00,583.98,28759100,581.48\n",
      "2012-03-01,548.17,621.45,516.22,599.55,26486000,596.99\n",
      "2012-02-01,458.41,547.61,453.98,542.44,22001000,540.12\n",
      "2012-01-03,409.40,458.24,409.00,456.48,12949100,454.53"
     ],
     "language": "python",
     "metadata": {},
     "outputs": [
      {
       "output_type": "stream",
       "stream": "stdout",
       "text": [
        "Overwriting data.csv\n"
       ]
      }
     ],
     "prompt_number": 40
    },
    {
     "cell_type": "markdown",
     "metadata": {},
     "source": [
      "Read this as into a DataFrame:"
     ]
    },
    {
     "cell_type": "code",
     "collapsed": false,
     "input": [
      "df = pandas.read_csv('data.csv')"
     ],
     "language": "python",
     "metadata": {},
     "outputs": [],
     "prompt_number": 41
    },
    {
     "cell_type": "markdown",
     "metadata": {},
     "source": [
      "And view the HTML representation:"
     ]
    },
    {
     "cell_type": "code",
     "collapsed": false,
     "input": [
      "df"
     ],
     "language": "python",
     "metadata": {},
     "outputs": [
      {
       "html": [
        "<div style=\"max-height:1000px;max-width:1500px;overflow:auto;\">\n",
        "<table border=\"1\" class=\"dataframe\">\n",
        "  <thead>\n",
        "    <tr style=\"text-align: right;\">\n",
        "      <th></th>\n",
        "      <th>Date</th>\n",
        "      <th>Open</th>\n",
        "      <th>High</th>\n",
        "      <th>Low</th>\n",
        "      <th>Close</th>\n",
        "      <th>Volume</th>\n",
        "      <th>Adj Close</th>\n",
        "    </tr>\n",
        "  </thead>\n",
        "  <tbody>\n",
        "    <tr>\n",
        "      <th>0</th>\n",
        "      <td> 2012-06-01</td>\n",
        "      <td> 569.16</td>\n",
        "      <td> 590.00</td>\n",
        "      <td> 548.50</td>\n",
        "      <td> 584.00</td>\n",
        "      <td> 14077000</td>\n",
        "      <td> 581.50</td>\n",
        "    </tr>\n",
        "    <tr>\n",
        "      <th>1</th>\n",
        "      <td> 2012-05-01</td>\n",
        "      <td> 584.90</td>\n",
        "      <td> 596.76</td>\n",
        "      <td> 522.18</td>\n",
        "      <td> 577.73</td>\n",
        "      <td> 18827900</td>\n",
        "      <td> 575.26</td>\n",
        "    </tr>\n",
        "    <tr>\n",
        "      <th>2</th>\n",
        "      <td> 2012-04-02</td>\n",
        "      <td> 601.83</td>\n",
        "      <td> 644.00</td>\n",
        "      <td> 555.00</td>\n",
        "      <td> 583.98</td>\n",
        "      <td> 28759100</td>\n",
        "      <td> 581.48</td>\n",
        "    </tr>\n",
        "    <tr>\n",
        "      <th>3</th>\n",
        "      <td> 2012-03-01</td>\n",
        "      <td> 548.17</td>\n",
        "      <td> 621.45</td>\n",
        "      <td> 516.22</td>\n",
        "      <td> 599.55</td>\n",
        "      <td> 26486000</td>\n",
        "      <td> 596.99</td>\n",
        "    </tr>\n",
        "    <tr>\n",
        "      <th>4</th>\n",
        "      <td> 2012-02-01</td>\n",
        "      <td> 458.41</td>\n",
        "      <td> 547.61</td>\n",
        "      <td> 453.98</td>\n",
        "      <td> 542.44</td>\n",
        "      <td> 22001000</td>\n",
        "      <td> 540.12</td>\n",
        "    </tr>\n",
        "    <tr>\n",
        "      <th>5</th>\n",
        "      <td> 2012-01-03</td>\n",
        "      <td> 409.40</td>\n",
        "      <td> 458.24</td>\n",
        "      <td> 409.00</td>\n",
        "      <td> 456.48</td>\n",
        "      <td> 12949100</td>\n",
        "      <td> 454.53</td>\n",
        "    </tr>\n",
        "  </tbody>\n",
        "</table>\n",
        "</div>"
       ],
       "output_type": "pyout",
       "prompt_number": 42,
       "text": [
        "         Date    Open    High     Low   Close    Volume  Adj Close\n",
        "0  2012-06-01  569.16  590.00  548.50  584.00  14077000     581.50\n",
        "1  2012-05-01  584.90  596.76  522.18  577.73  18827900     575.26\n",
        "2  2012-04-02  601.83  644.00  555.00  583.98  28759100     581.48\n",
        "3  2012-03-01  548.17  621.45  516.22  599.55  26486000     596.99\n",
        "4  2012-02-01  458.41  547.61  453.98  542.44  22001000     540.12\n",
        "5  2012-01-03  409.40  458.24  409.00  456.48  12949100     454.53"
       ]
      }
     ],
     "prompt_number": 42
    },
    {
     "cell_type": "markdown",
     "metadata": {},
     "source": [
      "You can even embed an entire page from another site in an iframe; for example this is today's Wikipedia page for mobile users:"
     ]
    },
    {
     "cell_type": "code",
     "collapsed": false,
     "input": [
      "from IPython.display import HTML\n",
      "HTML('<iframe src=http://en.mobile.wikipedia.org/?useformat=mobile width=700 height=350></iframe>')"
     ],
     "language": "python",
     "metadata": {},
     "outputs": [
      {
       "html": [
        "<iframe src=http://en.mobile.wikipedia.org/?useformat=mobile width=700 height=350></iframe>"
       ],
       "output_type": "pyout",
       "prompt_number": 43,
       "text": [
        "<IPython.core.display.HTML at 0x10043ecd0>"
       ]
      }
     ],
     "prompt_number": 43
    },
    {
     "cell_type": "markdown",
     "metadata": {},
     "source": [
      "And we also support the display of mathematical expressions typeset in LaTeX, which is rendered in the browser thanks to the MathJax library."
     ]
    },
    {
     "cell_type": "code",
     "collapsed": false,
     "input": [
      "from IPython.display import Math\n",
      "Math(r'F(k) = \\int_{-\\infty}^{\\infty} f(x) e^{2\\pi i k} dx')"
     ],
     "language": "python",
     "metadata": {},
     "outputs": [
      {
       "latex": [
        "$$F(k) = \\int_{-\\infty}^{\\infty} f(x) e^{2\\pi i k} dx$$"
       ],
       "output_type": "pyout",
       "prompt_number": 44,
       "text": [
        "<IPython.core.display.Math at 0x108bb5d90>"
       ]
      }
     ],
     "prompt_number": 44
    },
    {
     "cell_type": "markdown",
     "metadata": {},
     "source": [
      "Much more about Latex follows on the example page I've been copying from.  There's also a bunch of other stuff about things like embedding movies, etc."
     ]
    },
    {
     "cell_type": "heading",
     "level": 3,
     "metadata": {},
     "source": [
      "Example of running a system call from inside ipython"
     ]
    },
    {
     "cell_type": "code",
     "collapsed": false,
     "input": [
      "!ls"
     ],
     "language": "python",
     "metadata": {},
     "outputs": [
      {
       "output_type": "stream",
       "stream": "stdout",
       "text": [
        "\u001b[34m44_Scen_1\u001b[m\u001b[m\r\n",
        "\u001b[34mFrozen before undoing dir.slash changes 2013 05 06\u001b[m\u001b[m\r\n",
        "H01_1.asc\r\n",
        "H01_1.pnm\r\n",
        "H01_99.pnm\r\n",
        "\u001b[34mLatestVersions\u001b[m\u001b[m\r\n",
        "\u001b[34mOutdatedVersions\u001b[m\u001b[m\r\n",
        "__init__$py.class\r\n",
        "__init__.py\r\n",
        "__init__.pyc\r\n",
        "analyzeZonationResults.R\r\n",
        "buildEnvLayers.R\r\n",
        "buildEnvLayers.py\r\n",
        "computeSppDistributions.R\r\n",
        "computeSppDistributions.v1.R\r\n",
        "computeTrueRelProbDist.R\r\n",
        "createSampledPresences.R\r\n",
        "createTruePresences.R\r\n",
        "data.csv\r\n",
        "e.noReps.flags\r\n",
        "environmentVarsFromSetCmd.txt\r\n",
        "evaluateMaxentResults.R\r\n",
        "execlocal.flags\r\n",
        "execlocal.noReps.flags\r\n",
        "execlocal.withReps.flags\r\n",
        "genCombinedSppPresTable.R\r\n",
        "getPnmImgsFromFiles.R\r\n",
        "guppy src files after getting zonation to work but failing at norm.prob.dist occurrence in runZonation.R - 2013 05 06 1222 pm.zip.zip\r\n",
        "guppyBuildEnvLayers.ipynb\r\n",
        "guppyBuildEnvLayers.py\r\n",
        "guppyInitializations.R\r\n",
        "guppyInitializations.ipynb\r\n",
        "guppyInitializations.py\r\n",
        "guppyInitializations.py.scratch\r\n",
        "guppySupportFunctions.R\r\n",
        "\u001b[34minput_data\u001b[m\u001b[m\r\n",
        "ipython.config-h.txt\r\n",
        "ipython.help.txt\r\n",
        "ipython.notebook--help-all.doc\r\n",
        "ipython.notebook--help-all.txt\r\n",
        "ipython.notebook.help.txt\r\n",
        "ipythonFeatureNotesAndTests.ipynb\r\n",
        "ipythonFeatureNotesAndTests.py\r\n",
        "model$py.class\r\n",
        "model.py\r\n",
        "model.pyc\r\n",
        "\u001b[31mnetpbmfile.py\u001b[m\u001b[m\r\n",
        "netpbmfile.pyc\r\n",
        "note about sort and order functions in R.txt\r\n",
        "projectparams.local.yaml\r\n",
        "projectparams.remote.yaml\r\n",
        "projectparams.yaml\r\n",
        "read.R\r\n",
        "repetitions.yaml\r\n",
        "runMaxent.R\r\n",
        "runMaxent.py\r\n",
        "runMaxentCmd.R\r\n",
        "runZonation.R\r\n",
        "saveCombinedPresencesForMaxent.R\r\n",
        "scheduleruns.noReps.flags\r\n",
        "scheduleruns.withReps.flags\r\n",
        "small.z.rank.test.app.asc\r\n",
        "small.z.rank.test.asc\r\n",
        "small.z.rank.test.cor.asc\r\n",
        "testDownloaded.H01_1.256.asc\r\n",
        "w.R\r\n",
        "zonationTruePositiveFraction.pdf\r\n",
        "\u001b[31mzonation_app_output.rank.asc\u001b[m\u001b[m\r\n",
        "\u001b[31mzonation_cor_output.rank.asc\u001b[m\u001b[m\r\n"
       ]
      }
     ],
     "prompt_number": 1
    },
    {
     "cell_type": "code",
     "collapsed": false,
     "input": [
      "x = !ls"
     ],
     "language": "python",
     "metadata": {},
     "outputs": [],
     "prompt_number": 1
    },
    {
     "cell_type": "code",
     "collapsed": false,
     "input": [
      "print x"
     ],
     "language": "python",
     "metadata": {},
     "outputs": [
      {
       "output_type": "stream",
       "stream": "stdout",
       "text": [
        "['44_Scen_1', 'Frozen before undoing dir.slash changes 2013 05 06', 'H01_1.asc', 'H01_1.pnm', 'H01_99.pnm', 'LatestVersions', 'OutdatedVersions', '__init__$py.class', '__init__.py', '__init__.pyc', 'analyzeZonationResults.R', 'buildEnvLayers.R', 'buildEnvLayers.py', 'computeSppDistributions.R', 'computeSppDistributions.v1.R', 'computeTrueRelProbDist.R', 'createSampledPresences.R', 'createTruePresences.R', 'data.csv', 'e.noReps.flags', 'environmentVarsFromSetCmd.txt', 'evaluateMaxentResults.R', 'execlocal.flags', 'execlocal.noReps.flags', 'execlocal.withReps.flags', 'genCombinedSppPresTable.R', 'getPnmImgsFromFiles.R', 'guppy src files after getting zonation to work but failing at norm.prob.dist occurrence in runZonation.R - 2013 05 06 1222 pm.zip.zip', 'guppyBuildEnvLayers.ipynb', 'guppyBuildEnvLayers.py', 'guppyInitializations.R', 'guppyInitializations.ipynb', 'guppyInitializations.py', 'guppyInitializations.py.scratch', 'guppySupportFunctions.R', 'input_data', 'ipython.config-h.txt', 'ipython.help.txt', 'ipython.notebook--help-all.doc', 'ipython.notebook--help-all.txt', 'ipython.notebook.help.txt', 'ipythonFeatureNotesAndTests.ipynb', 'ipythonFeatureNotesAndTests.py', 'model$py.class', 'model.py', 'model.pyc', 'netpbmfile.py', 'netpbmfile.pyc', 'note about sort and order functions in R.txt', 'projectparams.local.yaml', 'projectparams.remote.yaml', 'projectparams.yaml', 'read.R', 'repetitions.yaml', 'runMaxent.R', 'runMaxent.py', 'runMaxentCmd.R', 'runZonation.R', 'saveCombinedPresencesForMaxent.R', 'scheduleruns.noReps.flags', 'scheduleruns.withReps.flags', 'small.z.rank.test.app.asc', 'small.z.rank.test.asc', 'small.z.rank.test.cor.asc', 'testDownloaded.H01_1.256.asc', 'w.R', 'zonationTruePositiveFraction.pdf', 'zonation_app_output.rank.asc', 'zonation_cor_output.rank.asc']\n"
       ]
      }
     ],
     "prompt_number": 2
    },
    {
     "cell_type": "code",
     "collapsed": false,
     "input": [
      "pprint (x)"
     ],
     "language": "python",
     "metadata": {},
     "outputs": [
      {
       "output_type": "stream",
       "stream": "stdout",
       "text": [
        "Pretty printing has been turned OFF\n"
       ]
      }
     ],
     "prompt_number": 3
    },
    {
     "cell_type": "code",
     "collapsed": false,
     "input": [
      "profile()\n"
     ],
     "language": "python",
     "metadata": {},
     "outputs": [
      {
       "output_type": "stream",
       "stream": "stdout",
       "text": [
        "default\n"
       ]
      }
     ],
     "prompt_number": 4
    },
    {
     "cell_type": "code",
     "collapsed": false,
     "input": [
      "pprint()"
     ],
     "language": "python",
     "metadata": {},
     "outputs": [
      {
       "output_type": "stream",
       "stream": "stdout",
       "text": [
        "Pretty printing has been turned ON\n"
       ]
      }
     ],
     "prompt_number": 5
    },
    {
     "cell_type": "code",
     "collapsed": false,
     "input": [
      "pprint (x)\n"
     ],
     "language": "python",
     "metadata": {},
     "outputs": [
      {
       "output_type": "stream",
       "stream": "stdout",
       "text": [
        "Pretty printing has been turned OFF\n"
       ]
      }
     ],
     "prompt_number": 6
    },
    {
     "cell_type": "code",
     "collapsed": false,
     "input": [
      "pprint()"
     ],
     "language": "python",
     "metadata": {},
     "outputs": [
      {
       "output_type": "stream",
       "stream": "stdout",
       "text": [
        "Pretty printing has been turned ON\n"
       ]
      }
     ],
     "prompt_number": 7
    },
    {
     "cell_type": "code",
     "collapsed": false,
     "input": [
      "from pprint import pprint as ppp"
     ],
     "language": "python",
     "metadata": {},
     "outputs": [],
     "prompt_number": 11
    },
    {
     "cell_type": "code",
     "collapsed": false,
     "input": [
      "pprint(x)\n"
     ],
     "language": "python",
     "metadata": {},
     "outputs": [
      {
       "output_type": "stream",
       "stream": "stdout",
       "text": [
        "['44_Scen_1',\n",
        " 'Frozen before undoing dir.slash changes 2013 05 06',\n",
        " 'H01_1.asc',\n",
        " 'H01_1.pnm',\n",
        " 'H01_99.pnm',\n",
        " 'LatestVersions',\n",
        " 'OutdatedVersions',\n",
        " '__init__$py.class',\n",
        " '__init__.py',\n",
        " '__init__.pyc',\n",
        " 'analyzeZonationResults.R',\n",
        " 'buildEnvLayers.R',\n",
        " 'buildEnvLayers.py',\n",
        " 'computeSppDistributions.R',\n",
        " 'computeSppDistributions.v1.R',\n",
        " 'computeTrueRelProbDist.R',\n",
        " 'createSampledPresences.R',\n",
        " 'createTruePresences.R',\n",
        " 'data.csv',\n",
        " 'e.noReps.flags',\n",
        " 'environmentVarsFromSetCmd.txt',\n",
        " 'evaluateMaxentResults.R',\n",
        " 'execlocal.flags',\n",
        " 'execlocal.noReps.flags',\n",
        " 'execlocal.withReps.flags',\n",
        " 'genCombinedSppPresTable.R',\n",
        " 'getPnmImgsFromFiles.R',\n",
        " 'guppy src files after getting zonation to work but failing at norm.prob.dist occurrence in runZonation.R - 2013 05 06 1222 pm.zip.zip',\n",
        " 'guppyBuildEnvLayers.ipynb',\n",
        " 'guppyBuildEnvLayers.py',\n",
        " 'guppyInitializations.R',\n",
        " 'guppyInitializations.ipynb',\n",
        " 'guppyInitializations.py',\n",
        " 'guppyInitializations.py.scratch',\n",
        " 'guppySupportFunctions.R',\n",
        " 'input_data',\n",
        " 'ipython.config-h.txt',\n",
        " 'ipython.help.txt',\n",
        " 'ipython.notebook--help-all.doc',\n",
        " 'ipython.notebook--help-all.txt',\n",
        " 'ipython.notebook.help.txt',\n",
        " 'ipythonFeatureNotesAndTests.ipynb',\n",
        " 'ipythonFeatureNotesAndTests.py',\n",
        " 'model$py.class',\n",
        " 'model.py',\n",
        " 'model.pyc',\n",
        " 'netpbmfile.py',\n",
        " 'netpbmfile.pyc',\n",
        " 'note about sort and order functions in R.txt',\n",
        " 'projectparams.local.yaml',\n",
        " 'projectparams.remote.yaml',\n",
        " 'projectparams.yaml',\n",
        " 'read.R',\n",
        " 'repetitions.yaml',\n",
        " 'runMaxent.R',\n",
        " 'runMaxent.py',\n",
        " 'runMaxentCmd.R',\n",
        " 'runZonation.R',\n",
        " 'saveCombinedPresencesForMaxent.R',\n",
        " 'scheduleruns.noReps.flags',\n",
        " 'scheduleruns.withReps.flags',\n",
        " 'small.z.rank.test.app.asc',\n",
        " 'small.z.rank.test.asc',\n",
        " 'small.z.rank.test.cor.asc',\n",
        " 'testDownloaded.H01_1.256.asc',\n",
        " 'w.R',\n",
        " 'zonationTruePositiveFraction.pdf',\n",
        " 'zonation_app_output.rank.asc',\n",
        " 'zonation_cor_output.rank.asc']\n"
       ]
      }
     ],
     "prompt_number": 9
    },
    {
     "cell_type": "code",
     "collapsed": false,
     "input": [
      "pprint()\n"
     ],
     "language": "python",
     "metadata": {},
     "outputs": [
      {
       "ename": "TypeError",
       "evalue": "pprint() takes at least 1 argument (0 given)",
       "output_type": "pyerr",
       "traceback": [
        "\u001b[0;31m---------------------------------------------------------------------------\u001b[0m\n\u001b[0;31mTypeError\u001b[0m                                 Traceback (most recent call last)",
        "\u001b[0;32m<ipython-input-10-685bdfc364b8>\u001b[0m in \u001b[0;36m<module>\u001b[0;34m()\u001b[0m\n\u001b[0;32m----> 1\u001b[0;31m \u001b[0mpprint\u001b[0m\u001b[0;34m(\u001b[0m\u001b[0;34m)\u001b[0m\u001b[0;34m\u001b[0m\u001b[0m\n\u001b[0m",
        "\u001b[0;31mTypeError\u001b[0m: pprint() takes at least 1 argument (0 given)"
       ]
      }
     ],
     "prompt_number": 10
    },
    {
     "cell_type": "markdown",
     "metadata": {},
     "source": [
      "### Experimenting with netpbm library for reading and writing ppm (pgm) files."
     ]
    },
    {
     "cell_type": "code",
     "collapsed": false,
     "input": [
      "import netpbmfile\n",
      "from matplotlib import pyplot\n",
      "\n",
      "displayImagesOnScreen = True\n",
      "filename = \"distToCluster.1.pgm\"\n",
      "\n",
      "try:\n",
      "    netpbm = netpbmfile.NetpbmFile (filename)\n",
      "    img = netpbm.asarray ()\n",
      "    netpbm.close ()\n",
      "    cmap = 'gray' if netpbm.maxval > 1 else 'binary'\n",
      "except ValueError as e:\n",
      "    print(filename, e)\n",
      "\n",
      "print \"    img.ndim = '\" + str(img.ndim) + \"'\"\n",
      "print \"    img.shape = '\" + str(img.shape) + \"'\"\n",
      "\n",
      "if displayImagesOnScreen:\n",
      "    _shape = img.shape\n",
      "        #  I have no idea what second clause is doing here...\n",
      "    if img.ndim > 3 or (img.ndim > 2 and img.shape[-1] not in (3, 4)):\n",
      "        img = img[0]\n",
      "    pyplot.imshow(img, cmap, interpolation='nearest')\n",
      "    pyplot.title(\"%s\\n%s %s %s\" % (filename, unicode(netpbm.magicnum),\n",
      "                                   _shape, img.dtype))\n",
      "    pyplot.show()\n",
      "\n"
     ],
     "language": "python",
     "metadata": {},
     "outputs": [
      {
       "output_type": "stream",
       "stream": "stdout",
       "text": [
        "    img.ndim = '2'\n",
        "    img.shape = '(256, 256)'\n"
       ]
      }
     ],
     "prompt_number": 5
    },
    {
     "cell_type": "code",
     "collapsed": false,
     "input": [],
     "language": "python",
     "metadata": {},
     "outputs": []
    }
   ],
   "metadata": {}
  }
 ]
}